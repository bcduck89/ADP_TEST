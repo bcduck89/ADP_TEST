{
 "cells": [
  {
   "cell_type": "markdown",
   "metadata": {},
   "source": [
    "- 구두점 제거\n",
    "- 단어 토큰화 및 소문자 변환\n",
    "- 불용어 제거\n",
    "- 형태소 분석\n",
    "- POS 태깅을 통한 표제어 추출\n",
    "- TF-IDF 변환을 통한 단어의 숫자화 표현\n",
    "- TF-IDF 벡터에 나이브 베이즈 모델을 적용해 메시지가 스팸인지 아닌지 예측하는 것을 훈련과 테스트 데이터에서 수행"
   ]
  },
  {
   "cell_type": "markdown",
   "metadata": {},
   "source": [
    "## K-최근접 이웃\n",
    "- 모델이 훈련 데이터의 관측값을 기억해 뒀다가 처음 보는 테스트 데이터를 분류하는데 사용\n",
    "- 게으른 학슴 -> 전혀 학습을하지 않음\n",
    "- 빅데이터에는 전혀 효율적이지 못하다\n",
    "- 차원의 저주\n",
    "### KNN 투표 예제\n",
    "### 차원의 저주\n",
    "- KNN은 순전히 거리에만 의존"
   ]
  },
  {
   "cell_type": "code",
   "execution_count": 17,
   "metadata": {},
   "outputs": [],
   "source": [
    "# 모듈 가져오기\n",
    "import pandas as pd\n",
    "import numpy as np\n",
    "import random, math"
   ]
  },
  {
   "cell_type": "code",
   "execution_count": 18,
   "metadata": {},
   "outputs": [],
   "source": [
    "# n 차원 난수 생성기\n",
    "def random_point_gen(dimension):\n",
    "    return [random.random() for _ in range(dimension)]"
   ]
  },
  {
   "cell_type": "code",
   "execution_count": 19,
   "metadata": {},
   "outputs": [],
   "source": [
    "# 두점 \n",
    "def distance(v,w):\n",
    "    vec_sub = [v_i - w_i for v_i, w_i in zip(v,w)]\n",
    "    sum_of_sqrs = sum(v_i**2 for v_i in vec_sub)\n",
    "    return math.sqrt(sum_of_sqrs)"
   ]
  },
  {
   "cell_type": "code",
   "execution_count": 20,
   "metadata": {},
   "outputs": [],
   "source": [
    "def random_distances_comparision(dimension, number_pairs):\n",
    "    return [distance(random_point_gen(dimension),random_point_gen(dimension)) for _ in range(number_pairs)]\n",
    "\n",
    "def mean(x):\n",
    "    return sum(x)/len(x)"
   ]
  },
  {
   "cell_type": "code",
   "execution_count": 21,
   "metadata": {},
   "outputs": [],
   "source": [
    "# 차원 정의\n",
    "dimensions = range(1,201,5)"
   ]
  },
  {
   "cell_type": "code",
   "execution_count": 34,
   "metadata": {},
   "outputs": [],
   "source": [
    "avg_distance = list()\n",
    "min_distance = list()\n",
    "dummyarray = np.empty((20,4))\n",
    "dist_vals = pd.DataFrame(dummyarray)\n",
    "dist_vals.columns = ['Dimension', 'Min_Distance', 'Avg_Distance', 'Min/Avg_Distance']"
   ]
  },
  {
   "cell_type": "code",
   "execution_count": 35,
   "metadata": {},
   "outputs": [
    {
     "data": {
      "text/html": [
       "<div>\n",
       "<style scoped>\n",
       "    .dataframe tbody tr th:only-of-type {\n",
       "        vertical-align: middle;\n",
       "    }\n",
       "\n",
       "    .dataframe tbody tr th {\n",
       "        vertical-align: top;\n",
       "    }\n",
       "\n",
       "    .dataframe thead th {\n",
       "        text-align: right;\n",
       "    }\n",
       "</style>\n",
       "<table border=\"1\" class=\"dataframe\">\n",
       "  <thead>\n",
       "    <tr style=\"text-align: right;\">\n",
       "      <th></th>\n",
       "      <th>Dimension</th>\n",
       "      <th>Min_Distance</th>\n",
       "      <th>Avg_Distance</th>\n",
       "      <th>Min/Avg_Distance</th>\n",
       "    </tr>\n",
       "  </thead>\n",
       "  <tbody>\n",
       "    <tr>\n",
       "      <th>0</th>\n",
       "      <td>1.208125e-311</td>\n",
       "      <td>1.208139e-311</td>\n",
       "      <td>1.208118e-311</td>\n",
       "      <td>1.208179e-311</td>\n",
       "    </tr>\n",
       "    <tr>\n",
       "      <th>1</th>\n",
       "      <td>1.208179e-311</td>\n",
       "      <td>1.208122e-311</td>\n",
       "      <td>1.208139e-311</td>\n",
       "      <td>1.208138e-311</td>\n",
       "    </tr>\n",
       "    <tr>\n",
       "      <th>2</th>\n",
       "      <td>1.208118e-311</td>\n",
       "      <td>1.208118e-311</td>\n",
       "      <td>1.208118e-311</td>\n",
       "      <td>1.208118e-311</td>\n",
       "    </tr>\n",
       "    <tr>\n",
       "      <th>3</th>\n",
       "      <td>1.208118e-311</td>\n",
       "      <td>1.208118e-311</td>\n",
       "      <td>1.208118e-311</td>\n",
       "      <td>1.208118e-311</td>\n",
       "    </tr>\n",
       "    <tr>\n",
       "      <th>4</th>\n",
       "      <td>1.208118e-311</td>\n",
       "      <td>1.208118e-311</td>\n",
       "      <td>1.208118e-311</td>\n",
       "      <td>1.208118e-311</td>\n",
       "    </tr>\n",
       "    <tr>\n",
       "      <th>5</th>\n",
       "      <td>1.208118e-311</td>\n",
       "      <td>1.208118e-311</td>\n",
       "      <td>1.208118e-311</td>\n",
       "      <td>1.208118e-311</td>\n",
       "    </tr>\n",
       "    <tr>\n",
       "      <th>6</th>\n",
       "      <td>1.208118e-311</td>\n",
       "      <td>1.208118e-311</td>\n",
       "      <td>1.208118e-311</td>\n",
       "      <td>1.208118e-311</td>\n",
       "    </tr>\n",
       "    <tr>\n",
       "      <th>7</th>\n",
       "      <td>1.208118e-311</td>\n",
       "      <td>1.208118e-311</td>\n",
       "      <td>1.208118e-311</td>\n",
       "      <td>1.208118e-311</td>\n",
       "    </tr>\n",
       "    <tr>\n",
       "      <th>8</th>\n",
       "      <td>1.208118e-311</td>\n",
       "      <td>1.208118e-311</td>\n",
       "      <td>1.208118e-311</td>\n",
       "      <td>1.208118e-311</td>\n",
       "    </tr>\n",
       "    <tr>\n",
       "      <th>9</th>\n",
       "      <td>1.208118e-311</td>\n",
       "      <td>1.208118e-311</td>\n",
       "      <td>1.208118e-311</td>\n",
       "      <td>1.208139e-311</td>\n",
       "    </tr>\n",
       "    <tr>\n",
       "      <th>10</th>\n",
       "      <td>1.208139e-311</td>\n",
       "      <td>1.208154e-311</td>\n",
       "      <td>1.208179e-311</td>\n",
       "      <td>1.208179e-311</td>\n",
       "    </tr>\n",
       "    <tr>\n",
       "      <th>11</th>\n",
       "      <td>1.208179e-311</td>\n",
       "      <td>1.208179e-311</td>\n",
       "      <td>1.208179e-311</td>\n",
       "      <td>1.208179e-311</td>\n",
       "    </tr>\n",
       "    <tr>\n",
       "      <th>12</th>\n",
       "      <td>1.208179e-311</td>\n",
       "      <td>1.208179e-311</td>\n",
       "      <td>1.208179e-311</td>\n",
       "      <td>1.208139e-311</td>\n",
       "    </tr>\n",
       "    <tr>\n",
       "      <th>13</th>\n",
       "      <td>1.208139e-311</td>\n",
       "      <td>1.208139e-311</td>\n",
       "      <td>1.208139e-311</td>\n",
       "      <td>1.208143e-311</td>\n",
       "    </tr>\n",
       "    <tr>\n",
       "      <th>14</th>\n",
       "      <td>1.208125e-311</td>\n",
       "      <td>1.208118e-311</td>\n",
       "      <td>1.208123e-311</td>\n",
       "      <td>1.208125e-311</td>\n",
       "    </tr>\n",
       "    <tr>\n",
       "      <th>15</th>\n",
       "      <td>1.208138e-311</td>\n",
       "      <td>1.208139e-311</td>\n",
       "      <td>1.208124e-311</td>\n",
       "      <td>1.208119e-311</td>\n",
       "    </tr>\n",
       "    <tr>\n",
       "      <th>16</th>\n",
       "      <td>1.208125e-311</td>\n",
       "      <td>1.208179e-311</td>\n",
       "      <td>1.208179e-311</td>\n",
       "      <td>1.208118e-311</td>\n",
       "    </tr>\n",
       "    <tr>\n",
       "      <th>17</th>\n",
       "      <td>1.208118e-311</td>\n",
       "      <td>1.208118e-311</td>\n",
       "      <td>1.208118e-311</td>\n",
       "      <td>1.208118e-311</td>\n",
       "    </tr>\n",
       "    <tr>\n",
       "      <th>18</th>\n",
       "      <td>1.208118e-311</td>\n",
       "      <td>1.208118e-311</td>\n",
       "      <td>1.208118e-311</td>\n",
       "      <td>1.208118e-311</td>\n",
       "    </tr>\n",
       "    <tr>\n",
       "      <th>19</th>\n",
       "      <td>1.208118e-311</td>\n",
       "      <td>1.208118e-311</td>\n",
       "      <td>1.208118e-311</td>\n",
       "      <td>1.208118e-311</td>\n",
       "    </tr>\n",
       "  </tbody>\n",
       "</table>\n",
       "</div>"
      ],
      "text/plain": [
       "        Dimension   Min_Distance   Avg_Distance  Min/Avg_Distance\n",
       "0   1.208125e-311  1.208139e-311  1.208118e-311     1.208179e-311\n",
       "1   1.208179e-311  1.208122e-311  1.208139e-311     1.208138e-311\n",
       "2   1.208118e-311  1.208118e-311  1.208118e-311     1.208118e-311\n",
       "3   1.208118e-311  1.208118e-311  1.208118e-311     1.208118e-311\n",
       "4   1.208118e-311  1.208118e-311  1.208118e-311     1.208118e-311\n",
       "5   1.208118e-311  1.208118e-311  1.208118e-311     1.208118e-311\n",
       "6   1.208118e-311  1.208118e-311  1.208118e-311     1.208118e-311\n",
       "7   1.208118e-311  1.208118e-311  1.208118e-311     1.208118e-311\n",
       "8   1.208118e-311  1.208118e-311  1.208118e-311     1.208118e-311\n",
       "9   1.208118e-311  1.208118e-311  1.208118e-311     1.208139e-311\n",
       "10  1.208139e-311  1.208154e-311  1.208179e-311     1.208179e-311\n",
       "11  1.208179e-311  1.208179e-311  1.208179e-311     1.208179e-311\n",
       "12  1.208179e-311  1.208179e-311  1.208179e-311     1.208139e-311\n",
       "13  1.208139e-311  1.208139e-311  1.208139e-311     1.208143e-311\n",
       "14  1.208125e-311  1.208118e-311  1.208123e-311     1.208125e-311\n",
       "15  1.208138e-311  1.208139e-311  1.208124e-311     1.208119e-311\n",
       "16  1.208125e-311  1.208179e-311  1.208179e-311     1.208118e-311\n",
       "17  1.208118e-311  1.208118e-311  1.208118e-311     1.208118e-311\n",
       "18  1.208118e-311  1.208118e-311  1.208118e-311     1.208118e-311\n",
       "19  1.208118e-311  1.208118e-311  1.208118e-311     1.208118e-311"
      ]
     },
     "execution_count": 35,
     "metadata": {},
     "output_type": "execute_result"
    }
   ],
   "source": [
    "# 데이터 프레임 확인\n",
    "dist_vals"
   ]
  },
  {
   "cell_type": "code",
   "execution_count": 36,
   "metadata": {},
   "outputs": [],
   "source": [
    "random.seed(34)"
   ]
  },
  {
   "cell_type": "code",
   "execution_count": 38,
   "metadata": {},
   "outputs": [
    {
     "name": "stdout",
     "output_type": "stream",
     "text": [
      "1 0.0001328669720868092 0.3364040624092768 0.00039496244823928505\n",
      "6 0.2940597396924621 0.975737380500704 0.3013718092275649\n",
      "11 0.576193831565219 1.3402604819523494 0.4299118263383256\n",
      "16 0.8050109090216616 1.6077906871518648 0.5006938499237767\n",
      "21 1.0245317926201623 1.851505153088722 0.5533507648687963\n",
      "26 1.2430396490732003 2.07477378936868 0.599120566995131\n",
      "31 1.2655438675739858 2.2647243970282602 0.55880700946862\n",
      "36 1.5200106246659733 2.439426123695403 0.6231017245824035\n",
      "41 1.8144213841010555 2.6110369409099996 0.6949045245865777\n",
      "46 2.037170802171377 2.7690512474106797 0.7356927048845056\n",
      "51 1.984949258140909 2.8907554101505304 0.6866541704535102\n",
      "56 2.370160708328544 3.047288283769927 0.7777933978062357\n",
      "61 2.4684401163780234 3.1815479924017573 0.7758613487123898\n",
      "66 2.4774130594314943 3.298115873921975 0.7511601029606831\n",
      "71 2.649769568215867 3.4358430189013283 0.7712138050658606\n",
      "76 2.521390877067885 3.553620741781199 0.7095272850653375\n",
      "81 2.943247182459813 3.672317620719029 0.8014685782771518\n",
      "86 3.1303424298020133 3.7793211669254325 0.8282816652887485\n",
      "91 3.086600472988934 3.886783120330004 0.7941272711729974\n",
      "96 3.236984516984958 3.994839003901952 0.8102916072020022\n",
      "101 3.0682790687884833 4.099012981254037 0.7485409494482218\n",
      "106 3.408156176155859 4.195375620755361 0.812360199476545\n",
      "111 3.4585314034044927 4.301169904879474 0.8040908589732649\n",
      "116 3.464876640459919 4.403744302465549 0.7868024123289854\n",
      "121 3.65516487308663 4.4992157701470425 0.8124004403921203\n",
      "126 3.894109977918181 4.567900139519025 0.8524945508831132\n",
      "131 3.7932470155065228 4.6608242961055115 0.8138575441850665\n",
      "136 4.006378523373596 4.746164093120917 0.8441297950866121\n",
      "141 4.0552970509516735 4.839673171970283 0.8379278738156442\n",
      "146 4.1975081668626695 4.918915703045984 0.8533401302777782\n",
      "151 4.248458980722939 5.0193445823455045 0.8464170791672692\n",
      "156 4.336040106703989 5.101257070716343 0.8499944320773275\n",
      "161 4.3975393243628815 5.170774758375995 0.8504604299847773\n",
      "166 4.55895136908837 5.251058508267146 0.8681966430027129\n",
      "171 4.677323489283876 5.337434876891012 0.8763242263685206\n",
      "176 4.727548715565631 5.406575702905869 0.8744071988161969\n",
      "181 4.64826176681254 5.488120637229301 0.8469678554951069\n",
      "186 4.599145122298027 5.569869526925361 0.825718645664006\n",
      "191 4.873695956491642 5.637154785088807 0.864566637301385\n",
      "196 4.873917377024038 5.709494259778291 0.8536513314952173\n"
     ]
    }
   ],
   "source": [
    "i = 0\n",
    "for dims in dimensions:\n",
    "    distances = random_distances_comparision(dims, 1000)\n",
    "    avg_distance.append(mean(distances))\n",
    "    min_distance.append(min(distances))\n",
    "    dist_vals.loc[i, 'Dimension'] = dims\n",
    "    dist_vals.loc[i, 'Min_Distance'] = min(distances)\n",
    "    dist_vals.loc[i, 'Avg_Distance'] = mean(distances)\n",
    "    dist_vals.loc[i, 'Min/Avg_Distance'] = min(distances)/mean(distances)\n",
    "    print(dims, min(distances), mean(distances), min(distances)*1.0 / mean(distances))\n",
    "    i += 1"
   ]
  },
  {
   "cell_type": "code",
   "execution_count": 39,
   "metadata": {},
   "outputs": [
    {
     "name": "stderr",
     "output_type": "stream",
     "text": [
      "No handles with labels found to put in legend.\n"
     ]
    },
    {
     "data": {
      "image/png": "[encoded data removed]",
      "text/plain": [
       "<Figure size 432x288 with 1 Axes>"
      ]
     },
     "metadata": {
      "needs_background": "light"
     },
     "output_type": "display_data"
    }
   ],
   "source": [
    "# 여러 차원에 관한 거리를 그린다.\n",
    "import matplotlib.pyplot as plt\n",
    "plt.figure()\n",
    "plt.xlabel('Dimension')\n",
    "plt.ylabel('Avg. Distance')\n",
    "plt.plot(dist_vals['Dimension'], dist_vals['Avg_Distance'])\n",
    "plt.legend(loc = 'best')\n",
    "plt.show()"
   ]
  },
  {
   "cell_type": "markdown",
   "metadata": {},
   "source": [
    "- 차원이 증가할수록 평균 거리는 로그에 비례해 증가한다는 것이 증명\n",
    "- 차원이 높아질수록 차원의 저주를 극복하기 위한 더 많은 데이터가 필요"
   ]
  },
  {
   "cell_type": "markdown",
   "metadata": {},
   "source": [
    "### 차원의 저주 1차, 2차, 3차원 예제\n",
    "- 60개의 임의의 점의 거리가 차원에 따라 어떻게 팽창하는지 간략하게 분석"
   ]
  },
  {
   "cell_type": "code",
   "execution_count": 40,
   "metadata": {},
   "outputs": [],
   "source": [
    "# 모듈 가져오기\n",
    "import numpy as np\n",
    "import pandas as pd\n",
    "import matplotlib.pyplot as plt"
   ]
  },
  {
   "cell_type": "markdown",
   "metadata": {},
   "source": [
    "#### 1차원"
   ]
  },
  {
   "cell_type": "code",
   "execution_count": 46,
   "metadata": {},
   "outputs": [],
   "source": [
    "# 60개의 난수 발생 => 같은 수직선상의 임의의 60개 점들\n",
    "one_d_data = np.random.rand(60,1)\n",
    "one_d_data_df = pd.DataFrame(one_d_data)\n",
    "one_d_data_df.columns = ['1D_Data']\n",
    "one_d_data_df['height'] = 1"
   ]
  },
  {
   "cell_type": "code",
   "execution_count": 48,
   "metadata": {},
   "outputs": [
    {
     "data": {
      "text/html": [
       "<div>\n",
       "<style scoped>\n",
       "    .dataframe tbody tr th:only-of-type {\n",
       "        vertical-align: middle;\n",
       "    }\n",
       "\n",
       "    .dataframe tbody tr th {\n",
       "        vertical-align: top;\n",
       "    }\n",
       "\n",
       "    .dataframe thead th {\n",
       "        text-align: right;\n",
       "    }\n",
       "</style>\n",
       "<table border=\"1\" class=\"dataframe\">\n",
       "  <thead>\n",
       "    <tr style=\"text-align: right;\">\n",
       "      <th></th>\n",
       "      <th>1D_Data</th>\n",
       "      <th>height</th>\n",
       "    </tr>\n",
       "  </thead>\n",
       "  <tbody>\n",
       "    <tr>\n",
       "      <th>18</th>\n",
       "      <td>0.040189</td>\n",
       "      <td>1</td>\n",
       "    </tr>\n",
       "    <tr>\n",
       "      <th>51</th>\n",
       "      <td>0.904859</td>\n",
       "      <td>1</td>\n",
       "    </tr>\n",
       "    <tr>\n",
       "      <th>6</th>\n",
       "      <td>0.910619</td>\n",
       "      <td>1</td>\n",
       "    </tr>\n",
       "    <tr>\n",
       "      <th>48</th>\n",
       "      <td>0.853011</td>\n",
       "      <td>1</td>\n",
       "    </tr>\n",
       "    <tr>\n",
       "      <th>44</th>\n",
       "      <td>0.540753</td>\n",
       "      <td>1</td>\n",
       "    </tr>\n",
       "  </tbody>\n",
       "</table>\n",
       "</div>"
      ],
      "text/plain": [
       "     1D_Data  height\n",
       "18  0.040189       1\n",
       "51  0.904859       1\n",
       "6   0.910619       1\n",
       "48  0.853011       1\n",
       "44  0.540753       1"
      ]
     },
     "execution_count": 48,
     "metadata": {},
     "output_type": "execute_result"
    }
   ],
   "source": [
    "# 데이터 프레임 확인\n",
    "one_d_data_df.sample(5)"
   ]
  },
  {
   "cell_type": "code",
   "execution_count": 51,
   "metadata": {},
   "outputs": [
    {
     "data": {
      "image/png": "[encoded data removed]",
      "text/plain": [
       "<Figure size 432x288 with 1 Axes>"
      ]
     },
     "metadata": {
      "needs_background": "light"
     },
     "output_type": "display_data"
    }
   ],
   "source": [
    "# 시각화\n",
    "plt.figure()\n",
    "plt.scatter(one_d_data_df['1D_Data'], one_d_data_df['height'])\n",
    "plt.yticks([])\n",
    "plt.xlabel('1-D points')\n",
    "plt.show()\n"
   ]
  },
  {
   "cell_type": "markdown",
   "metadata": {},
   "source": [
    "#### 2차원"
   ]
  },
  {
   "cell_type": "code",
   "execution_count": 53,
   "metadata": {},
   "outputs": [],
   "source": [
    "# 60개의 난수 발생 => 같은 평면상의 임의의 60개 점들\n",
    "two_d_data = np.random.rand(60, 2)\n",
    "two_d_data_df = pd.DataFrame(two_d_data)\n",
    "two_d_data_df.columns = ['x_axis', 'y_axis']"
   ]
  },
  {
   "cell_type": "code",
   "execution_count": 55,
   "metadata": {},
   "outputs": [
    {
     "data": {
      "image/png": "[encoded data removed]",
      "text/plain": [
       "<Figure size 432x288 with 1 Axes>"
      ]
     },
     "metadata": {
      "needs_background": "light"
     },
     "output_type": "display_data"
    }
   ],
   "source": [
    "# 시각화\n",
    "plt.figure()\n",
    "plt.scatter(two_d_data_df['x_axis'], two_d_data_df['y_axis'])\n",
    "plt.xlabel('x_axis')\n",
    "plt.ylabel('y_axis')\n",
    "plt.show()"
   ]
  },
  {
   "cell_type": "markdown",
   "metadata": {},
   "source": [
    "#### 3차원"
   ]
  },
  {
   "cell_type": "code",
   "execution_count": 56,
   "metadata": {},
   "outputs": [],
   "source": [
    "# 60개의 난수 발생 => 같은 공간상의 임의의 60개 점들\n",
    "three_d_data = np.random.rand(60, 3)\n",
    "three_d_data_df = pd.DataFrame(three_d_data)\n",
    "three_d_data_df.columns = ['x_axis', 'y_axis', 'z_axis']"
   ]
  },
  {
   "cell_type": "code",
   "execution_count": 58,
   "metadata": {},
   "outputs": [
    {
     "data": {
      "image/png": "[encoded data removed]",
      "text/plain": [
       "<Figure size 432x288 with 1 Axes>"
      ]
     },
     "metadata": {
      "needs_background": "light"
     },
     "output_type": "display_data"
    }
   ],
   "source": [
    "# 시각화\n",
    "from mpl_toolkits.mplot3d import Axes3D\n",
    "fig = plt.figure()\n",
    "ax = fig.add_subplot(111, projection = '3d')\n",
    "ax.scatter(three_d_data_df['x_axis'], three_d_data_df['y_axis'], three_d_data_df['z_axis'])\n",
    "plt.show()"
   ]
  },
  {
   "cell_type": "markdown",
   "metadata": {},
   "source": [
    "## 위스콘신 유방암 진단 데이터를 이용한 KNN 분류기"
   ]
  },
  {
   "cell_type": "code",
   "execution_count": 114,
   "metadata": {},
   "outputs": [],
   "source": [
    "# 데이터 가져오기\n",
    "import pandas as pd\n",
    "breast_cancer = pd.read_csv('./Data/breast-cancer-wisconsin.csv')"
   ]
  },
  {
   "cell_type": "code",
   "execution_count": 115,
   "metadata": {},
   "outputs": [
    {
     "name": "stdout",
     "output_type": "stream",
     "text": [
      "<class 'pandas.core.frame.DataFrame'>\n",
      "RangeIndex: 699 entries, 0 to 698\n",
      "Data columns (total 11 columns):\n",
      " #   Column                       Non-Null Count  Dtype \n",
      "---  ------                       --------------  ----- \n",
      " 0   Sample code number           699 non-null    int64 \n",
      " 1   Clump Thickness              699 non-null    int64 \n",
      " 2   Uniformity of Cell Size      699 non-null    int64 \n",
      " 3   Uniformity of Cell Shape     699 non-null    int64 \n",
      " 4   Marginal Adhesion            699 non-null    int64 \n",
      " 5   Single Epithelial Cell Size  699 non-null    int64 \n",
      " 6   Bare Nuclei                  699 non-null    object\n",
      " 7   Bland Chromatin              699 non-null    int64 \n",
      " 8   Normal Nucleoli              699 non-null    int64 \n",
      " 9   Mitoses                      699 non-null    int64 \n",
      " 10  Class                        699 non-null    int64 \n",
      "dtypes: int64(10), object(1)\n",
      "memory usage: 60.2+ KB\n"
     ]
    }
   ],
   "source": [
    "# 데이터 컬럼 및 데이터 타입 확인하기\n",
    "breast_cancer.info()"
   ]
  },
  {
   "cell_type": "code",
   "execution_count": 116,
   "metadata": {},
   "outputs": [
    {
     "data": {
      "text/html": [
       "<div>\n",
       "<style scoped>\n",
       "    .dataframe tbody tr th:only-of-type {\n",
       "        vertical-align: middle;\n",
       "    }\n",
       "\n",
       "    .dataframe tbody tr th {\n",
       "        vertical-align: top;\n",
       "    }\n",
       "\n",
       "    .dataframe thead th {\n",
       "        text-align: right;\n",
       "    }\n",
       "</style>\n",
       "<table border=\"1\" class=\"dataframe\">\n",
       "  <thead>\n",
       "    <tr style=\"text-align: right;\">\n",
       "      <th></th>\n",
       "      <th>Sample code number</th>\n",
       "      <th>Clump Thickness</th>\n",
       "      <th>Uniformity of Cell Size</th>\n",
       "      <th>Uniformity of Cell Shape</th>\n",
       "      <th>Marginal Adhesion</th>\n",
       "      <th>Single Epithelial Cell Size</th>\n",
       "      <th>Bare Nuclei</th>\n",
       "      <th>Bland Chromatin</th>\n",
       "      <th>Normal Nucleoli</th>\n",
       "      <th>Mitoses</th>\n",
       "      <th>Class</th>\n",
       "    </tr>\n",
       "  </thead>\n",
       "  <tbody>\n",
       "    <tr>\n",
       "      <th>0</th>\n",
       "      <td>1000025</td>\n",
       "      <td>5</td>\n",
       "      <td>1</td>\n",
       "      <td>1</td>\n",
       "      <td>1</td>\n",
       "      <td>2</td>\n",
       "      <td>1</td>\n",
       "      <td>3</td>\n",
       "      <td>1</td>\n",
       "      <td>1</td>\n",
       "      <td>2</td>\n",
       "    </tr>\n",
       "    <tr>\n",
       "      <th>1</th>\n",
       "      <td>1002945</td>\n",
       "      <td>5</td>\n",
       "      <td>4</td>\n",
       "      <td>4</td>\n",
       "      <td>5</td>\n",
       "      <td>7</td>\n",
       "      <td>10</td>\n",
       "      <td>3</td>\n",
       "      <td>2</td>\n",
       "      <td>1</td>\n",
       "      <td>2</td>\n",
       "    </tr>\n",
       "    <tr>\n",
       "      <th>2</th>\n",
       "      <td>1015425</td>\n",
       "      <td>3</td>\n",
       "      <td>1</td>\n",
       "      <td>1</td>\n",
       "      <td>1</td>\n",
       "      <td>2</td>\n",
       "      <td>2</td>\n",
       "      <td>3</td>\n",
       "      <td>1</td>\n",
       "      <td>1</td>\n",
       "      <td>2</td>\n",
       "    </tr>\n",
       "    <tr>\n",
       "      <th>3</th>\n",
       "      <td>1016277</td>\n",
       "      <td>6</td>\n",
       "      <td>8</td>\n",
       "      <td>8</td>\n",
       "      <td>1</td>\n",
       "      <td>3</td>\n",
       "      <td>4</td>\n",
       "      <td>3</td>\n",
       "      <td>7</td>\n",
       "      <td>1</td>\n",
       "      <td>2</td>\n",
       "    </tr>\n",
       "    <tr>\n",
       "      <th>4</th>\n",
       "      <td>1017023</td>\n",
       "      <td>4</td>\n",
       "      <td>1</td>\n",
       "      <td>1</td>\n",
       "      <td>3</td>\n",
       "      <td>2</td>\n",
       "      <td>1</td>\n",
       "      <td>3</td>\n",
       "      <td>1</td>\n",
       "      <td>1</td>\n",
       "      <td>2</td>\n",
       "    </tr>\n",
       "  </tbody>\n",
       "</table>\n",
       "</div>"
      ],
      "text/plain": [
       "   Sample code number  Clump Thickness  Uniformity of Cell Size  \\\n",
       "0             1000025                5                        1   \n",
       "1             1002945                5                        4   \n",
       "2             1015425                3                        1   \n",
       "3             1016277                6                        8   \n",
       "4             1017023                4                        1   \n",
       "\n",
       "   Uniformity of Cell Shape  Marginal Adhesion  Single Epithelial Cell Size  \\\n",
       "0                         1                  1                            2   \n",
       "1                         4                  5                            7   \n",
       "2                         1                  1                            2   \n",
       "3                         8                  1                            3   \n",
       "4                         1                  3                            2   \n",
       "\n",
       "  Bare Nuclei  Bland Chromatin  Normal Nucleoli  Mitoses  Class  \n",
       "0           1                3                1        1      2  \n",
       "1          10                3                2        1      2  \n",
       "2           2                3                1        1      2  \n",
       "3           4                3                7        1      2  \n",
       "4           1                3                1        1      2  "
      ]
     },
     "execution_count": 116,
     "metadata": {},
     "output_type": "execute_result"
    }
   ],
   "source": [
    "# 데이터 확인 - head()\n",
    "breast_cancer.head()"
   ]
  },
  {
   "cell_type": "code",
   "execution_count": 117,
   "metadata": {},
   "outputs": [
    {
     "data": {
      "text/plain": [
       "array(['1', '10', '2', '4', '3', '9', '7', '?', '5', '8', '6'],\n",
       "      dtype=object)"
      ]
     },
     "execution_count": 117,
     "metadata": {},
     "output_type": "execute_result"
    }
   ],
   "source": [
    "# 데이터 확인\n",
    "# ? 를 제거 해줘야 한다.\n",
    "breast_cancer['Bare Nuclei'].unique()"
   ]
  },
  {
   "cell_type": "code",
   "execution_count": 118,
   "metadata": {},
   "outputs": [],
   "source": [
    "# ? -> NAN 값으로 변경 -> 최빈값으로 대체\n",
    "breast_cancer['Bare Nuclei'] = breast_cancer['Bare Nuclei'].replace('?', np.NAN)\n",
    "breast_cancer['Bare Nuclei'] = breast_cancer['Bare Nuclei'].fillna(breast_cancer['Bare Nuclei'].value_counts().sort_values(ascending = False).index[0]).astype('int64')"
   ]
  },
  {
   "cell_type": "code",
   "execution_count": 119,
   "metadata": {},
   "outputs": [
    {
     "name": "stdout",
     "output_type": "stream",
     "text": [
      "<class 'pandas.core.frame.DataFrame'>\n",
      "RangeIndex: 699 entries, 0 to 698\n",
      "Data columns (total 11 columns):\n",
      " #   Column                       Non-Null Count  Dtype\n",
      "---  ------                       --------------  -----\n",
      " 0   Sample code number           699 non-null    int64\n",
      " 1   Clump Thickness              699 non-null    int64\n",
      " 2   Uniformity of Cell Size      699 non-null    int64\n",
      " 3   Uniformity of Cell Shape     699 non-null    int64\n",
      " 4   Marginal Adhesion            699 non-null    int64\n",
      " 5   Single Epithelial Cell Size  699 non-null    int64\n",
      " 6   Bare Nuclei                  699 non-null    int64\n",
      " 7   Bland Chromatin              699 non-null    int64\n",
      " 8   Normal Nucleoli              699 non-null    int64\n",
      " 9   Mitoses                      699 non-null    int64\n",
      " 10  Class                        699 non-null    int64\n",
      "dtypes: int64(11)\n",
      "memory usage: 60.2 KB\n"
     ]
    }
   ],
   "source": [
    "# 데이터 확인\n",
    "breast_cancer.info()"
   ]
  },
  {
   "cell_type": "code",
   "execution_count": 120,
   "metadata": {},
   "outputs": [],
   "source": [
    "# 종속변수 : Class\n",
    "# Class\n",
    "# 2 : 양성 -> 0으로 변환\n",
    "# 4 : 악성 -> 1로 변환\n",
    "breast_cancer['Cancer_Ind'] = 0\n",
    "breast_cancer.loc[breast_cancer['Class'] == 4, 'Cancer_Ind'] = 1"
   ]
  },
  {
   "cell_type": "code",
   "execution_count": 121,
   "metadata": {},
   "outputs": [
    {
     "data": {
      "text/html": [
       "<div>\n",
       "<style scoped>\n",
       "    .dataframe tbody tr th:only-of-type {\n",
       "        vertical-align: middle;\n",
       "    }\n",
       "\n",
       "    .dataframe tbody tr th {\n",
       "        vertical-align: top;\n",
       "    }\n",
       "\n",
       "    .dataframe thead th {\n",
       "        text-align: right;\n",
       "    }\n",
       "</style>\n",
       "<table border=\"1\" class=\"dataframe\">\n",
       "  <thead>\n",
       "    <tr style=\"text-align: right;\">\n",
       "      <th></th>\n",
       "      <th>Sample code number</th>\n",
       "      <th>Clump Thickness</th>\n",
       "      <th>Uniformity of Cell Size</th>\n",
       "      <th>Uniformity of Cell Shape</th>\n",
       "      <th>Marginal Adhesion</th>\n",
       "      <th>Single Epithelial Cell Size</th>\n",
       "      <th>Bare Nuclei</th>\n",
       "      <th>Bland Chromatin</th>\n",
       "      <th>Normal Nucleoli</th>\n",
       "      <th>Mitoses</th>\n",
       "      <th>Class</th>\n",
       "      <th>Cancer_Ind</th>\n",
       "    </tr>\n",
       "  </thead>\n",
       "  <tbody>\n",
       "    <tr>\n",
       "      <th>0</th>\n",
       "      <td>1000025</td>\n",
       "      <td>5</td>\n",
       "      <td>1</td>\n",
       "      <td>1</td>\n",
       "      <td>1</td>\n",
       "      <td>2</td>\n",
       "      <td>1</td>\n",
       "      <td>3</td>\n",
       "      <td>1</td>\n",
       "      <td>1</td>\n",
       "      <td>2</td>\n",
       "      <td>0</td>\n",
       "    </tr>\n",
       "    <tr>\n",
       "      <th>1</th>\n",
       "      <td>1002945</td>\n",
       "      <td>5</td>\n",
       "      <td>4</td>\n",
       "      <td>4</td>\n",
       "      <td>5</td>\n",
       "      <td>7</td>\n",
       "      <td>10</td>\n",
       "      <td>3</td>\n",
       "      <td>2</td>\n",
       "      <td>1</td>\n",
       "      <td>2</td>\n",
       "      <td>0</td>\n",
       "    </tr>\n",
       "    <tr>\n",
       "      <th>2</th>\n",
       "      <td>1015425</td>\n",
       "      <td>3</td>\n",
       "      <td>1</td>\n",
       "      <td>1</td>\n",
       "      <td>1</td>\n",
       "      <td>2</td>\n",
       "      <td>2</td>\n",
       "      <td>3</td>\n",
       "      <td>1</td>\n",
       "      <td>1</td>\n",
       "      <td>2</td>\n",
       "      <td>0</td>\n",
       "    </tr>\n",
       "    <tr>\n",
       "      <th>3</th>\n",
       "      <td>1016277</td>\n",
       "      <td>6</td>\n",
       "      <td>8</td>\n",
       "      <td>8</td>\n",
       "      <td>1</td>\n",
       "      <td>3</td>\n",
       "      <td>4</td>\n",
       "      <td>3</td>\n",
       "      <td>7</td>\n",
       "      <td>1</td>\n",
       "      <td>2</td>\n",
       "      <td>0</td>\n",
       "    </tr>\n",
       "    <tr>\n",
       "      <th>4</th>\n",
       "      <td>1017023</td>\n",
       "      <td>4</td>\n",
       "      <td>1</td>\n",
       "      <td>1</td>\n",
       "      <td>3</td>\n",
       "      <td>2</td>\n",
       "      <td>1</td>\n",
       "      <td>3</td>\n",
       "      <td>1</td>\n",
       "      <td>1</td>\n",
       "      <td>2</td>\n",
       "      <td>0</td>\n",
       "    </tr>\n",
       "    <tr>\n",
       "      <th>...</th>\n",
       "      <td>...</td>\n",
       "      <td>...</td>\n",
       "      <td>...</td>\n",
       "      <td>...</td>\n",
       "      <td>...</td>\n",
       "      <td>...</td>\n",
       "      <td>...</td>\n",
       "      <td>...</td>\n",
       "      <td>...</td>\n",
       "      <td>...</td>\n",
       "      <td>...</td>\n",
       "      <td>...</td>\n",
       "    </tr>\n",
       "    <tr>\n",
       "      <th>694</th>\n",
       "      <td>776715</td>\n",
       "      <td>3</td>\n",
       "      <td>1</td>\n",
       "      <td>1</td>\n",
       "      <td>1</td>\n",
       "      <td>3</td>\n",
       "      <td>2</td>\n",
       "      <td>1</td>\n",
       "      <td>1</td>\n",
       "      <td>1</td>\n",
       "      <td>2</td>\n",
       "      <td>0</td>\n",
       "    </tr>\n",
       "    <tr>\n",
       "      <th>695</th>\n",
       "      <td>841769</td>\n",
       "      <td>2</td>\n",
       "      <td>1</td>\n",
       "      <td>1</td>\n",
       "      <td>1</td>\n",
       "      <td>2</td>\n",
       "      <td>1</td>\n",
       "      <td>1</td>\n",
       "      <td>1</td>\n",
       "      <td>1</td>\n",
       "      <td>2</td>\n",
       "      <td>0</td>\n",
       "    </tr>\n",
       "    <tr>\n",
       "      <th>696</th>\n",
       "      <td>888820</td>\n",
       "      <td>5</td>\n",
       "      <td>10</td>\n",
       "      <td>10</td>\n",
       "      <td>3</td>\n",
       "      <td>7</td>\n",
       "      <td>3</td>\n",
       "      <td>8</td>\n",
       "      <td>10</td>\n",
       "      <td>2</td>\n",
       "      <td>4</td>\n",
       "      <td>1</td>\n",
       "    </tr>\n",
       "    <tr>\n",
       "      <th>697</th>\n",
       "      <td>897471</td>\n",
       "      <td>4</td>\n",
       "      <td>8</td>\n",
       "      <td>6</td>\n",
       "      <td>4</td>\n",
       "      <td>3</td>\n",
       "      <td>4</td>\n",
       "      <td>10</td>\n",
       "      <td>6</td>\n",
       "      <td>1</td>\n",
       "      <td>4</td>\n",
       "      <td>1</td>\n",
       "    </tr>\n",
       "    <tr>\n",
       "      <th>698</th>\n",
       "      <td>897471</td>\n",
       "      <td>4</td>\n",
       "      <td>8</td>\n",
       "      <td>8</td>\n",
       "      <td>5</td>\n",
       "      <td>4</td>\n",
       "      <td>5</td>\n",
       "      <td>10</td>\n",
       "      <td>4</td>\n",
       "      <td>1</td>\n",
       "      <td>4</td>\n",
       "      <td>1</td>\n",
       "    </tr>\n",
       "  </tbody>\n",
       "</table>\n",
       "<p>699 rows × 12 columns</p>\n",
       "</div>"
      ],
      "text/plain": [
       "     Sample code number  Clump Thickness  Uniformity of Cell Size  \\\n",
       "0               1000025                5                        1   \n",
       "1               1002945                5                        4   \n",
       "2               1015425                3                        1   \n",
       "3               1016277                6                        8   \n",
       "4               1017023                4                        1   \n",
       "..                  ...              ...                      ...   \n",
       "694              776715                3                        1   \n",
       "695              841769                2                        1   \n",
       "696              888820                5                       10   \n",
       "697              897471                4                        8   \n",
       "698              897471                4                        8   \n",
       "\n",
       "     Uniformity of Cell Shape  Marginal Adhesion  Single Epithelial Cell Size  \\\n",
       "0                           1                  1                            2   \n",
       "1                           4                  5                            7   \n",
       "2                           1                  1                            2   \n",
       "3                           8                  1                            3   \n",
       "4                           1                  3                            2   \n",
       "..                        ...                ...                          ...   \n",
       "694                         1                  1                            3   \n",
       "695                         1                  1                            2   \n",
       "696                        10                  3                            7   \n",
       "697                         6                  4                            3   \n",
       "698                         8                  5                            4   \n",
       "\n",
       "     Bare Nuclei  Bland Chromatin  Normal Nucleoli  Mitoses  Class  Cancer_Ind  \n",
       "0              1                3                1        1      2           0  \n",
       "1             10                3                2        1      2           0  \n",
       "2              2                3                1        1      2           0  \n",
       "3              4                3                7        1      2           0  \n",
       "4              1                3                1        1      2           0  \n",
       "..           ...              ...              ...      ...    ...         ...  \n",
       "694            2                1                1        1      2           0  \n",
       "695            1                1                1        1      2           0  \n",
       "696            3                8               10        2      4           1  \n",
       "697            4               10                6        1      4           1  \n",
       "698            5               10                4        1      4           1  \n",
       "\n",
       "[699 rows x 12 columns]"
      ]
     },
     "execution_count": 121,
     "metadata": {},
     "output_type": "execute_result"
    }
   ],
   "source": [
    "# 데이터 프레임 확인\n",
    "breast_cancer"
   ]
  },
  {
   "cell_type": "code",
   "execution_count": 122,
   "metadata": {},
   "outputs": [],
   "source": [
    "# 변수를 선별하고 정의 한다.\n",
    "x_vars = breast_cancer.drop(['Sample code number', 'Class', 'Cancer_Ind'], axis = 1)\n",
    "y_vars = breast_cancer['Cancer_Ind']"
   ]
  },
  {
   "cell_type": "code",
   "execution_count": 128,
   "metadata": {},
   "outputs": [],
   "source": [
    "# 데이터의 좌표화를 위해 스케일러 사용\n",
    "from sklearn.preprocessing import StandardScaler\n",
    "x_vars_stdscle = StandardScaler().fit_transform(x_vars.to_numpy())\n",
    "x_vars_stdscle_df = pd.DataFrame(x_vars_stdscle)\n",
    "x_vars_stdscle_df.columns = x_vars.columns\n",
    "x_vars_stdscle_df.index = x_vars.index"
   ]
  },
  {
   "cell_type": "code",
   "execution_count": 129,
   "metadata": {},
   "outputs": [
    {
     "data": {
      "text/html": [
       "<div>\n",
       "<style scoped>\n",
       "    .dataframe tbody tr th:only-of-type {\n",
       "        vertical-align: middle;\n",
       "    }\n",
       "\n",
       "    .dataframe tbody tr th {\n",
       "        vertical-align: top;\n",
       "    }\n",
       "\n",
       "    .dataframe thead th {\n",
       "        text-align: right;\n",
       "    }\n",
       "</style>\n",
       "<table border=\"1\" class=\"dataframe\">\n",
       "  <thead>\n",
       "    <tr style=\"text-align: right;\">\n",
       "      <th></th>\n",
       "      <th>Clump Thickness</th>\n",
       "      <th>Uniformity of Cell Size</th>\n",
       "      <th>Uniformity of Cell Shape</th>\n",
       "      <th>Marginal Adhesion</th>\n",
       "      <th>Single Epithelial Cell Size</th>\n",
       "      <th>Bare Nuclei</th>\n",
       "      <th>Bland Chromatin</th>\n",
       "      <th>Normal Nucleoli</th>\n",
       "      <th>Mitoses</th>\n",
       "    </tr>\n",
       "  </thead>\n",
       "  <tbody>\n",
       "    <tr>\n",
       "      <th>0</th>\n",
       "      <td>0.206936</td>\n",
       "      <td>-0.699995</td>\n",
       "      <td>-0.743299</td>\n",
       "      <td>-0.633247</td>\n",
       "      <td>-0.549561</td>\n",
       "      <td>-0.686979</td>\n",
       "      <td>-0.179662</td>\n",
       "      <td>-0.611825</td>\n",
       "      <td>-0.343912</td>\n",
       "    </tr>\n",
       "    <tr>\n",
       "      <th>1</th>\n",
       "      <td>0.206936</td>\n",
       "      <td>0.283845</td>\n",
       "      <td>0.266875</td>\n",
       "      <td>0.768621</td>\n",
       "      <td>1.710106</td>\n",
       "      <td>1.799664</td>\n",
       "      <td>-0.179662</td>\n",
       "      <td>-0.284112</td>\n",
       "      <td>-0.343912</td>\n",
       "    </tr>\n",
       "    <tr>\n",
       "      <th>2</th>\n",
       "      <td>-0.503866</td>\n",
       "      <td>-0.699995</td>\n",
       "      <td>-0.743299</td>\n",
       "      <td>-0.633247</td>\n",
       "      <td>-0.549561</td>\n",
       "      <td>-0.410685</td>\n",
       "      <td>-0.179662</td>\n",
       "      <td>-0.611825</td>\n",
       "      <td>-0.343912</td>\n",
       "    </tr>\n",
       "    <tr>\n",
       "      <th>3</th>\n",
       "      <td>0.562336</td>\n",
       "      <td>1.595632</td>\n",
       "      <td>1.613773</td>\n",
       "      <td>-0.633247</td>\n",
       "      <td>-0.097628</td>\n",
       "      <td>0.141902</td>\n",
       "      <td>-0.179662</td>\n",
       "      <td>1.354454</td>\n",
       "      <td>-0.343912</td>\n",
       "    </tr>\n",
       "    <tr>\n",
       "      <th>4</th>\n",
       "      <td>-0.148465</td>\n",
       "      <td>-0.699995</td>\n",
       "      <td>-0.743299</td>\n",
       "      <td>0.067687</td>\n",
       "      <td>-0.549561</td>\n",
       "      <td>-0.686979</td>\n",
       "      <td>-0.179662</td>\n",
       "      <td>-0.611825</td>\n",
       "      <td>-0.343912</td>\n",
       "    </tr>\n",
       "    <tr>\n",
       "      <th>...</th>\n",
       "      <td>...</td>\n",
       "      <td>...</td>\n",
       "      <td>...</td>\n",
       "      <td>...</td>\n",
       "      <td>...</td>\n",
       "      <td>...</td>\n",
       "      <td>...</td>\n",
       "      <td>...</td>\n",
       "      <td>...</td>\n",
       "    </tr>\n",
       "    <tr>\n",
       "      <th>694</th>\n",
       "      <td>-0.503866</td>\n",
       "      <td>-0.699995</td>\n",
       "      <td>-0.743299</td>\n",
       "      <td>-0.633247</td>\n",
       "      <td>-0.097628</td>\n",
       "      <td>-0.410685</td>\n",
       "      <td>-1.000471</td>\n",
       "      <td>-0.611825</td>\n",
       "      <td>-0.343912</td>\n",
       "    </tr>\n",
       "    <tr>\n",
       "      <th>695</th>\n",
       "      <td>-0.859266</td>\n",
       "      <td>-0.699995</td>\n",
       "      <td>-0.743299</td>\n",
       "      <td>-0.633247</td>\n",
       "      <td>-0.549561</td>\n",
       "      <td>-0.686979</td>\n",
       "      <td>-1.000471</td>\n",
       "      <td>-0.611825</td>\n",
       "      <td>-0.343912</td>\n",
       "    </tr>\n",
       "    <tr>\n",
       "      <th>696</th>\n",
       "      <td>0.206936</td>\n",
       "      <td>2.251526</td>\n",
       "      <td>2.287222</td>\n",
       "      <td>0.067687</td>\n",
       "      <td>1.710106</td>\n",
       "      <td>-0.134392</td>\n",
       "      <td>1.872361</td>\n",
       "      <td>2.337594</td>\n",
       "      <td>0.239570</td>\n",
       "    </tr>\n",
       "    <tr>\n",
       "      <th>697</th>\n",
       "      <td>-0.148465</td>\n",
       "      <td>1.595632</td>\n",
       "      <td>0.940324</td>\n",
       "      <td>0.418154</td>\n",
       "      <td>-0.097628</td>\n",
       "      <td>0.141902</td>\n",
       "      <td>2.693171</td>\n",
       "      <td>1.026741</td>\n",
       "      <td>-0.343912</td>\n",
       "    </tr>\n",
       "    <tr>\n",
       "      <th>698</th>\n",
       "      <td>-0.148465</td>\n",
       "      <td>1.595632</td>\n",
       "      <td>1.613773</td>\n",
       "      <td>0.768621</td>\n",
       "      <td>0.354305</td>\n",
       "      <td>0.418196</td>\n",
       "      <td>2.693171</td>\n",
       "      <td>0.371315</td>\n",
       "      <td>-0.343912</td>\n",
       "    </tr>\n",
       "  </tbody>\n",
       "</table>\n",
       "<p>699 rows × 9 columns</p>\n",
       "</div>"
      ],
      "text/plain": [
       "     Clump Thickness  Uniformity of Cell Size  Uniformity of Cell Shape  \\\n",
       "0           0.206936                -0.699995                 -0.743299   \n",
       "1           0.206936                 0.283845                  0.266875   \n",
       "2          -0.503866                -0.699995                 -0.743299   \n",
       "3           0.562336                 1.595632                  1.613773   \n",
       "4          -0.148465                -0.699995                 -0.743299   \n",
       "..               ...                      ...                       ...   \n",
       "694        -0.503866                -0.699995                 -0.743299   \n",
       "695        -0.859266                -0.699995                 -0.743299   \n",
       "696         0.206936                 2.251526                  2.287222   \n",
       "697        -0.148465                 1.595632                  0.940324   \n",
       "698        -0.148465                 1.595632                  1.613773   \n",
       "\n",
       "     Marginal Adhesion  Single Epithelial Cell Size  Bare Nuclei  \\\n",
       "0            -0.633247                    -0.549561    -0.686979   \n",
       "1             0.768621                     1.710106     1.799664   \n",
       "2            -0.633247                    -0.549561    -0.410685   \n",
       "3            -0.633247                    -0.097628     0.141902   \n",
       "4             0.067687                    -0.549561    -0.686979   \n",
       "..                 ...                          ...          ...   \n",
       "694          -0.633247                    -0.097628    -0.410685   \n",
       "695          -0.633247                    -0.549561    -0.686979   \n",
       "696           0.067687                     1.710106    -0.134392   \n",
       "697           0.418154                    -0.097628     0.141902   \n",
       "698           0.768621                     0.354305     0.418196   \n",
       "\n",
       "     Bland Chromatin  Normal Nucleoli   Mitoses  \n",
       "0          -0.179662        -0.611825 -0.343912  \n",
       "1          -0.179662        -0.284112 -0.343912  \n",
       "2          -0.179662        -0.611825 -0.343912  \n",
       "3          -0.179662         1.354454 -0.343912  \n",
       "4          -0.179662        -0.611825 -0.343912  \n",
       "..               ...              ...       ...  \n",
       "694        -1.000471        -0.611825 -0.343912  \n",
       "695        -1.000471        -0.611825 -0.343912  \n",
       "696         1.872361         2.337594  0.239570  \n",
       "697         2.693171         1.026741 -0.343912  \n",
       "698         2.693171         0.371315 -0.343912  \n",
       "\n",
       "[699 rows x 9 columns]"
      ]
     },
     "execution_count": 129,
     "metadata": {},
     "output_type": "execute_result"
    }
   ],
   "source": [
    "# 데이터프레임 확인\n",
    "x_vars_stdscle_df"
   ]
  },
  {
   "cell_type": "code",
   "execution_count": 131,
   "metadata": {},
   "outputs": [],
   "source": [
    "# train, test 데이터 분할\n",
    "from sklearn.model_selection import train_test_split\n",
    "x_train, x_test, y_train, y_test = train_test_split(x_vars_stdscle_df, y_vars, random_state = 42, train_size = 0.7)"
   ]
  },
  {
   "cell_type": "code",
   "execution_count": 132,
   "metadata": {},
   "outputs": [
    {
     "data": {
      "text/plain": [
       "((489, 9), (210, 9), (489,), (210,))"
      ]
     },
     "execution_count": 132,
     "metadata": {},
     "output_type": "execute_result"
    }
   ],
   "source": [
    "# 데이터 분할 확인\n",
    "x_train.shape, x_test.shape, y_train.shape, y_test.shape"
   ]
  },
  {
   "cell_type": "code",
   "execution_count": 134,
   "metadata": {},
   "outputs": [
    {
     "data": {
      "text/plain": [
       "KNeighborsClassifier(n_neighbors=3)"
      ]
     },
     "execution_count": 134,
     "metadata": {},
     "output_type": "execute_result"
    }
   ],
   "source": [
    "# 모델 생성\n",
    "from sklearn.neighbors import KNeighborsClassifier\n",
    "knn_fit = KNeighborsClassifier(n_neighbors = 3, p=2, metric = 'minkowski')\n",
    "knn_fit.fit(x_train, y_train)"
   ]
  },
  {
   "cell_type": "code",
   "execution_count": 135,
   "metadata": {},
   "outputs": [
    {
     "data": {
      "text/html": [
       "<div>\n",
       "<style scoped>\n",
       "    .dataframe tbody tr th:only-of-type {\n",
       "        vertical-align: middle;\n",
       "    }\n",
       "\n",
       "    .dataframe tbody tr th {\n",
       "        vertical-align: top;\n",
       "    }\n",
       "\n",
       "    .dataframe thead th {\n",
       "        text-align: right;\n",
       "    }\n",
       "</style>\n",
       "<table border=\"1\" class=\"dataframe\">\n",
       "  <thead>\n",
       "    <tr style=\"text-align: right;\">\n",
       "      <th>Predicted</th>\n",
       "      <th>0</th>\n",
       "      <th>1</th>\n",
       "    </tr>\n",
       "    <tr>\n",
       "      <th>Actual</th>\n",
       "      <th></th>\n",
       "      <th></th>\n",
       "    </tr>\n",
       "  </thead>\n",
       "  <tbody>\n",
       "    <tr>\n",
       "      <th>0</th>\n",
       "      <td>309</td>\n",
       "      <td>6</td>\n",
       "    </tr>\n",
       "    <tr>\n",
       "      <th>1</th>\n",
       "      <td>4</td>\n",
       "      <td>170</td>\n",
       "    </tr>\n",
       "  </tbody>\n",
       "</table>\n",
       "</div>"
      ],
      "text/plain": [
       "Predicted    0    1\n",
       "Actual             \n",
       "0          309    6\n",
       "1            4  170"
      ]
     },
     "execution_count": 135,
     "metadata": {},
     "output_type": "execute_result"
    }
   ],
   "source": [
    "# confusion matrix - 학습\n",
    "pd.crosstab(y_train, knn_fit.predict(x_train), rownames = ['Actual'], colnames = ['Predicted'])"
   ]
  },
  {
   "cell_type": "code",
   "execution_count": 136,
   "metadata": {},
   "outputs": [
    {
     "data": {
      "text/plain": [
       "0.98"
      ]
     },
     "execution_count": 136,
     "metadata": {},
     "output_type": "execute_result"
    }
   ],
   "source": [
    "# 정확도 - 학습\n",
    "from sklearn.metrics import accuracy_score, classification_report\n",
    "round(accuracy_score(y_train, knn_fit.predict(x_train)), 3)"
   ]
  },
  {
   "cell_type": "code",
   "execution_count": 137,
   "metadata": {},
   "outputs": [
    {
     "name": "stdout",
     "output_type": "stream",
     "text": [
      "              precision    recall  f1-score   support\n",
      "\n",
      "           0       0.99      0.98      0.98       315\n",
      "           1       0.97      0.98      0.97       174\n",
      "\n",
      "    accuracy                           0.98       489\n",
      "   macro avg       0.98      0.98      0.98       489\n",
      "weighted avg       0.98      0.98      0.98       489\n",
      "\n"
     ]
    }
   ],
   "source": [
    "# clasification report - 학습\n",
    "print(classification_report(y_train, knn_fit.predict(x_train)))"
   ]
  },
  {
   "cell_type": "code",
   "execution_count": 138,
   "metadata": {},
   "outputs": [
    {
     "data": {
      "text/html": [
       "<div>\n",
       "<style scoped>\n",
       "    .dataframe tbody tr th:only-of-type {\n",
       "        vertical-align: middle;\n",
       "    }\n",
       "\n",
       "    .dataframe tbody tr th {\n",
       "        vertical-align: top;\n",
       "    }\n",
       "\n",
       "    .dataframe thead th {\n",
       "        text-align: right;\n",
       "    }\n",
       "</style>\n",
       "<table border=\"1\" class=\"dataframe\">\n",
       "  <thead>\n",
       "    <tr style=\"text-align: right;\">\n",
       "      <th>Predicted</th>\n",
       "      <th>0</th>\n",
       "      <th>1</th>\n",
       "    </tr>\n",
       "    <tr>\n",
       "      <th>Actual</th>\n",
       "      <th></th>\n",
       "      <th></th>\n",
       "    </tr>\n",
       "  </thead>\n",
       "  <tbody>\n",
       "    <tr>\n",
       "      <th>0</th>\n",
       "      <td>141</td>\n",
       "      <td>2</td>\n",
       "    </tr>\n",
       "    <tr>\n",
       "      <th>1</th>\n",
       "      <td>3</td>\n",
       "      <td>64</td>\n",
       "    </tr>\n",
       "  </tbody>\n",
       "</table>\n",
       "</div>"
      ],
      "text/plain": [
       "Predicted    0   1\n",
       "Actual            \n",
       "0          141   2\n",
       "1            3  64"
      ]
     },
     "execution_count": 138,
     "metadata": {},
     "output_type": "execute_result"
    }
   ],
   "source": [
    "# confusion matrix - 테스트\n",
    "pd.crosstab(y_test, knn_fit.predict(x_test), rownames = ['Actual'], colnames = ['Predicted'])"
   ]
  },
  {
   "cell_type": "code",
   "execution_count": 139,
   "metadata": {},
   "outputs": [
    {
     "data": {
      "text/plain": [
       "0.976"
      ]
     },
     "execution_count": 139,
     "metadata": {},
     "output_type": "execute_result"
    }
   ],
   "source": [
    "# 정확도 - 테스트\n",
    "round(accuracy_score(y_test, knn_fit.predict(x_test)), 3)"
   ]
  },
  {
   "cell_type": "code",
   "execution_count": 140,
   "metadata": {},
   "outputs": [
    {
     "name": "stdout",
     "output_type": "stream",
     "text": [
      "              precision    recall  f1-score   support\n",
      "\n",
      "           0       0.98      0.99      0.98       143\n",
      "           1       0.97      0.96      0.96        67\n",
      "\n",
      "    accuracy                           0.98       210\n",
      "   macro avg       0.97      0.97      0.97       210\n",
      "weighted avg       0.98      0.98      0.98       210\n",
      "\n"
     ]
    }
   ],
   "source": [
    "# clasification report - 학습\n",
    "print(classification_report(y_test, knn_fit.predict(x_test)))"
   ]
  },
  {
   "cell_type": "markdown",
   "metadata": {},
   "source": [
    "## KNN 분류기에서 K값 튜닝"
   ]
  },
  {
   "cell_type": "code",
   "execution_count": 142,
   "metadata": {},
   "outputs": [
    {
     "data": {
      "text/html": [
       "<div>\n",
       "<style scoped>\n",
       "    .dataframe tbody tr th:only-of-type {\n",
       "        vertical-align: middle;\n",
       "    }\n",
       "\n",
       "    .dataframe tbody tr th {\n",
       "        vertical-align: top;\n",
       "    }\n",
       "\n",
       "    .dataframe thead th {\n",
       "        text-align: right;\n",
       "    }\n",
       "</style>\n",
       "<table border=\"1\" class=\"dataframe\">\n",
       "  <thead>\n",
       "    <tr style=\"text-align: right;\">\n",
       "      <th></th>\n",
       "      <th>K_value</th>\n",
       "      <th>Train_acc</th>\n",
       "      <th>Test_acc</th>\n",
       "    </tr>\n",
       "  </thead>\n",
       "  <tbody>\n",
       "    <tr>\n",
       "      <th>0</th>\n",
       "      <td>4.940656e-324</td>\n",
       "      <td>4.940656e-324</td>\n",
       "      <td>3.952525e-323</td>\n",
       "    </tr>\n",
       "    <tr>\n",
       "      <th>1</th>\n",
       "      <td>4.940656e-323</td>\n",
       "      <td>4.940656e-323</td>\n",
       "      <td>4.940656e-324</td>\n",
       "    </tr>\n",
       "    <tr>\n",
       "      <th>2</th>\n",
       "      <td>4.940656e-324</td>\n",
       "      <td>4.940656e-323</td>\n",
       "      <td>2.964394e-323</td>\n",
       "    </tr>\n",
       "    <tr>\n",
       "      <th>3</th>\n",
       "      <td>1.976263e-323</td>\n",
       "      <td>4.940656e-324</td>\n",
       "      <td>4.940656e-324</td>\n",
       "    </tr>\n",
       "    <tr>\n",
       "      <th>4</th>\n",
       "      <td>9.881313e-324</td>\n",
       "      <td>4.940656e-324</td>\n",
       "      <td>4.940656e-324</td>\n",
       "    </tr>\n",
       "  </tbody>\n",
       "</table>\n",
       "</div>"
      ],
      "text/plain": [
       "         K_value      Train_acc       Test_acc\n",
       "0  4.940656e-324  4.940656e-324  3.952525e-323\n",
       "1  4.940656e-323  4.940656e-323  4.940656e-324\n",
       "2  4.940656e-324  4.940656e-323  2.964394e-323\n",
       "3  1.976263e-323  4.940656e-324  4.940656e-324\n",
       "4  9.881313e-324  4.940656e-324  4.940656e-324"
      ]
     },
     "execution_count": 142,
     "metadata": {},
     "output_type": "execute_result"
    }
   ],
   "source": [
    "# 데이터 프레임 만들기 - 결과 담을 그릇\n",
    "dummyarray = np.empty((5,3))\n",
    "k_valchart = pd.DataFrame(dummyarray)\n",
    "k_valchart.columns = ['K_value', 'Train_acc', 'Test_acc']\n",
    "k_valchart"
   ]
  },
  {
   "cell_type": "code",
   "execution_count": 144,
   "metadata": {},
   "outputs": [],
   "source": [
    "# K값 그리드 서치 수행\n",
    "k_vals = [i for i in range(1,6)]\n",
    "for k in k_vals:\n",
    "    knn_fit = KNeighborsClassifier(n_neighbors = k, metric = 'minkowski', p = 2, )\n",
    "    knn_fit.fit(x_train, y_train)\n",
    "    tr_accscore = round(accuracy_score(y_train, knn_fit.predict(x_train)), 3)\n",
    "    ts_accscore = round(accuracy_score(y_test, knn_fit.predict(x_test)), 3)\n",
    "    k_valchart.loc[k-1, 'K_value'] = k\n",
    "    k_valchart.loc[k-1, 'Train_acc'] = tr_accscore\n",
    "    k_valchart.loc[k-1, 'Test_acc'] = ts_accscore"
   ]
  },
  {
   "cell_type": "code",
   "execution_count": 145,
   "metadata": {},
   "outputs": [
    {
     "data": {
      "text/html": [
       "<div>\n",
       "<style scoped>\n",
       "    .dataframe tbody tr th:only-of-type {\n",
       "        vertical-align: middle;\n",
       "    }\n",
       "\n",
       "    .dataframe tbody tr th {\n",
       "        vertical-align: top;\n",
       "    }\n",
       "\n",
       "    .dataframe thead th {\n",
       "        text-align: right;\n",
       "    }\n",
       "</style>\n",
       "<table border=\"1\" class=\"dataframe\">\n",
       "  <thead>\n",
       "    <tr style=\"text-align: right;\">\n",
       "      <th></th>\n",
       "      <th>K_value</th>\n",
       "      <th>Train_acc</th>\n",
       "      <th>Test_acc</th>\n",
       "    </tr>\n",
       "  </thead>\n",
       "  <tbody>\n",
       "    <tr>\n",
       "      <th>0</th>\n",
       "      <td>1.0</td>\n",
       "      <td>1.000</td>\n",
       "      <td>0.957</td>\n",
       "    </tr>\n",
       "    <tr>\n",
       "      <th>1</th>\n",
       "      <td>2.0</td>\n",
       "      <td>0.971</td>\n",
       "      <td>0.938</td>\n",
       "    </tr>\n",
       "    <tr>\n",
       "      <th>2</th>\n",
       "      <td>3.0</td>\n",
       "      <td>0.980</td>\n",
       "      <td>0.976</td>\n",
       "    </tr>\n",
       "    <tr>\n",
       "      <th>3</th>\n",
       "      <td>4.0</td>\n",
       "      <td>0.963</td>\n",
       "      <td>0.962</td>\n",
       "    </tr>\n",
       "    <tr>\n",
       "      <th>4</th>\n",
       "      <td>5.0</td>\n",
       "      <td>0.967</td>\n",
       "      <td>0.967</td>\n",
       "    </tr>\n",
       "  </tbody>\n",
       "</table>\n",
       "</div>"
      ],
      "text/plain": [
       "   K_value  Train_acc  Test_acc\n",
       "0      1.0      1.000     0.957\n",
       "1      2.0      0.971     0.938\n",
       "2      3.0      0.980     0.976\n",
       "3      4.0      0.963     0.962\n",
       "4      5.0      0.967     0.967"
      ]
     },
     "execution_count": 145,
     "metadata": {},
     "output_type": "execute_result"
    }
   ],
   "source": [
    "# 데이터 프레임 확인\n",
    "k_valchart"
   ]
  },
  {
   "cell_type": "code",
   "execution_count": 160,
   "metadata": {},
   "outputs": [
    {
     "name": "stderr",
     "output_type": "stream",
     "text": [
      "No handles with labels found to put in legend.\n"
     ]
    },
    {
     "data": {
      "image/png": "[encoded data removed]",
      "text/plain": [
       "<Figure size 432x288 with 1 Axes>"
      ]
     },
     "metadata": {
      "needs_background": "light"
     },
     "output_type": "display_data"
    }
   ],
   "source": [
    "# 시각화\n",
    "import matplotlib.pyplot as plt\n",
    "plt.figure()\n",
    "plt.plot(k_valchart['K_value'], k_valchart['Train_acc'])\n",
    "plt.plot(k_valchart['K_value'], k_valchart['Test_acc'])\n",
    "plt.xlabel('K-value')\n",
    "plt.ylabel('Accuracy')\n",
    "plt.axis([0.9, 5, 0.92, 1.005])\n",
    "plt.xticks([1,2,3,4,5])\n",
    "\n",
    "for a,b in zip(k_valchart['K_value'], k_valchart['Train_acc']):\n",
    "    plt.text(a+0.001, b+0.005, str(b), fontsize = 10)\n",
    "    \n",
    "for a,b in zip(k_valchart['K_value'], k_valchart['Test_acc']):\n",
    "    plt.text(a+0.001, b-0.005, str(b), fontsize = 10)\n",
    "    \n",
    "plt.legend(loc = 'upper right')\n",
    "plt.show()"
   ]
  },
  {
   "cell_type": "code",
   "execution_count": null,
   "metadata": {},
   "outputs": [],
   "source": []
  }
 ],
 "metadata": {
  "kernelspec": {
   "display_name": "Python 3",
   "language": "python",
   "name": "python3"
  },
  "language_info": {
   "codemirror_mode": {
    "name": "ipython",
    "version": 3
   },
   "file_extension": ".py",
   "mimetype": "text/x-python",
   "name": "python",
   "nbconvert_exporter": "python",
   "pygments_lexer": "ipython3",
   "version": "3.8.3"
  }
 },
 "nbformat": 4,
 "nbformat_minor": 4
}

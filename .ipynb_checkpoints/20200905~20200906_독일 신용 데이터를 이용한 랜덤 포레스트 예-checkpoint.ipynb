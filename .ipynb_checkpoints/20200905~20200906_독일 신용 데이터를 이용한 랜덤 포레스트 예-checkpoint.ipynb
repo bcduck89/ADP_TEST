{
 "cells": [
  {
   "cell_type": "markdown",
   "metadata": {},
   "source": [
    "# 랜덤포레스트\n",
    "- 의사결정 트리\n",
    "    - 높은 분산, 낮은 편향 => 모델의 안정성 떨어짐\n",
    "- 랜덤포레스트\n",
    "    - 의사결정 트리를 평균화 => 모델의 분산을 안정화\n",
    "   \n",
    "- 배깅 : 전체 테이블에서 소수의 관측값과 전체 열이 선택\n",
    "- 랜덤포레스트 : 소수의 관측값과 열이 선택 => 서로 상관없는 개별 트리 생성\n",
    "\n",
    "- 의사결정 트리의 앙상블 과정으로 인해 랜덤포레스트는 개별 변수에 관한 해석이 힘듬 => 변수의 유의성을 결정할 수 없음\n",
    "- 따라서, 변수의 중요도만 제공됨"
   ]
  },
  {
   "cell_type": "code",
   "execution_count": 1,
   "metadata": {},
   "outputs": [],
   "source": [
    "# 모듈 가져오기\n",
    "import pandas as pd\n",
    "from sklearn.ensemble import RandomForestClassifier"
   ]
  },
  {
   "cell_type": "code",
   "execution_count": 2,
   "metadata": {},
   "outputs": [],
   "source": [
    "# 데이터 불러오기\n",
    "credit_data = pd.read_csv('./Data/german_credit_new.csv')"
   ]
  },
  {
   "cell_type": "code",
   "execution_count": 3,
   "metadata": {},
   "outputs": [
    {
     "data": {
      "text/plain": [
       "(1000, 21)"
      ]
     },
     "execution_count": 3,
     "metadata": {},
     "output_type": "execute_result"
    }
   ],
   "source": [
    "# 데이터 shap 확인\n",
    "credit_data.shape"
   ]
  },
  {
   "cell_type": "code",
   "execution_count": 4,
   "metadata": {},
   "outputs": [
    {
     "data": {
      "text/plain": [
       "Index(['Status of existing checking account', 'Duration in month',\n",
       "       'Credit history', 'Purpose', 'Credit amount', 'Savings account/bonds',\n",
       "       'Present employment since',\n",
       "       'Installment rate in percentage of disposable income',\n",
       "       'Personal status and sex', 'Other debtors / guarantors',\n",
       "       'Present residence since', 'Property', 'Age in years',\n",
       "       'Other installment plans', 'Housing',\n",
       "       'Number of existing credits at this bank', 'Job',\n",
       "       'Number of people being liable to provide maintenance for', 'Telephone',\n",
       "       'foreign worker', 'class'],\n",
       "      dtype='object')"
      ]
     },
     "execution_count": 4,
     "metadata": {},
     "output_type": "execute_result"
    }
   ],
   "source": [
    "# 데이터 컬럼 확인\n",
    "credit_data.columns"
   ]
  },
  {
   "cell_type": "code",
   "execution_count": 5,
   "metadata": {},
   "outputs": [],
   "source": [
    "# 종속변수 class 1 ,2 를 -> 0, 1로 변환\n",
    "credit_data['class'] = credit_data['class'] -1"
   ]
  },
  {
   "cell_type": "code",
   "execution_count": 6,
   "metadata": {},
   "outputs": [],
   "source": [
    "# 명목형 변수와, 연속형 변수로 나눠서 컬럼을 정의하자\n",
    "dtypes = credit_data.dtypes\n",
    "continuous_columns = list()\n",
    "discrete_columns = list()\n",
    "for i in range(0, len(dtypes)):\n",
    "    if dtypes[i] == 'object':\n",
    "        discrete_columns.append(credit_data.columns[i])\n",
    "        \n",
    "    elif dtypes[i] == 'int64':\n",
    "        continuous_columns.append(credit_data.columns[i])"
   ]
  },
  {
   "cell_type": "code",
   "execution_count": 7,
   "metadata": {},
   "outputs": [
    {
     "name": "stdout",
     "output_type": "stream",
     "text": [
      "['Duration in month', 'Credit amount', 'Installment rate in percentage of disposable income', 'Present residence since', 'Age in years', 'Number of existing credits at this bank', 'Number of people being liable to provide maintenance for', 'class']\n",
      "['Status of existing checking account', 'Credit history', 'Purpose', 'Savings account/bonds', 'Present employment since', 'Personal status and sex', 'Other debtors / guarantors', 'Property', 'Other installment plans', 'Housing', 'Job', 'Telephone', 'foreign worker']\n"
     ]
    }
   ],
   "source": [
    "# 컬럼 데이터 확인\n",
    "print(continuous_columns)\n",
    "print(discrete_columns)"
   ]
  },
  {
   "cell_type": "code",
   "execution_count": 8,
   "metadata": {},
   "outputs": [],
   "source": [
    "# 명목형 데이터는 더미 변수로 변환 필요\n",
    "dummies_list = list()\n",
    "for col in discrete_columns:\n",
    "    dummies_list.append(pd.get_dummies(credit_data[col], prefix = col))"
   ]
  },
  {
   "cell_type": "code",
   "execution_count": 9,
   "metadata": {},
   "outputs": [],
   "source": [
    "# 더비변수들을 이용해서 데이터프레임 새로 만들기\n",
    "dummies_df = pd.concat(dummies_list, axis = 1)"
   ]
  },
  {
   "cell_type": "code",
   "execution_count": 10,
   "metadata": {},
   "outputs": [],
   "source": [
    "# 데이터분석을 위한 새로운 통합 데이터 프레임 만들기\n",
    "credit_data_new = pd.concat([credit_data[continuous_columns], dummies_df], axis = 1)"
   ]
  },
  {
   "cell_type": "code",
   "execution_count": 11,
   "metadata": {},
   "outputs": [
    {
     "data": {
      "text/html": [
       "<div>\n",
       "<style scoped>\n",
       "    .dataframe tbody tr th:only-of-type {\n",
       "        vertical-align: middle;\n",
       "    }\n",
       "\n",
       "    .dataframe tbody tr th {\n",
       "        vertical-align: top;\n",
       "    }\n",
       "\n",
       "    .dataframe thead th {\n",
       "        text-align: right;\n",
       "    }\n",
       "</style>\n",
       "<table border=\"1\" class=\"dataframe\">\n",
       "  <thead>\n",
       "    <tr style=\"text-align: right;\">\n",
       "      <th></th>\n",
       "      <th>Duration in month</th>\n",
       "      <th>Credit amount</th>\n",
       "      <th>Installment rate in percentage of disposable income</th>\n",
       "      <th>Present residence since</th>\n",
       "      <th>Age in years</th>\n",
       "      <th>Number of existing credits at this bank</th>\n",
       "      <th>Number of people being liable to provide maintenance for</th>\n",
       "      <th>class</th>\n",
       "      <th>Status of existing checking account_A11</th>\n",
       "      <th>Status of existing checking account_A12</th>\n",
       "      <th>...</th>\n",
       "      <th>Housing_A152</th>\n",
       "      <th>Housing_A153</th>\n",
       "      <th>Job_A171</th>\n",
       "      <th>Job_A172</th>\n",
       "      <th>Job_A173</th>\n",
       "      <th>Job_A174</th>\n",
       "      <th>Telephone_A191</th>\n",
       "      <th>Telephone_A192</th>\n",
       "      <th>foreign worker_A201</th>\n",
       "      <th>foreign worker_A202</th>\n",
       "    </tr>\n",
       "  </thead>\n",
       "  <tbody>\n",
       "    <tr>\n",
       "      <th>0</th>\n",
       "      <td>6</td>\n",
       "      <td>1169</td>\n",
       "      <td>4</td>\n",
       "      <td>4</td>\n",
       "      <td>67</td>\n",
       "      <td>2</td>\n",
       "      <td>1</td>\n",
       "      <td>0</td>\n",
       "      <td>1</td>\n",
       "      <td>0</td>\n",
       "      <td>...</td>\n",
       "      <td>1</td>\n",
       "      <td>0</td>\n",
       "      <td>0</td>\n",
       "      <td>0</td>\n",
       "      <td>1</td>\n",
       "      <td>0</td>\n",
       "      <td>0</td>\n",
       "      <td>1</td>\n",
       "      <td>1</td>\n",
       "      <td>0</td>\n",
       "    </tr>\n",
       "    <tr>\n",
       "      <th>1</th>\n",
       "      <td>48</td>\n",
       "      <td>5951</td>\n",
       "      <td>2</td>\n",
       "      <td>2</td>\n",
       "      <td>22</td>\n",
       "      <td>1</td>\n",
       "      <td>1</td>\n",
       "      <td>1</td>\n",
       "      <td>0</td>\n",
       "      <td>1</td>\n",
       "      <td>...</td>\n",
       "      <td>1</td>\n",
       "      <td>0</td>\n",
       "      <td>0</td>\n",
       "      <td>0</td>\n",
       "      <td>1</td>\n",
       "      <td>0</td>\n",
       "      <td>1</td>\n",
       "      <td>0</td>\n",
       "      <td>1</td>\n",
       "      <td>0</td>\n",
       "    </tr>\n",
       "    <tr>\n",
       "      <th>2</th>\n",
       "      <td>12</td>\n",
       "      <td>2096</td>\n",
       "      <td>2</td>\n",
       "      <td>3</td>\n",
       "      <td>49</td>\n",
       "      <td>1</td>\n",
       "      <td>2</td>\n",
       "      <td>0</td>\n",
       "      <td>0</td>\n",
       "      <td>0</td>\n",
       "      <td>...</td>\n",
       "      <td>1</td>\n",
       "      <td>0</td>\n",
       "      <td>0</td>\n",
       "      <td>1</td>\n",
       "      <td>0</td>\n",
       "      <td>0</td>\n",
       "      <td>1</td>\n",
       "      <td>0</td>\n",
       "      <td>1</td>\n",
       "      <td>0</td>\n",
       "    </tr>\n",
       "    <tr>\n",
       "      <th>3</th>\n",
       "      <td>42</td>\n",
       "      <td>7882</td>\n",
       "      <td>2</td>\n",
       "      <td>4</td>\n",
       "      <td>45</td>\n",
       "      <td>1</td>\n",
       "      <td>2</td>\n",
       "      <td>0</td>\n",
       "      <td>1</td>\n",
       "      <td>0</td>\n",
       "      <td>...</td>\n",
       "      <td>0</td>\n",
       "      <td>1</td>\n",
       "      <td>0</td>\n",
       "      <td>0</td>\n",
       "      <td>1</td>\n",
       "      <td>0</td>\n",
       "      <td>1</td>\n",
       "      <td>0</td>\n",
       "      <td>1</td>\n",
       "      <td>0</td>\n",
       "    </tr>\n",
       "    <tr>\n",
       "      <th>4</th>\n",
       "      <td>24</td>\n",
       "      <td>4870</td>\n",
       "      <td>3</td>\n",
       "      <td>4</td>\n",
       "      <td>53</td>\n",
       "      <td>2</td>\n",
       "      <td>2</td>\n",
       "      <td>1</td>\n",
       "      <td>1</td>\n",
       "      <td>0</td>\n",
       "      <td>...</td>\n",
       "      <td>0</td>\n",
       "      <td>1</td>\n",
       "      <td>0</td>\n",
       "      <td>0</td>\n",
       "      <td>1</td>\n",
       "      <td>0</td>\n",
       "      <td>1</td>\n",
       "      <td>0</td>\n",
       "      <td>1</td>\n",
       "      <td>0</td>\n",
       "    </tr>\n",
       "    <tr>\n",
       "      <th>...</th>\n",
       "      <td>...</td>\n",
       "      <td>...</td>\n",
       "      <td>...</td>\n",
       "      <td>...</td>\n",
       "      <td>...</td>\n",
       "      <td>...</td>\n",
       "      <td>...</td>\n",
       "      <td>...</td>\n",
       "      <td>...</td>\n",
       "      <td>...</td>\n",
       "      <td>...</td>\n",
       "      <td>...</td>\n",
       "      <td>...</td>\n",
       "      <td>...</td>\n",
       "      <td>...</td>\n",
       "      <td>...</td>\n",
       "      <td>...</td>\n",
       "      <td>...</td>\n",
       "      <td>...</td>\n",
       "      <td>...</td>\n",
       "      <td>...</td>\n",
       "    </tr>\n",
       "    <tr>\n",
       "      <th>995</th>\n",
       "      <td>12</td>\n",
       "      <td>1736</td>\n",
       "      <td>3</td>\n",
       "      <td>4</td>\n",
       "      <td>31</td>\n",
       "      <td>1</td>\n",
       "      <td>1</td>\n",
       "      <td>0</td>\n",
       "      <td>0</td>\n",
       "      <td>0</td>\n",
       "      <td>...</td>\n",
       "      <td>1</td>\n",
       "      <td>0</td>\n",
       "      <td>0</td>\n",
       "      <td>1</td>\n",
       "      <td>0</td>\n",
       "      <td>0</td>\n",
       "      <td>1</td>\n",
       "      <td>0</td>\n",
       "      <td>1</td>\n",
       "      <td>0</td>\n",
       "    </tr>\n",
       "    <tr>\n",
       "      <th>996</th>\n",
       "      <td>30</td>\n",
       "      <td>3857</td>\n",
       "      <td>4</td>\n",
       "      <td>4</td>\n",
       "      <td>40</td>\n",
       "      <td>1</td>\n",
       "      <td>1</td>\n",
       "      <td>0</td>\n",
       "      <td>1</td>\n",
       "      <td>0</td>\n",
       "      <td>...</td>\n",
       "      <td>1</td>\n",
       "      <td>0</td>\n",
       "      <td>0</td>\n",
       "      <td>0</td>\n",
       "      <td>0</td>\n",
       "      <td>1</td>\n",
       "      <td>0</td>\n",
       "      <td>1</td>\n",
       "      <td>1</td>\n",
       "      <td>0</td>\n",
       "    </tr>\n",
       "    <tr>\n",
       "      <th>997</th>\n",
       "      <td>12</td>\n",
       "      <td>804</td>\n",
       "      <td>4</td>\n",
       "      <td>4</td>\n",
       "      <td>38</td>\n",
       "      <td>1</td>\n",
       "      <td>1</td>\n",
       "      <td>0</td>\n",
       "      <td>0</td>\n",
       "      <td>0</td>\n",
       "      <td>...</td>\n",
       "      <td>1</td>\n",
       "      <td>0</td>\n",
       "      <td>0</td>\n",
       "      <td>0</td>\n",
       "      <td>1</td>\n",
       "      <td>0</td>\n",
       "      <td>1</td>\n",
       "      <td>0</td>\n",
       "      <td>1</td>\n",
       "      <td>0</td>\n",
       "    </tr>\n",
       "    <tr>\n",
       "      <th>998</th>\n",
       "      <td>45</td>\n",
       "      <td>1845</td>\n",
       "      <td>4</td>\n",
       "      <td>4</td>\n",
       "      <td>23</td>\n",
       "      <td>1</td>\n",
       "      <td>1</td>\n",
       "      <td>1</td>\n",
       "      <td>1</td>\n",
       "      <td>0</td>\n",
       "      <td>...</td>\n",
       "      <td>0</td>\n",
       "      <td>1</td>\n",
       "      <td>0</td>\n",
       "      <td>0</td>\n",
       "      <td>1</td>\n",
       "      <td>0</td>\n",
       "      <td>0</td>\n",
       "      <td>1</td>\n",
       "      <td>1</td>\n",
       "      <td>0</td>\n",
       "    </tr>\n",
       "    <tr>\n",
       "      <th>999</th>\n",
       "      <td>45</td>\n",
       "      <td>4576</td>\n",
       "      <td>3</td>\n",
       "      <td>4</td>\n",
       "      <td>27</td>\n",
       "      <td>1</td>\n",
       "      <td>1</td>\n",
       "      <td>0</td>\n",
       "      <td>0</td>\n",
       "      <td>1</td>\n",
       "      <td>...</td>\n",
       "      <td>1</td>\n",
       "      <td>0</td>\n",
       "      <td>0</td>\n",
       "      <td>0</td>\n",
       "      <td>1</td>\n",
       "      <td>0</td>\n",
       "      <td>1</td>\n",
       "      <td>0</td>\n",
       "      <td>1</td>\n",
       "      <td>0</td>\n",
       "    </tr>\n",
       "  </tbody>\n",
       "</table>\n",
       "<p>1000 rows × 62 columns</p>\n",
       "</div>"
      ],
      "text/plain": [
       "     Duration in month  Credit amount  \\\n",
       "0                    6           1169   \n",
       "1                   48           5951   \n",
       "2                   12           2096   \n",
       "3                   42           7882   \n",
       "4                   24           4870   \n",
       "..                 ...            ...   \n",
       "995                 12           1736   \n",
       "996                 30           3857   \n",
       "997                 12            804   \n",
       "998                 45           1845   \n",
       "999                 45           4576   \n",
       "\n",
       "     Installment rate in percentage of disposable income  \\\n",
       "0                                                    4     \n",
       "1                                                    2     \n",
       "2                                                    2     \n",
       "3                                                    2     \n",
       "4                                                    3     \n",
       "..                                                 ...     \n",
       "995                                                  3     \n",
       "996                                                  4     \n",
       "997                                                  4     \n",
       "998                                                  4     \n",
       "999                                                  3     \n",
       "\n",
       "     Present residence since  Age in years  \\\n",
       "0                          4            67   \n",
       "1                          2            22   \n",
       "2                          3            49   \n",
       "3                          4            45   \n",
       "4                          4            53   \n",
       "..                       ...           ...   \n",
       "995                        4            31   \n",
       "996                        4            40   \n",
       "997                        4            38   \n",
       "998                        4            23   \n",
       "999                        4            27   \n",
       "\n",
       "     Number of existing credits at this bank  \\\n",
       "0                                          2   \n",
       "1                                          1   \n",
       "2                                          1   \n",
       "3                                          1   \n",
       "4                                          2   \n",
       "..                                       ...   \n",
       "995                                        1   \n",
       "996                                        1   \n",
       "997                                        1   \n",
       "998                                        1   \n",
       "999                                        1   \n",
       "\n",
       "     Number of people being liable to provide maintenance for  class  \\\n",
       "0                                                    1             0   \n",
       "1                                                    1             1   \n",
       "2                                                    2             0   \n",
       "3                                                    2             0   \n",
       "4                                                    2             1   \n",
       "..                                                 ...           ...   \n",
       "995                                                  1             0   \n",
       "996                                                  1             0   \n",
       "997                                                  1             0   \n",
       "998                                                  1             1   \n",
       "999                                                  1             0   \n",
       "\n",
       "     Status of existing checking account_A11  \\\n",
       "0                                          1   \n",
       "1                                          0   \n",
       "2                                          0   \n",
       "3                                          1   \n",
       "4                                          1   \n",
       "..                                       ...   \n",
       "995                                        0   \n",
       "996                                        1   \n",
       "997                                        0   \n",
       "998                                        1   \n",
       "999                                        0   \n",
       "\n",
       "     Status of existing checking account_A12  ...  Housing_A152  Housing_A153  \\\n",
       "0                                          0  ...             1             0   \n",
       "1                                          1  ...             1             0   \n",
       "2                                          0  ...             1             0   \n",
       "3                                          0  ...             0             1   \n",
       "4                                          0  ...             0             1   \n",
       "..                                       ...  ...           ...           ...   \n",
       "995                                        0  ...             1             0   \n",
       "996                                        0  ...             1             0   \n",
       "997                                        0  ...             1             0   \n",
       "998                                        0  ...             0             1   \n",
       "999                                        1  ...             1             0   \n",
       "\n",
       "     Job_A171  Job_A172  Job_A173  Job_A174  Telephone_A191  Telephone_A192  \\\n",
       "0           0         0         1         0               0               1   \n",
       "1           0         0         1         0               1               0   \n",
       "2           0         1         0         0               1               0   \n",
       "3           0         0         1         0               1               0   \n",
       "4           0         0         1         0               1               0   \n",
       "..        ...       ...       ...       ...             ...             ...   \n",
       "995         0         1         0         0               1               0   \n",
       "996         0         0         0         1               0               1   \n",
       "997         0         0         1         0               1               0   \n",
       "998         0         0         1         0               0               1   \n",
       "999         0         0         1         0               1               0   \n",
       "\n",
       "     foreign worker_A201  foreign worker_A202  \n",
       "0                      1                    0  \n",
       "1                      1                    0  \n",
       "2                      1                    0  \n",
       "3                      1                    0  \n",
       "4                      1                    0  \n",
       "..                   ...                  ...  \n",
       "995                    1                    0  \n",
       "996                    1                    0  \n",
       "997                    1                    0  \n",
       "998                    1                    0  \n",
       "999                    1                    0  \n",
       "\n",
       "[1000 rows x 62 columns]"
      ]
     },
     "execution_count": 11,
     "metadata": {},
     "output_type": "execute_result"
    }
   ],
   "source": [
    "# 데이터 프레임 확인하기\n",
    "credit_data_new"
   ]
  },
  {
   "cell_type": "code",
   "execution_count": 44,
   "metadata": {},
   "outputs": [],
   "source": [
    "# train, test 데이터 분할하기\n",
    "from sklearn.model_selection import train_test_split\n",
    "from sklearn.metrics import accuracy_score, classification_report\n",
    "x_train, x_test, y_train, y_test = train_test_split(credit_data_new.drop('class', axis = 1), credit_data_new['class'], test_size = 0.3, random_state = 42)"
   ]
  },
  {
   "cell_type": "code",
   "execution_count": 45,
   "metadata": {},
   "outputs": [
    {
     "data": {
      "text/plain": [
       "((700, 61), (300, 61), (700,), (300,))"
      ]
     },
     "execution_count": 45,
     "metadata": {},
     "output_type": "execute_result"
    }
   ],
   "source": [
    "# 데이터 분할 상태 확인하기\n",
    "x_train.shape, x_test.shape, y_train.shape, y_test.shape"
   ]
  },
  {
   "cell_type": "markdown",
   "metadata": {},
   "source": [
    "## 랜덤 포레스트 머신 러닝 모델\n",
    "\n",
    "- 트리 개수 : 1000개\n",
    "- 분할 기준 : 지니계수\n",
    "- 각 트리의 최대 깊이 : 100\n",
    "- 분할에 필요한 각 노드의 최소 관측값 : 3\n",
    "- 트리 노드의 최소 관측값 수 : 2"
   ]
  },
  {
   "cell_type": "code",
   "execution_count": 14,
   "metadata": {},
   "outputs": [
    {
     "data": {
      "text/plain": [
       "RandomForestClassifier(max_depth=100, min_samples_leaf=2, min_samples_split=3,\n",
       "                       n_estimators=1000, random_state=43)"
      ]
     },
     "execution_count": 14,
     "metadata": {},
     "output_type": "execute_result"
    }
   ],
   "source": [
    "# 모델 생성\n",
    "rf_fit = RandomForestClassifier(n_estimators = 1000, criterion = 'gini', max_depth = 100, min_samples_split = 3, min_samples_leaf = 2, random_state = 43)\n",
    "rf_fit.fit(x_train, y_train)"
   ]
  },
  {
   "cell_type": "code",
   "execution_count": 15,
   "metadata": {},
   "outputs": [],
   "source": [
    "# 예측값\n",
    "y_pred = rf_fit.predict(x_train)"
   ]
  },
  {
   "cell_type": "code",
   "execution_count": 16,
   "metadata": {},
   "outputs": [
    {
     "data": {
      "text/plain": [
       "((700,), (700,))"
      ]
     },
     "execution_count": 16,
     "metadata": {},
     "output_type": "execute_result"
    }
   ],
   "source": [
    "# 데이터 shpae 확인\n",
    "y_train.shape, y_pred.shape"
   ]
  },
  {
   "cell_type": "code",
   "execution_count": 17,
   "metadata": {},
   "outputs": [
    {
     "data": {
      "text/html": [
       "<div>\n",
       "<style scoped>\n",
       "    .dataframe tbody tr th:only-of-type {\n",
       "        vertical-align: middle;\n",
       "    }\n",
       "\n",
       "    .dataframe tbody tr th {\n",
       "        vertical-align: top;\n",
       "    }\n",
       "\n",
       "    .dataframe thead th {\n",
       "        text-align: right;\n",
       "    }\n",
       "</style>\n",
       "<table border=\"1\" class=\"dataframe\">\n",
       "  <thead>\n",
       "    <tr style=\"text-align: right;\">\n",
       "      <th>Predicted</th>\n",
       "      <th>0</th>\n",
       "      <th>1</th>\n",
       "    </tr>\n",
       "    <tr>\n",
       "      <th>Actual</th>\n",
       "      <th></th>\n",
       "      <th></th>\n",
       "    </tr>\n",
       "  </thead>\n",
       "  <tbody>\n",
       "    <tr>\n",
       "      <th>0</th>\n",
       "      <td>491</td>\n",
       "      <td>0</td>\n",
       "    </tr>\n",
       "    <tr>\n",
       "      <th>1</th>\n",
       "      <td>28</td>\n",
       "      <td>181</td>\n",
       "    </tr>\n",
       "  </tbody>\n",
       "</table>\n",
       "</div>"
      ],
      "text/plain": [
       "Predicted    0    1\n",
       "Actual             \n",
       "0          491    0\n",
       "1           28  181"
      ]
     },
     "execution_count": 17,
     "metadata": {},
     "output_type": "execute_result"
    }
   ],
   "source": [
    "# confusion matrix - validation\n",
    "pd.crosstab(y_train, y_pred, rownames = ['Actual'], colnames = ['Predicted'])"
   ]
  },
  {
   "cell_type": "code",
   "execution_count": 18,
   "metadata": {},
   "outputs": [],
   "source": [
    "# 테스트 값\n",
    "y_pred_test = rf_fit.predict(x_test)"
   ]
  },
  {
   "cell_type": "code",
   "execution_count": 19,
   "metadata": {},
   "outputs": [
    {
     "data": {
      "text/html": [
       "<div>\n",
       "<style scoped>\n",
       "    .dataframe tbody tr th:only-of-type {\n",
       "        vertical-align: middle;\n",
       "    }\n",
       "\n",
       "    .dataframe tbody tr th {\n",
       "        vertical-align: top;\n",
       "    }\n",
       "\n",
       "    .dataframe thead th {\n",
       "        text-align: right;\n",
       "    }\n",
       "</style>\n",
       "<table border=\"1\" class=\"dataframe\">\n",
       "  <thead>\n",
       "    <tr style=\"text-align: right;\">\n",
       "      <th>Predicted</th>\n",
       "      <th>0</th>\n",
       "      <th>1</th>\n",
       "    </tr>\n",
       "    <tr>\n",
       "      <th>Actual</th>\n",
       "      <th></th>\n",
       "      <th></th>\n",
       "    </tr>\n",
       "  </thead>\n",
       "  <tbody>\n",
       "    <tr>\n",
       "      <th>0</th>\n",
       "      <td>197</td>\n",
       "      <td>12</td>\n",
       "    </tr>\n",
       "    <tr>\n",
       "      <th>1</th>\n",
       "      <td>59</td>\n",
       "      <td>32</td>\n",
       "    </tr>\n",
       "  </tbody>\n",
       "</table>\n",
       "</div>"
      ],
      "text/plain": [
       "Predicted    0   1\n",
       "Actual            \n",
       "0          197  12\n",
       "1           59  32"
      ]
     },
     "execution_count": 19,
     "metadata": {},
     "output_type": "execute_result"
    }
   ],
   "source": [
    "# confusion matrix - test\n",
    "pd.crosstab(y_test, y_pred_test, rownames = ['Actual'], colnames = ['Predicted'])"
   ]
  },
  {
   "cell_type": "code",
   "execution_count": 20,
   "metadata": {},
   "outputs": [
    {
     "data": {
      "text/plain": [
       "0.96"
      ]
     },
     "execution_count": 20,
     "metadata": {},
     "output_type": "execute_result"
    }
   ],
   "source": [
    "# 정확도 - train\n",
    "accuracy_score(y_train, y_pred)"
   ]
  },
  {
   "cell_type": "code",
   "execution_count": 21,
   "metadata": {},
   "outputs": [
    {
     "data": {
      "text/plain": [
       "0.7633333333333333"
      ]
     },
     "execution_count": 21,
     "metadata": {},
     "output_type": "execute_result"
    }
   ],
   "source": [
    "# 정확도 - test\n",
    "accuracy_score(y_test, y_pred_test)"
   ]
  },
  {
   "cell_type": "markdown",
   "metadata": {},
   "source": [
    "## 그리드 검색\n",
    "- 트리개수 : (1000, 2000, 3000)\n",
    "- 최대 깊이 : (100, 200, 300)\n",
    "- 분할당 최소 표본 : (2, 3)\n",
    "- 단말 노드의 최소 표본 : (1,2)\n",
    "        "
   ]
  },
  {
   "cell_type": "code",
   "execution_count": 22,
   "metadata": {},
   "outputs": [],
   "source": [
    "# 모듈 가져오기\n",
    "from sklearn.pipeline import Pipeline\n",
    "from sklearn.model_selection import train_test_split, GridSearchCV"
   ]
  },
  {
   "cell_type": "code",
   "execution_count": 30,
   "metadata": {},
   "outputs": [],
   "source": [
    "# 파이프라인 및 파라미터 생성\n",
    "pipeline = Pipeline([('clf', RandomForestClassifier(criterion = 'gini'))])\n",
    "parameters = {\n",
    "    'clf__n_estimators' : (1000, 2000, 3000),\n",
    "    'clf__max_depth'    : (100,200,300),\n",
    "    'clf__min_samples_split' : (2,3),\n",
    "    'clf__min_samples_leaf' : (1,2)\n",
    "}"
   ]
  },
  {
   "cell_type": "code",
   "execution_count": 31,
   "metadata": {},
   "outputs": [
    {
     "name": "stdout",
     "output_type": "stream",
     "text": [
      "Fitting 5 folds for each of 36 candidates, totalling 180 fits\n"
     ]
    },
    {
     "name": "stderr",
     "output_type": "stream",
     "text": [
      "[Parallel(n_jobs=-1)]: Using backend LokyBackend with 8 concurrent workers.\n",
      "[Parallel(n_jobs=-1)]: Done  34 tasks      | elapsed:   31.8s\n",
      "[Parallel(n_jobs=-1)]: Done 180 out of 180 | elapsed:  2.6min finished\n"
     ]
    },
    {
     "data": {
      "text/plain": [
       "GridSearchCV(cv=5,\n",
       "             estimator=Pipeline(steps=[('clf', RandomForestClassifier())]),\n",
       "             n_jobs=-1,\n",
       "             param_grid={'clf__max_depth': (100, 200, 300),\n",
       "                         'clf__min_samples_leaf': (1, 2),\n",
       "                         'clf__min_samples_split': (2, 3),\n",
       "                         'clf__n_estimators': (1000, 2000, 3000)},\n",
       "             scoring='accuracy', verbose=1)"
      ]
     },
     "execution_count": 31,
     "metadata": {},
     "output_type": "execute_result"
    }
   ],
   "source": [
    "# 5중교차검증을 이용한 그리드서치\n",
    "grid_search = GridSearchCV(pipeline, parameters, n_jobs = -1, cv = 5, verbose = 1, scoring = 'accuracy')\n",
    "grid_search.fit(x_train,y_train)"
   ]
  },
  {
   "cell_type": "code",
   "execution_count": 32,
   "metadata": {},
   "outputs": [
    {
     "data": {
      "text/plain": [
       "0.7742857142857142"
      ]
     },
     "execution_count": 32,
     "metadata": {},
     "output_type": "execute_result"
    }
   ],
   "source": [
    "# best_score\n",
    "grid_search.best_score_"
   ]
  },
  {
   "cell_type": "code",
   "execution_count": 40,
   "metadata": {},
   "outputs": [
    {
     "name": "stdout",
     "output_type": "stream",
     "text": [
      "clf__max_depth 300\n",
      "clf__min_samples_leaf 2\n",
      "clf__min_samples_split 2\n",
      "clf__n_estimators 1000\n"
     ]
    }
   ],
   "source": [
    "# best_parameters\n",
    "best_parameters = grid_search.best_estimator_.get_params()\n",
    "for param_name in sorted(parameters.keys()):\n",
    "    print(param_name, best_parameters[param_name])"
   ]
  },
  {
   "cell_type": "code",
   "execution_count": 41,
   "metadata": {},
   "outputs": [],
   "source": [
    "# 예측\n",
    "predictions = grid_search.predict(x_test)"
   ]
  },
  {
   "cell_type": "code",
   "execution_count": 42,
   "metadata": {},
   "outputs": [
    {
     "data": {
      "text/plain": [
       "0.7533"
      ]
     },
     "execution_count": 42,
     "metadata": {},
     "output_type": "execute_result"
    }
   ],
   "source": [
    "# 정확도 확인\n",
    "round(accuracy_score(y_test, predictions),4)"
   ]
  },
  {
   "cell_type": "code",
   "execution_count": 47,
   "metadata": {},
   "outputs": [
    {
     "name": "stdout",
     "output_type": "stream",
     "text": [
      "              precision    recall  f1-score   support\n",
      "\n",
      "           0       0.76      0.94      0.84       209\n",
      "           1       0.71      0.32      0.44        91\n",
      "\n",
      "    accuracy                           0.75       300\n",
      "   macro avg       0.73      0.63      0.64       300\n",
      "weighted avg       0.74      0.75      0.72       300\n",
      "\n"
     ]
    }
   ],
   "source": [
    "# classification report\n",
    "print(classification_report(y_test, predictions))"
   ]
  },
  {
   "cell_type": "code",
   "execution_count": 48,
   "metadata": {},
   "outputs": [
    {
     "data": {
      "text/html": [
       "<div>\n",
       "<style scoped>\n",
       "    .dataframe tbody tr th:only-of-type {\n",
       "        vertical-align: middle;\n",
       "    }\n",
       "\n",
       "    .dataframe tbody tr th {\n",
       "        vertical-align: top;\n",
       "    }\n",
       "\n",
       "    .dataframe thead th {\n",
       "        text-align: right;\n",
       "    }\n",
       "</style>\n",
       "<table border=\"1\" class=\"dataframe\">\n",
       "  <thead>\n",
       "    <tr style=\"text-align: right;\">\n",
       "      <th>Predicted</th>\n",
       "      <th>0</th>\n",
       "      <th>1</th>\n",
       "    </tr>\n",
       "    <tr>\n",
       "      <th>Acutaul</th>\n",
       "      <th></th>\n",
       "      <th></th>\n",
       "    </tr>\n",
       "  </thead>\n",
       "  <tbody>\n",
       "    <tr>\n",
       "      <th>0</th>\n",
       "      <td>197</td>\n",
       "      <td>12</td>\n",
       "    </tr>\n",
       "    <tr>\n",
       "      <th>1</th>\n",
       "      <td>62</td>\n",
       "      <td>29</td>\n",
       "    </tr>\n",
       "  </tbody>\n",
       "</table>\n",
       "</div>"
      ],
      "text/plain": [
       "Predicted    0   1\n",
       "Acutaul           \n",
       "0          197  12\n",
       "1           62  29"
      ]
     },
     "execution_count": 48,
     "metadata": {},
     "output_type": "execute_result"
    }
   ],
   "source": [
    "# confusion maxtrix\n",
    "pd.crosstab(y_test, predictions, rownames = ['Acutaul'], colnames = ['Predicted'])"
   ]
  },
  {
   "cell_type": "markdown",
   "metadata": {},
   "source": [
    "## 변수 중요도 그래프\n",
    "- 가장 중요한 변수들의 순서를 지니 값 감소의 평군에 따라 내림차순으로 정렬해서 나타냄\n",
    "- 파이썬에서 grid_search에서는 변수 중요도 그래프 기능이 없다.\n",
    "- 따라서, 단순 랜덤 포레스트 함수를 사용해서 grid_search를 통해 찾은 파라미터를 적용한다."
   ]
  },
  {
   "cell_type": "code",
   "execution_count": 61,
   "metadata": {},
   "outputs": [
    {
     "data": {
      "text/plain": [
       "RandomForestClassifier(max_depth=300, min_samples_split=3, n_estimators=1000)"
      ]
     },
     "execution_count": 61,
     "metadata": {},
     "output_type": "execute_result"
    }
   ],
   "source": [
    "# 모듈 가져 오기\n",
    "import matplotlib.pyplot as plt\n",
    "import numpy as np\n",
    "rf_fit_best = RandomForestClassifier(n_estimators = 1000, criterion = 'gini', max_depth = 300, min_samples_split = 3, min_samples_leaf = 1)\n",
    "rf_fit_best.fit(x_train,y_train)"
   ]
  },
  {
   "cell_type": "code",
   "execution_count": 62,
   "metadata": {},
   "outputs": [],
   "source": [
    "# 변수 중요도\n",
    "importances = rf_fit_best.feature_importances_"
   ]
  },
  {
   "cell_type": "code",
   "execution_count": 63,
   "metadata": {},
   "outputs": [
    {
     "name": "stdout",
     "output_type": "stream",
     "text": [
      "(61,) \n",
      " [0.07683325 0.10115002 0.03436327 0.0313122  0.08308263 0.01818781\n",
      " 0.00885457 0.03554646 0.01772781 0.00746143 0.04739704 0.01539172\n",
      " 0.01061128 0.01450942 0.00907846 0.02635285 0.02155381 0.00731308\n",
      " 0.00287415 0.01238776 0.01502817 0.00261535 0.00466876 0.00994322\n",
      " 0.00105401 0.01103188 0.01946694 0.00832068 0.0067692  0.00517512\n",
      " 0.0124184  0.01112675 0.0146428  0.01355337 0.01150098 0.01236823\n",
      " 0.00599354 0.01415121 0.01433408 0.00790543 0.00959052 0.00628224\n",
      " 0.00710823 0.0155016  0.01151679 0.01443799 0.01262812 0.01291416\n",
      " 0.00552134 0.01489434 0.01001818 0.01571725 0.0086043  0.00253185\n",
      " 0.00965254 0.01412211 0.01139411 0.01396575 0.01334639 0.00324055\n",
      " 0.00295444]\n"
     ]
    }
   ],
   "source": [
    "# 데이터 확인\n",
    "print(importances.shape, \"\\n\", importances)"
   ]
  },
  {
   "cell_type": "code",
   "execution_count": 67,
   "metadata": {},
   "outputs": [],
   "source": [
    "# 표준편차 계산\n",
    "std = np.std([tree.feature_importances_ for tree in rf_fit_best.estimators_], axis = 0)"
   ]
  },
  {
   "cell_type": "code",
   "execution_count": 83,
   "metadata": {},
   "outputs": [
    {
     "data": {
      "text/plain": [
       "array([ 1,  4,  0, 10,  7,  2,  3, 15, 16, 26,  5,  8, 51, 43, 11, 20, 49,\n",
       "       32, 13, 45, 38, 37, 55, 57, 33, 58, 47, 46, 30, 19, 35, 44, 34, 56,\n",
       "       31, 25, 12, 50, 23, 54, 40, 14,  6, 52, 27, 39,  9, 17, 42, 28, 41,\n",
       "       36, 48, 29, 22, 59, 60, 18, 21, 53, 24], dtype=int64)"
      ]
     },
     "execution_count": 83,
     "metadata": {},
     "output_type": "execute_result"
    }
   ],
   "source": [
    "# 인덱싱\n",
    "indices = np.argsort(importances)[::-1] # 이거 무슨 문법이지 ?\n",
    "indices"
   ]
  },
  {
   "cell_type": "code",
   "execution_count": 84,
   "metadata": {},
   "outputs": [
    {
     "name": "stdout",
     "output_type": "stream",
     "text": [
      "Feature 1 , Credit amount 0.1012\n",
      "Feature 4 , Age in years 0.0831\n",
      "Feature 0 , Duration in month 0.0768\n",
      "Feature 10 , Status of existing checking account_A14 0.0474\n",
      "Feature 7 , Status of existing checking account_A11 0.0355\n",
      "Feature 2 , Installment rate in percentage of disposable income 0.0344\n",
      "Feature 3 , Present residence since 0.0313\n",
      "Feature 15 , Credit history_A34 0.0264\n",
      "Feature 16 , Purpose_A40 0.0216\n",
      "Feature 26 , Savings account/bonds_A61 0.0195\n",
      "Feature 5 , Number of existing credits at this bank 0.0182\n",
      "Feature 8 , Status of existing checking account_A12 0.0177\n",
      "Feature 51 , Housing_A152 0.0157\n",
      "Feature 43 , Property_A121 0.0155\n",
      "Feature 11 , Credit history_A30 0.0154\n",
      "Feature 20 , Purpose_A43 0.015\n",
      "Feature 49 , Other installment plans_A143 0.0149\n",
      "Feature 32 , Present employment since_A72 0.0146\n",
      "Feature 13 , Credit history_A32 0.0145\n",
      "Feature 45 , Property_A123 0.0144\n",
      "Feature 38 , Personal status and sex_A93 0.0143\n",
      "Feature 37 , Personal status and sex_A92 0.0142\n",
      "Feature 55 , Job_A173 0.0141\n",
      "Feature 57 , Telephone_A191 0.014\n",
      "Feature 33 , Present employment since_A73 0.0136\n",
      "Feature 58 , Telephone_A192 0.0133\n",
      "Feature 47 , Other installment plans_A141 0.0129\n",
      "Feature 46 , Property_A124 0.0126\n",
      "Feature 30 , Savings account/bonds_A65 0.0124\n",
      "Feature 19 , Purpose_A42 0.0124\n",
      "Feature 35 , Present employment since_A75 0.0124\n",
      "Feature 44 , Property_A122 0.0115\n",
      "Feature 34 , Present employment since_A74 0.0115\n",
      "Feature 56 , Job_A174 0.0114\n",
      "Feature 31 , Present employment since_A71 0.0111\n",
      "Feature 25 , Purpose_A49 0.011\n",
      "Feature 12 , Credit history_A31 0.0106\n",
      "Feature 50 , Housing_A151 0.01\n",
      "Feature 23 , Purpose_A46 0.0099\n",
      "Feature 54 , Job_A172 0.0097\n",
      "Feature 40 , Other debtors / guarantors_A101 0.0096\n",
      "Feature 14 , Credit history_A33 0.0091\n",
      "Feature 6 , Number of people being liable to provide maintenance for 0.0089\n",
      "Feature 52 , Housing_A153 0.0086\n",
      "Feature 27 , Savings account/bonds_A62 0.0083\n",
      "Feature 39 , Personal status and sex_A94 0.0079\n",
      "Feature 9 , Status of existing checking account_A13 0.0075\n",
      "Feature 17 , Purpose_A41 0.0073\n",
      "Feature 42 , Other debtors / guarantors_A103 0.0071\n",
      "Feature 28 , Savings account/bonds_A63 0.0068\n",
      "Feature 41 , Other debtors / guarantors_A102 0.0063\n",
      "Feature 36 , Personal status and sex_A91 0.006\n",
      "Feature 48 , Other installment plans_A142 0.0055\n",
      "Feature 29 , Savings account/bonds_A64 0.0052\n",
      "Feature 22 , Purpose_A45 0.0047\n",
      "Feature 59 , foreign worker_A201 0.0032\n",
      "Feature 60 , foreign worker_A202 0.003\n",
      "Feature 18 , Purpose_A410 0.0029\n",
      "Feature 21 , Purpose_A44 0.0026\n",
      "Feature 53 , Job_A171 0.0025\n",
      "Feature 24 , Purpose_A48 0.0011\n"
     ]
    }
   ],
   "source": [
    "colnames = list(x_train.columns)\n",
    "for f in range(x_train.shape[1]):\n",
    "    print('Feature', indices[f], \",\", colnames[indices[f]], round(importances[indices[f]], 4))"
   ]
  },
  {
   "cell_type": "code",
   "execution_count": 88,
   "metadata": {},
   "outputs": [
    {
     "data": {
      "image/png": "[encoded data removed]",
      "text/plain": [
       "<Figure size 1440x720 with 1 Axes>"
      ]
     },
     "metadata": {
      "needs_background": "light"
     },
     "output_type": "display_data"
    }
   ],
   "source": [
    "# 그래프 그리기\n",
    "plt.figure(figsize=(20,10))\n",
    "plt.bar(range(x_train.shape[1]), importances[indices], color = 'r', yerr = std[indices], align = 'center')\n",
    "plt.xlim([-1, x_train.shape[1]])\n",
    "plt.xticks(range(x_train.shape[1]), indices)\n",
    "plt.show()"
   ]
  },
  {
   "cell_type": "code",
   "execution_count": null,
   "metadata": {},
   "outputs": [],
   "source": []
  },
  {
   "cell_type": "code",
   "execution_count": null,
   "metadata": {},
   "outputs": [],
   "source": []
  },
  {
   "cell_type": "code",
   "execution_count": null,
   "metadata": {},
   "outputs": [],
   "source": []
  }
 ],
 "metadata": {
  "kernelspec": {
   "display_name": "Python 3",
   "language": "python",
   "name": "python3"
  },
  "language_info": {
   "codemirror_mode": {
    "name": "ipython",
    "version": 3
   },
   "file_extension": ".py",
   "mimetype": "text/x-python",
   "name": "python",
   "nbconvert_exporter": "python",
   "pygments_lexer": "ipython3",
   "version": "3.8.3"
  }
 },
 "nbformat": 4,
 "nbformat_minor": 2
}

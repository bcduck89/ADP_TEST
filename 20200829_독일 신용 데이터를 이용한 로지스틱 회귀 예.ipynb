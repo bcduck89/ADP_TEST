{
 "cells": [
  {
   "cell_type": "code",
   "execution_count": 1,
   "metadata": {},
   "outputs": [],
   "source": [
    "# 모듈 가져오기\n",
    "import numpy as np\n",
    "import pandas as pd\n",
    "from sklearn.model_selection import train_test_split\n",
    "from sklearn.metrics import accuracy_score, classification_report"
   ]
  },
  {
   "cell_type": "code",
   "execution_count": 2,
   "metadata": {},
   "outputs": [],
   "source": [
    "# 데이터 로드\n",
    "credit_data = pd.read_csv('./Data/german_credit_new.csv')"
   ]
  },
  {
   "cell_type": "code",
   "execution_count": 3,
   "metadata": {},
   "outputs": [
    {
     "data": {
      "text/html": [
       "<div>\n",
       "<style scoped>\n",
       "    .dataframe tbody tr th:only-of-type {\n",
       "        vertical-align: middle;\n",
       "    }\n",
       "\n",
       "    .dataframe tbody tr th {\n",
       "        vertical-align: top;\n",
       "    }\n",
       "\n",
       "    .dataframe thead th {\n",
       "        text-align: right;\n",
       "    }\n",
       "</style>\n",
       "<table border=\"1\" class=\"dataframe\">\n",
       "  <thead>\n",
       "    <tr style=\"text-align: right;\">\n",
       "      <th></th>\n",
       "      <th>Status of existing checking account</th>\n",
       "      <th>Duration in month</th>\n",
       "      <th>Credit history</th>\n",
       "      <th>Purpose</th>\n",
       "      <th>Credit amount</th>\n",
       "      <th>Savings account/bonds</th>\n",
       "      <th>Present employment since</th>\n",
       "      <th>Installment rate in percentage of disposable income</th>\n",
       "      <th>Personal status and sex</th>\n",
       "      <th>Other debtors / guarantors</th>\n",
       "      <th>...</th>\n",
       "      <th>Property</th>\n",
       "      <th>Age in years</th>\n",
       "      <th>Other installment plans</th>\n",
       "      <th>Housing</th>\n",
       "      <th>Number of existing credits at this bank</th>\n",
       "      <th>Job</th>\n",
       "      <th>Number of people being liable to provide maintenance for</th>\n",
       "      <th>Telephone</th>\n",
       "      <th>foreign worker</th>\n",
       "      <th>class</th>\n",
       "    </tr>\n",
       "  </thead>\n",
       "  <tbody>\n",
       "    <tr>\n",
       "      <th>0</th>\n",
       "      <td>A11</td>\n",
       "      <td>6</td>\n",
       "      <td>A34</td>\n",
       "      <td>A43</td>\n",
       "      <td>1169</td>\n",
       "      <td>A65</td>\n",
       "      <td>A75</td>\n",
       "      <td>4</td>\n",
       "      <td>A93</td>\n",
       "      <td>A101</td>\n",
       "      <td>...</td>\n",
       "      <td>A121</td>\n",
       "      <td>67</td>\n",
       "      <td>A143</td>\n",
       "      <td>A152</td>\n",
       "      <td>2</td>\n",
       "      <td>A173</td>\n",
       "      <td>1</td>\n",
       "      <td>A192</td>\n",
       "      <td>A201</td>\n",
       "      <td>1</td>\n",
       "    </tr>\n",
       "    <tr>\n",
       "      <th>1</th>\n",
       "      <td>A12</td>\n",
       "      <td>48</td>\n",
       "      <td>A32</td>\n",
       "      <td>A43</td>\n",
       "      <td>5951</td>\n",
       "      <td>A61</td>\n",
       "      <td>A73</td>\n",
       "      <td>2</td>\n",
       "      <td>A92</td>\n",
       "      <td>A101</td>\n",
       "      <td>...</td>\n",
       "      <td>A121</td>\n",
       "      <td>22</td>\n",
       "      <td>A143</td>\n",
       "      <td>A152</td>\n",
       "      <td>1</td>\n",
       "      <td>A173</td>\n",
       "      <td>1</td>\n",
       "      <td>A191</td>\n",
       "      <td>A201</td>\n",
       "      <td>2</td>\n",
       "    </tr>\n",
       "    <tr>\n",
       "      <th>2</th>\n",
       "      <td>A14</td>\n",
       "      <td>12</td>\n",
       "      <td>A34</td>\n",
       "      <td>A46</td>\n",
       "      <td>2096</td>\n",
       "      <td>A61</td>\n",
       "      <td>A74</td>\n",
       "      <td>2</td>\n",
       "      <td>A93</td>\n",
       "      <td>A101</td>\n",
       "      <td>...</td>\n",
       "      <td>A121</td>\n",
       "      <td>49</td>\n",
       "      <td>A143</td>\n",
       "      <td>A152</td>\n",
       "      <td>1</td>\n",
       "      <td>A172</td>\n",
       "      <td>2</td>\n",
       "      <td>A191</td>\n",
       "      <td>A201</td>\n",
       "      <td>1</td>\n",
       "    </tr>\n",
       "    <tr>\n",
       "      <th>3</th>\n",
       "      <td>A11</td>\n",
       "      <td>42</td>\n",
       "      <td>A32</td>\n",
       "      <td>A42</td>\n",
       "      <td>7882</td>\n",
       "      <td>A61</td>\n",
       "      <td>A74</td>\n",
       "      <td>2</td>\n",
       "      <td>A93</td>\n",
       "      <td>A103</td>\n",
       "      <td>...</td>\n",
       "      <td>A122</td>\n",
       "      <td>45</td>\n",
       "      <td>A143</td>\n",
       "      <td>A153</td>\n",
       "      <td>1</td>\n",
       "      <td>A173</td>\n",
       "      <td>2</td>\n",
       "      <td>A191</td>\n",
       "      <td>A201</td>\n",
       "      <td>1</td>\n",
       "    </tr>\n",
       "    <tr>\n",
       "      <th>4</th>\n",
       "      <td>A11</td>\n",
       "      <td>24</td>\n",
       "      <td>A33</td>\n",
       "      <td>A40</td>\n",
       "      <td>4870</td>\n",
       "      <td>A61</td>\n",
       "      <td>A73</td>\n",
       "      <td>3</td>\n",
       "      <td>A93</td>\n",
       "      <td>A101</td>\n",
       "      <td>...</td>\n",
       "      <td>A124</td>\n",
       "      <td>53</td>\n",
       "      <td>A143</td>\n",
       "      <td>A153</td>\n",
       "      <td>2</td>\n",
       "      <td>A173</td>\n",
       "      <td>2</td>\n",
       "      <td>A191</td>\n",
       "      <td>A201</td>\n",
       "      <td>2</td>\n",
       "    </tr>\n",
       "  </tbody>\n",
       "</table>\n",
       "<p>5 rows × 21 columns</p>\n",
       "</div>"
      ],
      "text/plain": [
       "  Status of existing checking account  Duration in month Credit history  \\\n",
       "0                                 A11                  6            A34   \n",
       "1                                 A12                 48            A32   \n",
       "2                                 A14                 12            A34   \n",
       "3                                 A11                 42            A32   \n",
       "4                                 A11                 24            A33   \n",
       "\n",
       "  Purpose  Credit amount Savings account/bonds Present employment since  \\\n",
       "0     A43           1169                   A65                      A75   \n",
       "1     A43           5951                   A61                      A73   \n",
       "2     A46           2096                   A61                      A74   \n",
       "3     A42           7882                   A61                      A74   \n",
       "4     A40           4870                   A61                      A73   \n",
       "\n",
       "   Installment rate in percentage of disposable income  \\\n",
       "0                                                  4     \n",
       "1                                                  2     \n",
       "2                                                  2     \n",
       "3                                                  2     \n",
       "4                                                  3     \n",
       "\n",
       "  Personal status and sex Other debtors / guarantors  ...  Property  \\\n",
       "0                     A93                       A101  ...      A121   \n",
       "1                     A92                       A101  ...      A121   \n",
       "2                     A93                       A101  ...      A121   \n",
       "3                     A93                       A103  ...      A122   \n",
       "4                     A93                       A101  ...      A124   \n",
       "\n",
       "  Age in years  Other installment plans Housing  \\\n",
       "0           67                     A143    A152   \n",
       "1           22                     A143    A152   \n",
       "2           49                     A143    A152   \n",
       "3           45                     A143    A153   \n",
       "4           53                     A143    A153   \n",
       "\n",
       "  Number of existing credits at this bank   Job  \\\n",
       "0                                       2  A173   \n",
       "1                                       1  A173   \n",
       "2                                       1  A172   \n",
       "3                                       1  A173   \n",
       "4                                       2  A173   \n",
       "\n",
       "  Number of people being liable to provide maintenance for  Telephone  \\\n",
       "0                                                  1             A192   \n",
       "1                                                  1             A191   \n",
       "2                                                  2             A191   \n",
       "3                                                  2             A191   \n",
       "4                                                  2             A191   \n",
       "\n",
       "  foreign worker class  \n",
       "0           A201     1  \n",
       "1           A201     2  \n",
       "2           A201     1  \n",
       "3           A201     1  \n",
       "4           A201     2  \n",
       "\n",
       "[5 rows x 21 columns]"
      ]
     },
     "execution_count": 3,
     "metadata": {},
     "output_type": "execute_result"
    }
   ],
   "source": [
    "# 데이터 확인 - head()\n",
    "credit_data.head()"
   ]
  },
  {
   "cell_type": "code",
   "execution_count": 4,
   "metadata": {},
   "outputs": [
    {
     "data": {
      "text/plain": [
       "(1000, 21)"
      ]
     },
     "execution_count": 4,
     "metadata": {},
     "output_type": "execute_result"
    }
   ],
   "source": [
    "# 데이터 shape 확인\n",
    "credit_data.shape"
   ]
  },
  {
   "cell_type": "code",
   "execution_count": 5,
   "metadata": {},
   "outputs": [
    {
     "name": "stdout",
     "output_type": "stream",
     "text": [
      "<class 'pandas.core.frame.DataFrame'>\n",
      "RangeIndex: 1000 entries, 0 to 999\n",
      "Data columns (total 21 columns):\n",
      " #   Column                                                    Non-Null Count  Dtype \n",
      "---  ------                                                    --------------  ----- \n",
      " 0   Status of existing checking account                       1000 non-null   object\n",
      " 1   Duration in month                                         1000 non-null   int64 \n",
      " 2   Credit history                                            1000 non-null   object\n",
      " 3   Purpose                                                   1000 non-null   object\n",
      " 4   Credit amount                                             1000 non-null   int64 \n",
      " 5   Savings account/bonds                                     1000 non-null   object\n",
      " 6   Present employment since                                  1000 non-null   object\n",
      " 7   Installment rate in percentage of disposable income       1000 non-null   int64 \n",
      " 8   Personal status and sex                                   1000 non-null   object\n",
      " 9   Other debtors / guarantors                                1000 non-null   object\n",
      " 10  Present residence since                                   1000 non-null   int64 \n",
      " 11  Property                                                  1000 non-null   object\n",
      " 12  Age in years                                              1000 non-null   int64 \n",
      " 13  Other installment plans                                   1000 non-null   object\n",
      " 14  Housing                                                   1000 non-null   object\n",
      " 15  Number of existing credits at this bank                   1000 non-null   int64 \n",
      " 16  Job                                                       1000 non-null   object\n",
      " 17  Number of people being liable to provide maintenance for  1000 non-null   int64 \n",
      " 18  Telephone                                                 1000 non-null   object\n",
      " 19  foreign worker                                            1000 non-null   object\n",
      " 20  class                                                     1000 non-null   int64 \n",
      "dtypes: int64(8), object(13)\n",
      "memory usage: 164.2+ KB\n"
     ]
    }
   ],
   "source": [
    "# 데이터 타입 확인\n",
    "credit_data.info()"
   ]
  },
  {
   "cell_type": "code",
   "execution_count": 6,
   "metadata": {},
   "outputs": [
    {
     "data": {
      "text/plain": [
       "array([1, 2], dtype=int64)"
      ]
     },
     "execution_count": 6,
     "metadata": {},
     "output_type": "execute_result"
    }
   ],
   "source": [
    "# 데이터 타입이 object와 int 두가지가 있다.\n",
    "# class가 종속변수\n",
    "# 종속변수를 확인해보자.\n",
    "credit_data['class'].unique()"
   ]
  },
  {
   "cell_type": "code",
   "execution_count": 7,
   "metadata": {},
   "outputs": [],
   "source": [
    "# 데이터 전처리\n",
    "# class를 0과 1로 바꿔주자. => 0 : good, 1 : bad\n",
    "# 공백을 '_'로 바꿔 주자\n",
    "credit_data['class'] = credit_data['class'] - 1\n",
    "credit_data.rename(columns = lambda x : x.replace(\" \", \"_\"), inplace = True)"
   ]
  },
  {
   "cell_type": "code",
   "execution_count": 8,
   "metadata": {},
   "outputs": [],
   "source": [
    "# 데이터 분석 처리 전략\n",
    "# object => 범주형 변수로 간주\n",
    "# int => 연속형 변수로 간주"
   ]
  },
  {
   "cell_type": "code",
   "execution_count": 9,
   "metadata": {},
   "outputs": [
    {
     "data": {
      "text/plain": [
       "array(['A34', 'A32', 'A33', 'A30', 'A31'], dtype=object)"
      ]
     },
     "execution_count": 9,
     "metadata": {},
     "output_type": "execute_result"
    }
   ],
   "source": [
    "# Credit history에 대해서 데이터 확인 해보자.\n",
    "credit_data['Credit_history'].unique()"
   ]
  },
  {
   "cell_type": "code",
   "execution_count": 10,
   "metadata": {},
   "outputs": [],
   "source": [
    "# 데이터 그루핑을 위한 함수 만들기\n",
    "def IV_calc(data, var):\n",
    "    \n",
    "    if data[var].dtypes == \"object\":\n",
    "        dataf = data.groupby([var])['class'].agg(['count', 'sum'])\n",
    "        dataf.columns = ['Total', 'bad']\n",
    "        dataf['good'] = dataf['Total'] - dataf['bad']\n",
    "        dataf['bad_per'] = dataf['bad']/ dataf['bad'].sum()\n",
    "        dataf['good_per'] = dataf['good']/dataf['good'].sum()\n",
    "        dataf['I_V'] = (dataf['good_per'] - dataf['bad_per']) * np.log(dataf['good_per']/dataf['bad_per'])\n",
    "        return dataf\n",
    "    else:\n",
    "        data['bin_var'] = pd.qcut(data[var].rank(method = 'first'), 10)\n",
    "        dataf = data.groupby(['bin_var'])['class'].agg(['count', 'sum'])\n",
    "        dataf.columns = ['Total', 'bad'] \n",
    "        dataf['good'] = dataf['Total'] - dataf['bad']\n",
    "        dataf['bad_per'] = dataf['bad']/ dataf['bad'].sum()\n",
    "        dataf['good_per'] = dataf['good']/dataf['good'].sum()\n",
    "        dataf['I_V'] = (dataf['good_per'] - dataf['bad_per']) * np.log(dataf['good_per']/dataf['bad_per'])\n",
    "    return dataf\n"
   ]
  },
  {
   "cell_type": "code",
   "execution_count": 11,
   "metadata": {},
   "outputs": [
    {
     "data": {
      "text/html": [
       "<div>\n",
       "<style scoped>\n",
       "    .dataframe tbody tr th:only-of-type {\n",
       "        vertical-align: middle;\n",
       "    }\n",
       "\n",
       "    .dataframe tbody tr th {\n",
       "        vertical-align: top;\n",
       "    }\n",
       "\n",
       "    .dataframe thead th {\n",
       "        text-align: right;\n",
       "    }\n",
       "</style>\n",
       "<table border=\"1\" class=\"dataframe\">\n",
       "  <thead>\n",
       "    <tr style=\"text-align: right;\">\n",
       "      <th></th>\n",
       "      <th>Total</th>\n",
       "      <th>bad</th>\n",
       "      <th>good</th>\n",
       "      <th>bad_per</th>\n",
       "      <th>good_per</th>\n",
       "      <th>I_V</th>\n",
       "    </tr>\n",
       "    <tr>\n",
       "      <th>Credit_history</th>\n",
       "      <th></th>\n",
       "      <th></th>\n",
       "      <th></th>\n",
       "      <th></th>\n",
       "      <th></th>\n",
       "      <th></th>\n",
       "    </tr>\n",
       "  </thead>\n",
       "  <tbody>\n",
       "    <tr>\n",
       "      <th>A30</th>\n",
       "      <td>40</td>\n",
       "      <td>25</td>\n",
       "      <td>15</td>\n",
       "      <td>0.083333</td>\n",
       "      <td>0.021429</td>\n",
       "      <td>0.084074</td>\n",
       "    </tr>\n",
       "    <tr>\n",
       "      <th>A31</th>\n",
       "      <td>49</td>\n",
       "      <td>28</td>\n",
       "      <td>21</td>\n",
       "      <td>0.093333</td>\n",
       "      <td>0.030000</td>\n",
       "      <td>0.071882</td>\n",
       "    </tr>\n",
       "    <tr>\n",
       "      <th>A32</th>\n",
       "      <td>530</td>\n",
       "      <td>169</td>\n",
       "      <td>361</td>\n",
       "      <td>0.563333</td>\n",
       "      <td>0.515714</td>\n",
       "      <td>0.004206</td>\n",
       "    </tr>\n",
       "    <tr>\n",
       "      <th>A33</th>\n",
       "      <td>88</td>\n",
       "      <td>28</td>\n",
       "      <td>60</td>\n",
       "      <td>0.093333</td>\n",
       "      <td>0.085714</td>\n",
       "      <td>0.000649</td>\n",
       "    </tr>\n",
       "    <tr>\n",
       "      <th>A34</th>\n",
       "      <td>293</td>\n",
       "      <td>50</td>\n",
       "      <td>243</td>\n",
       "      <td>0.166667</td>\n",
       "      <td>0.347143</td>\n",
       "      <td>0.132423</td>\n",
       "    </tr>\n",
       "  </tbody>\n",
       "</table>\n",
       "</div>"
      ],
      "text/plain": [
       "                Total  bad  good   bad_per  good_per       I_V\n",
       "Credit_history                                                \n",
       "A30                40   25    15  0.083333  0.021429  0.084074\n",
       "A31                49   28    21  0.093333  0.030000  0.071882\n",
       "A32               530  169   361  0.563333  0.515714  0.004206\n",
       "A33                88   28    60  0.093333  0.085714  0.000649\n",
       "A34               293   50   243  0.166667  0.347143  0.132423"
      ]
     },
     "execution_count": 11,
     "metadata": {},
     "output_type": "execute_result"
    }
   ],
   "source": [
    "# object형 데이터 테스트\n",
    "IV_calc(credit_data, 'Credit_history')"
   ]
  },
  {
   "cell_type": "code",
   "execution_count": 12,
   "metadata": {},
   "outputs": [
    {
     "data": {
      "text/html": [
       "<div>\n",
       "<style scoped>\n",
       "    .dataframe tbody tr th:only-of-type {\n",
       "        vertical-align: middle;\n",
       "    }\n",
       "\n",
       "    .dataframe tbody tr th {\n",
       "        vertical-align: top;\n",
       "    }\n",
       "\n",
       "    .dataframe thead th {\n",
       "        text-align: right;\n",
       "    }\n",
       "</style>\n",
       "<table border=\"1\" class=\"dataframe\">\n",
       "  <thead>\n",
       "    <tr style=\"text-align: right;\">\n",
       "      <th></th>\n",
       "      <th>Total</th>\n",
       "      <th>bad</th>\n",
       "      <th>good</th>\n",
       "      <th>bad_per</th>\n",
       "      <th>good_per</th>\n",
       "      <th>I_V</th>\n",
       "    </tr>\n",
       "    <tr>\n",
       "      <th>bin_var</th>\n",
       "      <th></th>\n",
       "      <th></th>\n",
       "      <th></th>\n",
       "      <th></th>\n",
       "      <th></th>\n",
       "      <th></th>\n",
       "    </tr>\n",
       "  </thead>\n",
       "  <tbody>\n",
       "    <tr>\n",
       "      <th>(0.999, 100.9]</th>\n",
       "      <td>100</td>\n",
       "      <td>11</td>\n",
       "      <td>89</td>\n",
       "      <td>0.036667</td>\n",
       "      <td>0.127143</td>\n",
       "      <td>0.112502</td>\n",
       "    </tr>\n",
       "    <tr>\n",
       "      <th>(100.9, 200.8]</th>\n",
       "      <td>100</td>\n",
       "      <td>20</td>\n",
       "      <td>80</td>\n",
       "      <td>0.066667</td>\n",
       "      <td>0.114286</td>\n",
       "      <td>0.025667</td>\n",
       "    </tr>\n",
       "    <tr>\n",
       "      <th>(200.8, 300.7]</th>\n",
       "      <td>100</td>\n",
       "      <td>27</td>\n",
       "      <td>73</td>\n",
       "      <td>0.090000</td>\n",
       "      <td>0.104286</td>\n",
       "      <td>0.002105</td>\n",
       "    </tr>\n",
       "    <tr>\n",
       "      <th>(300.7, 400.6]</th>\n",
       "      <td>100</td>\n",
       "      <td>25</td>\n",
       "      <td>75</td>\n",
       "      <td>0.083333</td>\n",
       "      <td>0.107143</td>\n",
       "      <td>0.005984</td>\n",
       "    </tr>\n",
       "    <tr>\n",
       "      <th>(400.6, 500.5]</th>\n",
       "      <td>100</td>\n",
       "      <td>26</td>\n",
       "      <td>74</td>\n",
       "      <td>0.086667</td>\n",
       "      <td>0.105714</td>\n",
       "      <td>0.003784</td>\n",
       "    </tr>\n",
       "    <tr>\n",
       "      <th>(500.5, 600.4]</th>\n",
       "      <td>100</td>\n",
       "      <td>38</td>\n",
       "      <td>62</td>\n",
       "      <td>0.126667</td>\n",
       "      <td>0.088571</td>\n",
       "      <td>0.013629</td>\n",
       "    </tr>\n",
       "    <tr>\n",
       "      <th>(600.4, 700.3]</th>\n",
       "      <td>100</td>\n",
       "      <td>32</td>\n",
       "      <td>68</td>\n",
       "      <td>0.106667</td>\n",
       "      <td>0.097143</td>\n",
       "      <td>0.000891</td>\n",
       "    </tr>\n",
       "    <tr>\n",
       "      <th>(700.3, 800.2]</th>\n",
       "      <td>100</td>\n",
       "      <td>31</td>\n",
       "      <td>69</td>\n",
       "      <td>0.103333</td>\n",
       "      <td>0.098571</td>\n",
       "      <td>0.000225</td>\n",
       "    </tr>\n",
       "    <tr>\n",
       "      <th>(800.2, 900.1]</th>\n",
       "      <td>100</td>\n",
       "      <td>42</td>\n",
       "      <td>58</td>\n",
       "      <td>0.140000</td>\n",
       "      <td>0.082857</td>\n",
       "      <td>0.029973</td>\n",
       "    </tr>\n",
       "    <tr>\n",
       "      <th>(900.1, 1000.0]</th>\n",
       "      <td>100</td>\n",
       "      <td>48</td>\n",
       "      <td>52</td>\n",
       "      <td>0.160000</td>\n",
       "      <td>0.074286</td>\n",
       "      <td>0.065765</td>\n",
       "    </tr>\n",
       "  </tbody>\n",
       "</table>\n",
       "</div>"
      ],
      "text/plain": [
       "                 Total  bad  good   bad_per  good_per       I_V\n",
       "bin_var                                                        \n",
       "(0.999, 100.9]     100   11    89  0.036667  0.127143  0.112502\n",
       "(100.9, 200.8]     100   20    80  0.066667  0.114286  0.025667\n",
       "(200.8, 300.7]     100   27    73  0.090000  0.104286  0.002105\n",
       "(300.7, 400.6]     100   25    75  0.083333  0.107143  0.005984\n",
       "(400.6, 500.5]     100   26    74  0.086667  0.105714  0.003784\n",
       "(500.5, 600.4]     100   38    62  0.126667  0.088571  0.013629\n",
       "(600.4, 700.3]     100   32    68  0.106667  0.097143  0.000891\n",
       "(700.3, 800.2]     100   31    69  0.103333  0.098571  0.000225\n",
       "(800.2, 900.1]     100   42    58  0.140000  0.082857  0.029973\n",
       "(900.1, 1000.0]    100   48    52  0.160000  0.074286  0.065765"
      ]
     },
     "execution_count": 12,
     "metadata": {},
     "output_type": "execute_result"
    }
   ],
   "source": [
    "# int형 데이터 테스트\n",
    "IV_calc(credit_data, 'Duration_in_month')"
   ]
  },
  {
   "cell_type": "code",
   "execution_count": 27,
   "metadata": {},
   "outputs": [
    {
     "data": {
      "text/plain": [
       "0        8.0\n",
       "1      937.0\n",
       "2      181.0\n",
       "3      920.0\n",
       "4      587.0\n",
       "       ...  \n",
       "995    358.0\n",
       "996    827.0\n",
       "997    359.0\n",
       "998    934.0\n",
       "999    935.0\n",
       "Name: Duration_in_month, Length: 1000, dtype: float64"
      ]
     },
     "execution_count": 27,
     "metadata": {},
     "output_type": "execute_result"
    }
   ],
   "source": [
    "credit_data['Duration_in_month'].rank(method = 'first')"
   ]
  },
  {
   "cell_type": "code",
   "execution_count": 48,
   "metadata": {},
   "outputs": [
    {
     "data": {
      "text/plain": [
       "Status_of_existing_checking_account                           object\n",
       "Duration_in_month                                              int64\n",
       "Credit_history                                                object\n",
       "Purpose                                                       object\n",
       "Credit_amount                                                  int64\n",
       "Savings_account/bonds                                         object\n",
       "Present_employment_since                                      object\n",
       "Installment_rate_in_percentage_of_disposable_income            int64\n",
       "Personal_status_and_sex                                       object\n",
       "Other_debtors_/_guarantors                                    object\n",
       "Present_residence_since                                        int64\n",
       "Property                                                      object\n",
       "Age_in_years                                                   int64\n",
       "Other_installment_plans                                       object\n",
       "Housing                                                       object\n",
       "Number_of_existing_credits_at_this_bank                        int64\n",
       "Job                                                           object\n",
       "Number_of_people_being_liable_to_provide_maintenance_for       int64\n",
       "Telephone                                                     object\n",
       "foreign_worker                                                object\n",
       "class                                                          int64\n",
       "bin_var                                                     category\n",
       "dtype: object"
      ]
     },
     "execution_count": 48,
     "metadata": {},
     "output_type": "execute_result"
    }
   ],
   "source": [
    "# 일단, 데이터 타입 확인 -> 자료형 series\n",
    "credit_data.dtypes"
   ]
  },
  {
   "cell_type": "code",
   "execution_count": 53,
   "metadata": {},
   "outputs": [],
   "source": [
    "# 범주형 변수와 연속형 변수를 나눠서 컬럼 지정을 하자\n",
    "discrete_columns = list()\n",
    "continuous_columns = list()\n",
    "for i in range(len(credit_data.dtypes)):\n",
    "    if credit_data.dtypes[i] == 'object':\n",
    "        discrete_columns.append(credit_data.columns[i])  \n",
    "    elif credit_data.dtypes[i] == 'int64':\n",
    "        continuous_columns.append(credit_data.columns[i])   "
   ]
  },
  {
   "cell_type": "code",
   "execution_count": 55,
   "metadata": {},
   "outputs": [
    {
     "name": "stdout",
     "output_type": "stream",
     "text": [
      "['Status_of_existing_checking_account', 'Credit_history', 'Purpose', 'Savings_account/bonds', 'Present_employment_since', 'Personal_status_and_sex', 'Other_debtors_/_guarantors', 'Property', 'Other_installment_plans', 'Housing', 'Job', 'Telephone', 'foreign_worker'] 13\n",
      "['Duration_in_month', 'Credit_amount', 'Installment_rate_in_percentage_of_disposable_income', 'Present_residence_since', 'Age_in_years', 'Number_of_existing_credits_at_this_bank', 'Number_of_people_being_liable_to_provide_maintenance_for', 'class'] 8\n"
     ]
    }
   ],
   "source": [
    "# 데이터 확인\n",
    "print(discrete_columns, len(discrete_columns))\n",
    "print(continuous_columns, len(continuous_columns) )"
   ]
  },
  {
   "cell_type": "code",
   "execution_count": 57,
   "metadata": {},
   "outputs": [
    {
     "name": "stdout",
     "output_type": "stream",
     "text": [
      "21\n"
     ]
    }
   ],
   "source": [
    "# 전체 컬럼 정의\n",
    "total_columns = discrete_columns + continuous_columns\n",
    "print(len(total_columns))"
   ]
  },
  {
   "cell_type": "code",
   "execution_count": 59,
   "metadata": {},
   "outputs": [
    {
     "name": "stderr",
     "output_type": "stream",
     "text": [
      "C:\\Users\\bcduc\\anaconda3\\lib\\site-packages\\pandas\\core\\series.py:679: RuntimeWarning: divide by zero encountered in log\n",
      "  result = getattr(ufunc, method)(*inputs, **kwargs)\n"
     ]
    }
   ],
   "source": [
    "# IV값 리스트 들고 오기\n",
    "IV_list = list()\n",
    "for col in total_columns:\n",
    "    assigned_data = IV_calc(data = credit_data, var = col)\n",
    "    IV_val = round(assigned_data[\"I_V\"].sum(),3)\n",
    "    dt_type = credit_data[col].dtypes\n",
    "    IV_list.append((IV_val, col, dt_type))"
   ]
  },
  {
   "cell_type": "code",
   "execution_count": 64,
   "metadata": {},
   "outputs": [],
   "source": [
    "# 데이터 확인 및 내림차순으로 정리\n",
    "IV_list = sorted(IV_list, reverse = True)"
   ]
  },
  {
   "cell_type": "code",
   "execution_count": 65,
   "metadata": {},
   "outputs": [
    {
     "data": {
      "text/plain": [
       "[(inf, 'class', dtype('int64')),\n",
       " (0.666, 'Status_of_existing_checking_account', dtype('O')),\n",
       " (0.293, 'Credit_history', dtype('O')),\n",
       " (0.261, 'Duration_in_month', dtype('int64')),\n",
       " (0.196, 'Savings_account/bonds', dtype('O')),\n",
       " (0.169, 'Purpose', dtype('O')),\n",
       " (0.113, 'Property', dtype('O')),\n",
       " (0.113, 'Credit_amount', dtype('int64')),\n",
       " (0.103, 'Age_in_years', dtype('int64')),\n",
       " (0.098, 'Number_of_existing_credits_at_this_bank', dtype('int64')),\n",
       " (0.086, 'Present_employment_since', dtype('O')),\n",
       " (0.083, 'Housing', dtype('O')),\n",
       " (0.062,\n",
       "  'Installment_rate_in_percentage_of_disposable_income',\n",
       "  dtype('int64')),\n",
       " (0.058, 'Other_installment_plans', dtype('O')),\n",
       " (0.049, 'Present_residence_since', dtype('int64')),\n",
       " (0.045, 'Personal_status_and_sex', dtype('O')),\n",
       " (0.044, 'foreign_worker', dtype('O')),\n",
       " (0.034,\n",
       "  'Number_of_people_being_liable_to_provide_maintenance_for',\n",
       "  dtype('int64')),\n",
       " (0.032, 'Other_debtors_/_guarantors', dtype('O')),\n",
       " (0.009, 'Job', dtype('O')),\n",
       " (0.006, 'Telephone', dtype('O'))]"
      ]
     },
     "execution_count": 65,
     "metadata": {},
     "output_type": "execute_result"
    }
   ],
   "source": [
    "# 데이터 확인\n",
    "IV_list"
   ]
  },
  {
   "cell_type": "code",
   "execution_count": 66,
   "metadata": {},
   "outputs": [],
   "source": [
    "# 데이터 수정\n",
    "IV_list = IV_list[1:]"
   ]
  },
  {
   "cell_type": "code",
   "execution_count": null,
   "metadata": {},
   "outputs": [],
   "source": []
  }
 ],
 "metadata": {
  "kernelspec": {
   "display_name": "Python 3",
   "language": "python",
   "name": "python3"
  },
  "language_info": {
   "codemirror_mode": {
    "name": "ipython",
    "version": 3
   },
   "file_extension": ".py",
   "mimetype": "text/x-python",
   "name": "python",
   "nbconvert_exporter": "python",
   "pygments_lexer": "ipython3",
   "version": "3.8.3"
  }
 },
 "nbformat": 4,
 "nbformat_minor": 4
}

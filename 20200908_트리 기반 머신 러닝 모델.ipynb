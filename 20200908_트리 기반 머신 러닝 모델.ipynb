{
 "cells": [
  {
   "cell_type": "markdown",
   "metadata": {},
   "source": [
    "## 랜덤 포레스트 - 그리드 검색"
   ]
  },
  {
   "cell_type": "code",
   "execution_count": 9,
   "metadata": {},
   "outputs": [
    {
     "name": "stderr",
     "output_type": "stream",
     "text": [
      "<frozen importlib._bootstrap>:219: RuntimeWarning: numpy.ufunc size changed, may indicate binary incompatibility. Expected 192 from C header, got 216 from PyObject\n"
     ]
    }
   ],
   "source": [
    "# 랜덤 포레스트 분류기 - 그리드 검색\n",
    "from sklearn.pipeline import Pipeline\n",
    "from sklearn.model_selection import train_test_split, GridSearchCV\n",
    "from sklearn.ensemble import RandomForestClassifier\n",
    "from sklearn.metrics import accuracy_score, classification_report\n",
    "import pandas as pd"
   ]
  },
  {
   "cell_type": "code",
   "execution_count": 10,
   "metadata": {},
   "outputs": [],
   "source": [
    "# 데이터 가져오기\n",
    "hrattr = pd.read_csv('./Data/HR_Employee_Attrition.csv')"
   ]
  },
  {
   "cell_type": "code",
   "execution_count": 12,
   "metadata": {},
   "outputs": [
    {
     "name": "stdout",
     "output_type": "stream",
     "text": [
      "<class 'pandas.core.frame.DataFrame'>\n",
      "RangeIndex: 1470 entries, 0 to 1469\n",
      "Data columns (total 35 columns):\n",
      " #   Column                    Non-Null Count  Dtype \n",
      "---  ------                    --------------  ----- \n",
      " 0   Age                       1470 non-null   int64 \n",
      " 1   Attrition                 1470 non-null   object\n",
      " 2   BusinessTravel            1470 non-null   object\n",
      " 3   DailyRate                 1470 non-null   int64 \n",
      " 4   Department                1470 non-null   object\n",
      " 5   DistanceFromHome          1470 non-null   int64 \n",
      " 6   Education                 1470 non-null   int64 \n",
      " 7   EducationField            1470 non-null   object\n",
      " 8   EmployeeCount             1470 non-null   int64 \n",
      " 9   EmployeeNumber            1470 non-null   int64 \n",
      " 10  EnvironmentSatisfaction   1470 non-null   int64 \n",
      " 11  Gender                    1470 non-null   object\n",
      " 12  HourlyRate                1470 non-null   int64 \n",
      " 13  JobInvolvement            1470 non-null   int64 \n",
      " 14  JobLevel                  1470 non-null   int64 \n",
      " 15  JobRole                   1470 non-null   object\n",
      " 16  JobSatisfaction           1470 non-null   int64 \n",
      " 17  MaritalStatus             1470 non-null   object\n",
      " 18  MonthlyIncome             1470 non-null   int64 \n",
      " 19  MonthlyRate               1470 non-null   int64 \n",
      " 20  NumCompaniesWorked        1470 non-null   int64 \n",
      " 21  Over18                    1470 non-null   object\n",
      " 22  OverTime                  1470 non-null   object\n",
      " 23  PercentSalaryHike         1470 non-null   int64 \n",
      " 24  PerformanceRating         1470 non-null   int64 \n",
      " 25  RelationshipSatisfaction  1470 non-null   int64 \n",
      " 26  StandardHours             1470 non-null   int64 \n",
      " 27  StockOptionLevel          1470 non-null   int64 \n",
      " 28  TotalWorkingYears         1470 non-null   int64 \n",
      " 29  TrainingTimesLastYear     1470 non-null   int64 \n",
      " 30  WorkLifeBalance           1470 non-null   int64 \n",
      " 31  YearsAtCompany            1470 non-null   int64 \n",
      " 32  YearsInCurrentRole        1470 non-null   int64 \n",
      " 33  YearsSinceLastPromotion   1470 non-null   int64 \n",
      " 34  YearsWithCurrManager      1470 non-null   int64 \n",
      "dtypes: int64(26), object(9)\n",
      "memory usage: 402.1+ KB\n"
     ]
    }
   ],
   "source": [
    "# 데이터 컬럼 및 데이터 타입 확인\n",
    "hrattr.info()"
   ]
  },
  {
   "cell_type": "code",
   "execution_count": 43,
   "metadata": {},
   "outputs": [],
   "source": [
    "# 종속변수 : Attrition\n",
    "# Attrition의 Yes, No -> 1, 0 으로 변환\n",
    "hrattr['Attrition_ind'] = 0\n",
    "hrattr.loc[hrattr['Attrition'] == 'Yes', 'Attrition_ind'] = 1"
   ]
  },
  {
   "cell_type": "code",
   "execution_count": 44,
   "metadata": {},
   "outputs": [],
   "source": [
    "# 연속형변수와, 범주형변수를 구분하여 정의\n",
    "discrete_columns = list()\n",
    "continuous_columns = list()\n",
    "dtypes = list(hrattr.dtypes)\n",
    "for dtype in enumerate(dtypes):\n",
    "    if dtype[1] == 'object':\n",
    "        discrete_columns.append(hrattr.columns[dtype[0]])\n",
    "    elif dtype[1] == 'int64':\n",
    "        continuous_columns.append(hrattr.columns[dtype[0]])\n",
    "discrete_columns = sorted(discrete_columns)\n",
    "continuous_columns = sorted(continuous_columns)"
   ]
  },
  {
   "cell_type": "code",
   "execution_count": 45,
   "metadata": {},
   "outputs": [],
   "source": [
    "# object -> dummy로 변환\n",
    "dummies_list = list()\n",
    "for col in discrete_columns:\n",
    "    dummies_list.append(pd.get_dummies(hrattr[col], prefix = col))"
   ]
  },
  {
   "cell_type": "code",
   "execution_count": 46,
   "metadata": {},
   "outputs": [],
   "source": [
    "# discrete_df 만들기\n",
    "discrete_df = pd.concat(dummies_list, axis = 1)"
   ]
  },
  {
   "cell_type": "code",
   "execution_count": 47,
   "metadata": {},
   "outputs": [],
   "source": [
    "# continuous_df 만들기\n",
    "continuous_df = hrattr[continuous_columns]"
   ]
  },
  {
   "cell_type": "code",
   "execution_count": 48,
   "metadata": {},
   "outputs": [],
   "source": [
    "# 통합 데이터 프레임 만들기\n",
    "hrattr_new = pd.concat([discrete_df, continuous_df], axis = 1)"
   ]
  },
  {
   "cell_type": "code",
   "execution_count": 49,
   "metadata": {},
   "outputs": [
    {
     "name": "stdout",
     "output_type": "stream",
     "text": [
      "<class 'pandas.core.frame.DataFrame'>\n",
      "RangeIndex: 1470 entries, 0 to 1469\n",
      "Data columns (total 58 columns):\n",
      " #   Column                             Non-Null Count  Dtype\n",
      "---  ------                             --------------  -----\n",
      " 0   Attrition_No                       1470 non-null   uint8\n",
      " 1   Attrition_Yes                      1470 non-null   uint8\n",
      " 2   BusinessTravel_Non-Travel          1470 non-null   uint8\n",
      " 3   BusinessTravel_Travel_Frequently   1470 non-null   uint8\n",
      " 4   BusinessTravel_Travel_Rarely       1470 non-null   uint8\n",
      " 5   Department_Human Resources         1470 non-null   uint8\n",
      " 6   Department_Research & Development  1470 non-null   uint8\n",
      " 7   Department_Sales                   1470 non-null   uint8\n",
      " 8   EducationField_Human Resources     1470 non-null   uint8\n",
      " 9   EducationField_Life Sciences       1470 non-null   uint8\n",
      " 10  EducationField_Marketing           1470 non-null   uint8\n",
      " 11  EducationField_Medical             1470 non-null   uint8\n",
      " 12  EducationField_Other               1470 non-null   uint8\n",
      " 13  EducationField_Technical Degree    1470 non-null   uint8\n",
      " 14  Gender_Female                      1470 non-null   uint8\n",
      " 15  Gender_Male                        1470 non-null   uint8\n",
      " 16  JobRole_Healthcare Representative  1470 non-null   uint8\n",
      " 17  JobRole_Human Resources            1470 non-null   uint8\n",
      " 18  JobRole_Laboratory Technician      1470 non-null   uint8\n",
      " 19  JobRole_Manager                    1470 non-null   uint8\n",
      " 20  JobRole_Manufacturing Director     1470 non-null   uint8\n",
      " 21  JobRole_Research Director          1470 non-null   uint8\n",
      " 22  JobRole_Research Scientist         1470 non-null   uint8\n",
      " 23  JobRole_Sales Executive            1470 non-null   uint8\n",
      " 24  JobRole_Sales Representative       1470 non-null   uint8\n",
      " 25  MaritalStatus_Divorced             1470 non-null   uint8\n",
      " 26  MaritalStatus_Married              1470 non-null   uint8\n",
      " 27  MaritalStatus_Single               1470 non-null   uint8\n",
      " 28  Over18_Y                           1470 non-null   uint8\n",
      " 29  OverTime_No                        1470 non-null   uint8\n",
      " 30  OverTime_Yes                       1470 non-null   uint8\n",
      " 31  Age                                1470 non-null   int64\n",
      " 32  Attrition_ind                      1470 non-null   int64\n",
      " 33  DailyRate                          1470 non-null   int64\n",
      " 34  DistanceFromHome                   1470 non-null   int64\n",
      " 35  Education                          1470 non-null   int64\n",
      " 36  EmployeeCount                      1470 non-null   int64\n",
      " 37  EmployeeNumber                     1470 non-null   int64\n",
      " 38  EnvironmentSatisfaction            1470 non-null   int64\n",
      " 39  HourlyRate                         1470 non-null   int64\n",
      " 40  JobInvolvement                     1470 non-null   int64\n",
      " 41  JobLevel                           1470 non-null   int64\n",
      " 42  JobSatisfaction                    1470 non-null   int64\n",
      " 43  MonthlyIncome                      1470 non-null   int64\n",
      " 44  MonthlyRate                        1470 non-null   int64\n",
      " 45  NumCompaniesWorked                 1470 non-null   int64\n",
      " 46  PercentSalaryHike                  1470 non-null   int64\n",
      " 47  PerformanceRating                  1470 non-null   int64\n",
      " 48  RelationshipSatisfaction           1470 non-null   int64\n",
      " 49  StandardHours                      1470 non-null   int64\n",
      " 50  StockOptionLevel                   1470 non-null   int64\n",
      " 51  TotalWorkingYears                  1470 non-null   int64\n",
      " 52  TrainingTimesLastYear              1470 non-null   int64\n",
      " 53  WorkLifeBalance                    1470 non-null   int64\n",
      " 54  YearsAtCompany                     1470 non-null   int64\n",
      " 55  YearsInCurrentRole                 1470 non-null   int64\n",
      " 56  YearsSinceLastPromotion            1470 non-null   int64\n",
      " 57  YearsWithCurrManager               1470 non-null   int64\n",
      "dtypes: int64(27), uint8(31)\n",
      "memory usage: 354.7 KB\n"
     ]
    }
   ],
   "source": [
    "# 데이터 확인\n",
    "hrattr_new.info()"
   ]
  },
  {
   "cell_type": "code",
   "execution_count": 50,
   "metadata": {},
   "outputs": [],
   "source": [
    "# 필요없는 컬럼 제거하기\n",
    "remove_cols = ['Attrition_No', 'Attrition_Yes', 'EmployeeCount', 'EmployeeNumber', 'Over18_Y', 'StandardHours']\n",
    "hrattr_new.drop(remove_cols, axis = 1, inplace = True)"
   ]
  },
  {
   "cell_type": "code",
   "execution_count": 51,
   "metadata": {},
   "outputs": [
    {
     "name": "stdout",
     "output_type": "stream",
     "text": [
      "<class 'pandas.core.frame.DataFrame'>\n",
      "RangeIndex: 1470 entries, 0 to 1469\n",
      "Data columns (total 52 columns):\n",
      " #   Column                             Non-Null Count  Dtype\n",
      "---  ------                             --------------  -----\n",
      " 0   BusinessTravel_Non-Travel          1470 non-null   uint8\n",
      " 1   BusinessTravel_Travel_Frequently   1470 non-null   uint8\n",
      " 2   BusinessTravel_Travel_Rarely       1470 non-null   uint8\n",
      " 3   Department_Human Resources         1470 non-null   uint8\n",
      " 4   Department_Research & Development  1470 non-null   uint8\n",
      " 5   Department_Sales                   1470 non-null   uint8\n",
      " 6   EducationField_Human Resources     1470 non-null   uint8\n",
      " 7   EducationField_Life Sciences       1470 non-null   uint8\n",
      " 8   EducationField_Marketing           1470 non-null   uint8\n",
      " 9   EducationField_Medical             1470 non-null   uint8\n",
      " 10  EducationField_Other               1470 non-null   uint8\n",
      " 11  EducationField_Technical Degree    1470 non-null   uint8\n",
      " 12  Gender_Female                      1470 non-null   uint8\n",
      " 13  Gender_Male                        1470 non-null   uint8\n",
      " 14  JobRole_Healthcare Representative  1470 non-null   uint8\n",
      " 15  JobRole_Human Resources            1470 non-null   uint8\n",
      " 16  JobRole_Laboratory Technician      1470 non-null   uint8\n",
      " 17  JobRole_Manager                    1470 non-null   uint8\n",
      " 18  JobRole_Manufacturing Director     1470 non-null   uint8\n",
      " 19  JobRole_Research Director          1470 non-null   uint8\n",
      " 20  JobRole_Research Scientist         1470 non-null   uint8\n",
      " 21  JobRole_Sales Executive            1470 non-null   uint8\n",
      " 22  JobRole_Sales Representative       1470 non-null   uint8\n",
      " 23  MaritalStatus_Divorced             1470 non-null   uint8\n",
      " 24  MaritalStatus_Married              1470 non-null   uint8\n",
      " 25  MaritalStatus_Single               1470 non-null   uint8\n",
      " 26  OverTime_No                        1470 non-null   uint8\n",
      " 27  OverTime_Yes                       1470 non-null   uint8\n",
      " 28  Age                                1470 non-null   int64\n",
      " 29  Attrition_ind                      1470 non-null   int64\n",
      " 30  DailyRate                          1470 non-null   int64\n",
      " 31  DistanceFromHome                   1470 non-null   int64\n",
      " 32  Education                          1470 non-null   int64\n",
      " 33  EnvironmentSatisfaction            1470 non-null   int64\n",
      " 34  HourlyRate                         1470 non-null   int64\n",
      " 35  JobInvolvement                     1470 non-null   int64\n",
      " 36  JobLevel                           1470 non-null   int64\n",
      " 37  JobSatisfaction                    1470 non-null   int64\n",
      " 38  MonthlyIncome                      1470 non-null   int64\n",
      " 39  MonthlyRate                        1470 non-null   int64\n",
      " 40  NumCompaniesWorked                 1470 non-null   int64\n",
      " 41  PercentSalaryHike                  1470 non-null   int64\n",
      " 42  PerformanceRating                  1470 non-null   int64\n",
      " 43  RelationshipSatisfaction           1470 non-null   int64\n",
      " 44  StockOptionLevel                   1470 non-null   int64\n",
      " 45  TotalWorkingYears                  1470 non-null   int64\n",
      " 46  TrainingTimesLastYear              1470 non-null   int64\n",
      " 47  WorkLifeBalance                    1470 non-null   int64\n",
      " 48  YearsAtCompany                     1470 non-null   int64\n",
      " 49  YearsInCurrentRole                 1470 non-null   int64\n",
      " 50  YearsSinceLastPromotion            1470 non-null   int64\n",
      " 51  YearsWithCurrManager               1470 non-null   int64\n",
      "dtypes: int64(24), uint8(28)\n",
      "memory usage: 315.9 KB\n"
     ]
    }
   ],
   "source": [
    "# 데이터 프레임 재확인\n",
    "hrattr_new.info()"
   ]
  },
  {
   "cell_type": "code",
   "execution_count": 52,
   "metadata": {},
   "outputs": [],
   "source": [
    "# train, test 데이터 나누기\n",
    "x_train, x_test, y_train, y_test = train_test_split(hrattr_new.drop('Attrition_ind', axis = 1), hrattr_new['Attrition_ind'])"
   ]
  },
  {
   "cell_type": "code",
   "execution_count": 80,
   "metadata": {},
   "outputs": [],
   "source": [
    "# pipeline\n",
    "pipeline = Pipeline([\n",
    "    ('clf', RandomForestClassifier(criterion = 'gini', random_state = 42, class_weight = { 0 : 0.3, 1 : 0.7 }))\n",
    "])"
   ]
  },
  {
   "cell_type": "code",
   "execution_count": 81,
   "metadata": {},
   "outputs": [],
   "source": [
    "# parameter 설정\n",
    "parameters = {\n",
    "    'clf__n_estimators' : (2000, 3000, 4000),\n",
    "    'clf__max_depth'    : (5, 15, 30),\n",
    "    'clf__min_samples_split' : (2,3),\n",
    "    'clf__min_samples_leaf' : (1,2)\n",
    "}"
   ]
  },
  {
   "cell_type": "code",
   "execution_count": 82,
   "metadata": {},
   "outputs": [],
   "source": [
    "# grid_search\n",
    "grid_search = GridSearchCV(\n",
    "    pipeline,\n",
    "    parameters,\n",
    "    n_jobs = -1,\n",
    "    cv = 5,\n",
    "    verbose = 1,\n",
    "    scoring = 'accuracy' \n",
    ")"
   ]
  },
  {
   "cell_type": "code",
   "execution_count": 83,
   "metadata": {},
   "outputs": [
    {
     "name": "stdout",
     "output_type": "stream",
     "text": [
      "Fitting 5 folds for each of 36 candidates, totalling 180 fits\n"
     ]
    },
    {
     "name": "stderr",
     "output_type": "stream",
     "text": [
      "[Parallel(n_jobs=-1)]: Using backend LokyBackend with 8 concurrent workers.\n",
      "[Parallel(n_jobs=-1)]: Done  34 tasks      | elapsed:   48.3s\n",
      "[Parallel(n_jobs=-1)]: Done 180 out of 180 | elapsed:  4.7min finished\n"
     ]
    },
    {
     "data": {
      "text/plain": [
       "GridSearchCV(cv=5,\n",
       "             estimator=Pipeline(steps=[('clf',\n",
       "                                        RandomForestClassifier(class_weight={0: 0.3,\n",
       "                                                                             1: 0.7},\n",
       "                                                               random_state=42))]),\n",
       "             n_jobs=-1,\n",
       "             param_grid={'clf__max_depth': (5, 15, 30),\n",
       "                         'clf__min_samples_leaf': (1, 2),\n",
       "                         'clf__min_samples_split': (2, 3),\n",
       "                         'clf__n_estimators': (2000, 3000, 4000)},\n",
       "             scoring='accuracy', verbose=1)"
      ]
     },
     "execution_count": 83,
     "metadata": {},
     "output_type": "execute_result"
    }
   ],
   "source": [
    "# grid_search 학습\n",
    "grid_search.fit(x_train, y_train)"
   ]
  },
  {
   "cell_type": "code",
   "execution_count": 84,
   "metadata": {},
   "outputs": [
    {
     "name": "stdout",
     "output_type": "stream",
     "text": [
      "0.857\n"
     ]
    }
   ],
   "source": [
    "# best score - 학습\n",
    "print(\"%0.3f\" % grid_search.best_score_)"
   ]
  },
  {
   "cell_type": "code",
   "execution_count": 85,
   "metadata": {},
   "outputs": [
    {
     "data": {
      "text/plain": [
       "{'memory': None,\n",
       " 'steps': [('clf',\n",
       "   RandomForestClassifier(class_weight={0: 0.3, 1: 0.7}, max_depth=5,\n",
       "                          n_estimators=2000, random_state=42))],\n",
       " 'verbose': False,\n",
       " 'clf': RandomForestClassifier(class_weight={0: 0.3, 1: 0.7}, max_depth=5,\n",
       "                        n_estimators=2000, random_state=42),\n",
       " 'clf__bootstrap': True,\n",
       " 'clf__ccp_alpha': 0.0,\n",
       " 'clf__class_weight': {0: 0.3, 1: 0.7},\n",
       " 'clf__criterion': 'gini',\n",
       " 'clf__max_depth': 5,\n",
       " 'clf__max_features': 'auto',\n",
       " 'clf__max_leaf_nodes': None,\n",
       " 'clf__max_samples': None,\n",
       " 'clf__min_impurity_decrease': 0.0,\n",
       " 'clf__min_impurity_split': None,\n",
       " 'clf__min_samples_leaf': 1,\n",
       " 'clf__min_samples_split': 2,\n",
       " 'clf__min_weight_fraction_leaf': 0.0,\n",
       " 'clf__n_estimators': 2000,\n",
       " 'clf__n_jobs': None,\n",
       " 'clf__oob_score': False,\n",
       " 'clf__random_state': 42,\n",
       " 'clf__verbose': 0,\n",
       " 'clf__warm_start': False}"
      ]
     },
     "execution_count": 85,
     "metadata": {},
     "output_type": "execute_result"
    }
   ],
   "source": [
    "# best_parameters - 학습\n",
    "grid_search.best_estimator_.get_params()"
   ]
  },
  {
   "cell_type": "code",
   "execution_count": 86,
   "metadata": {},
   "outputs": [],
   "source": [
    "# 예측값 - 테스트\n",
    "prediction = grid_search.predict(x_test)"
   ]
  },
  {
   "cell_type": "code",
   "execution_count": 87,
   "metadata": {},
   "outputs": [
    {
     "data": {
      "text/plain": [
       "0.883"
      ]
     },
     "execution_count": 87,
     "metadata": {},
     "output_type": "execute_result"
    }
   ],
   "source": [
    "# 정확도 - 테스트\n",
    "round(accuracy_score(y_test, prediction), 3)"
   ]
  },
  {
   "cell_type": "code",
   "execution_count": 88,
   "metadata": {},
   "outputs": [
    {
     "name": "stdout",
     "output_type": "stream",
     "text": [
      "              precision    recall  f1-score   support\n",
      "\n",
      "           0       0.90      0.98      0.94       317\n",
      "           1       0.68      0.29      0.41        51\n",
      "\n",
      "    accuracy                           0.88       368\n",
      "   macro avg       0.79      0.64      0.67       368\n",
      "weighted avg       0.87      0.88      0.86       368\n",
      "\n"
     ]
    }
   ],
   "source": [
    "# classification_report - 테스트\n",
    "print(classification_report(y_test, prediction))"
   ]
  },
  {
   "cell_type": "code",
   "execution_count": 89,
   "metadata": {},
   "outputs": [
    {
     "data": {
      "text/html": [
       "<div>\n",
       "<style scoped>\n",
       "    .dataframe tbody tr th:only-of-type {\n",
       "        vertical-align: middle;\n",
       "    }\n",
       "\n",
       "    .dataframe tbody tr th {\n",
       "        vertical-align: top;\n",
       "    }\n",
       "\n",
       "    .dataframe thead th {\n",
       "        text-align: right;\n",
       "    }\n",
       "</style>\n",
       "<table border=\"1\" class=\"dataframe\">\n",
       "  <thead>\n",
       "    <tr style=\"text-align: right;\">\n",
       "      <th>Predicted</th>\n",
       "      <th>0</th>\n",
       "      <th>1</th>\n",
       "    </tr>\n",
       "    <tr>\n",
       "      <th>Actual</th>\n",
       "      <th></th>\n",
       "      <th></th>\n",
       "    </tr>\n",
       "  </thead>\n",
       "  <tbody>\n",
       "    <tr>\n",
       "      <th>0</th>\n",
       "      <td>310</td>\n",
       "      <td>7</td>\n",
       "    </tr>\n",
       "    <tr>\n",
       "      <th>1</th>\n",
       "      <td>36</td>\n",
       "      <td>15</td>\n",
       "    </tr>\n",
       "  </tbody>\n",
       "</table>\n",
       "</div>"
      ],
      "text/plain": [
       "Predicted    0   1\n",
       "Actual            \n",
       "0          310   7\n",
       "1           36  15"
      ]
     },
     "execution_count": 89,
     "metadata": {},
     "output_type": "execute_result"
    }
   ],
   "source": [
    "# confusion matrix - 테스트\n",
    "pd.crosstab(y_test,prediction, rownames = ['Actual'], colnames = ['Predicted'])"
   ]
  },
  {
   "cell_type": "markdown",
   "metadata": {},
   "source": []
  },
  {
   "cell_type": "code",
   "execution_count": null,
   "metadata": {},
   "outputs": [],
   "source": []
  },
  {
   "cell_type": "code",
   "execution_count": null,
   "metadata": {},
   "outputs": [],
   "source": []
  },
  {
   "cell_type": "code",
   "execution_count": null,
   "metadata": {},
   "outputs": [],
   "source": []
  },
  {
   "cell_type": "code",
   "execution_count": null,
   "metadata": {},
   "outputs": [],
   "source": []
  },
  {
   "cell_type": "code",
   "execution_count": null,
   "metadata": {},
   "outputs": [],
   "source": []
  },
  {
   "cell_type": "code",
   "execution_count": null,
   "metadata": {},
   "outputs": [],
   "source": []
  },
  {
   "cell_type": "code",
   "execution_count": null,
   "metadata": {},
   "outputs": [],
   "source": []
  }
 ],
 "metadata": {
  "kernelspec": {
   "display_name": "Python 3",
   "language": "python",
   "name": "python3"
  },
  "language_info": {
   "codemirror_mode": {
    "name": "ipython",
    "version": 3
   },
   "file_extension": ".py",
   "mimetype": "text/x-python",
   "name": "python",
   "nbconvert_exporter": "python",
   "pygments_lexer": "ipython3",
   "version": "3.8.3"
  }
 },
 "nbformat": 4,
 "nbformat_minor": 4
}

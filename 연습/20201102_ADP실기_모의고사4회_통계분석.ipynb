{
 "cells": [
  {
   "cell_type": "markdown",
   "metadata": {},
   "source": [
    "# bike_marketing 데이터 변수의 설명은 아래와 같다\n",
    "|변수|설명|\n",
    "|:--:|:--:|\n",
    "|company_num|회사 번호|\n",
    "|google_adwords|구글 AdWords에 대한 비용|\n",
    "|facebook|페이스북 광고에 대한 비용|\n",
    "|twitter|트위터 광고에 대한 비용|\n",
    "|marketing_total|총 마케팅 예산|\n",
    "|revenues|매출 정보|\n",
    "|employees|종업원 수|\n",
    "|pop_density|타깃 시장의 인구밀도 수준(Low, Medium, High|"
   ]
  },
  {
   "cell_type": "markdown",
   "metadata": {},
   "source": [
    "## 1) pop_density 변수를 factor형 변수로 변환하고, pop_density별 revenues의 평균 차이가 있는지 통계분석을 시행하여 결과를 해석하시오. 만일 대립가설이 채택된다면 사후분석을 실시하고 결과를 해석하시오"
   ]
  },
  {
   "cell_type": "code",
   "execution_count": 29,
   "metadata": {},
   "outputs": [],
   "source": [
    "# 모듈 가져오기\n",
    "import pandas as pd\n",
    "import numpy as np\n",
    "from scipy.stats import shapiro, f_oneway\n",
    "from statsmodels.api import OLS, add_constant\n",
    "import itertools\n",
    "import time"
   ]
  },
  {
   "cell_type": "code",
   "execution_count": 2,
   "metadata": {},
   "outputs": [],
   "source": [
    "# 데이터 가져오기\n",
    "bike = pd.read_csv('./Data/data_edu/모의고사 4회/bike_marketing.csv')"
   ]
  },
  {
   "cell_type": "code",
   "execution_count": 3,
   "metadata": {},
   "outputs": [
    {
     "name": "stdout",
     "output_type": "stream",
     "text": [
      "<class 'pandas.core.frame.DataFrame'>\n",
      "RangeIndex: 172 entries, 0 to 171\n",
      "Data columns (total 8 columns):\n",
      " #   Column           Non-Null Count  Dtype  \n",
      "---  ------           --------------  -----  \n",
      " 0   company_num      172 non-null    int64  \n",
      " 1   google_adwords   172 non-null    float64\n",
      " 2   facebook         172 non-null    float64\n",
      " 3   twitter          172 non-null    float64\n",
      " 4   marketing_total  172 non-null    int64  \n",
      " 5   revenues         172 non-null    float64\n",
      " 6   employees        172 non-null    int64  \n",
      " 7   pop_density      172 non-null    object \n",
      "dtypes: float64(4), int64(3), object(1)\n",
      "memory usage: 10.9+ KB\n"
     ]
    }
   ],
   "source": [
    "# 데이터 컬럼 정보 확인하기\n",
    "bike.info()"
   ]
  },
  {
   "cell_type": "code",
   "execution_count": 5,
   "metadata": {},
   "outputs": [
    {
     "data": {
      "text/plain": [
       "array(['High', 'Medium', 'Low'], dtype=object)"
      ]
     },
     "execution_count": 5,
     "metadata": {},
     "output_type": "execute_result"
    }
   ],
   "source": [
    "# 데이터 확인\n",
    "bike['pop_density'].unique()"
   ]
  },
  {
   "cell_type": "code",
   "execution_count": 8,
   "metadata": {},
   "outputs": [],
   "source": [
    "# 통계분석을 위한 데이터 정의\n",
    "col1= bike['revenues'][bike['pop_density'] == 'High']\n",
    "col2= bike['revenues'][bike['pop_density'] == 'Medium']\n",
    "col3= bike['revenues'][bike['pop_density'] == 'Low']"
   ]
  },
  {
   "cell_type": "code",
   "execution_count": 12,
   "metadata": {},
   "outputs": [],
   "source": [
    "# 둘 이상의 모집단의 평균이 동일한지 테스트 하므로 분산분석 이용\n",
    "one_way_anova = f_oneway(col1,col2,col3)"
   ]
  },
  {
   "cell_type": "code",
   "execution_count": 13,
   "metadata": {},
   "outputs": [
    {
     "data": {
      "text/plain": [
       "F_onewayResult(statistic=0.609944214128908, pvalue=0.544572945313452)"
      ]
     },
     "execution_count": 13,
     "metadata": {},
     "output_type": "execute_result"
    }
   ],
   "source": [
    "# 결과 확인\n",
    "# 귀무가설 : 모든 모집단의 평균은 같다\n",
    "# 대립가설 : 적어도 하나의 모집단은 평균이 다르다\n",
    "one_way_anova"
   ]
  },
  {
   "cell_type": "code",
   "execution_count": 14,
   "metadata": {},
   "outputs": [],
   "source": [
    "# p-value > 0.05 이므로 귀무가설을 기각하지 못한다\n",
    "# 따라서, 통계적으로 유의한 차이를 가지고 있다고 보기 힘들다"
   ]
  },
  {
   "cell_type": "markdown",
   "metadata": {},
   "source": [
    "## 2) google_adwords, facebook, twitter, marketing_total, employees가 revenues에 영향을 미치는지 알아보는 회귀분석을 전진 선택법을 사용하여 수행하고 결과를 해석하시오"
   ]
  },
  {
   "cell_type": "code",
   "execution_count": 42,
   "metadata": {},
   "outputs": [],
   "source": [
    "# 필요한 데이터만 추출\n",
    "cols = ['google_adwords', 'facebook', 'twitter', 'marketing_total', 'employees', 'revenues']\n",
    "bike_reg = bike[cols]"
   ]
  },
  {
   "cell_type": "code",
   "execution_count": 43,
   "metadata": {},
   "outputs": [],
   "source": [
    "# 데이터 분할 X,y\n",
    "X = add_constant(bike_reg.drop('revenues', axis = 1))\n",
    "y = bike_reg['revenues']"
   ]
  },
  {
   "cell_type": "code",
   "execution_count": 44,
   "metadata": {},
   "outputs": [
    {
     "data": {
      "text/plain": [
       "0      39.26\n",
       "1      38.90\n",
       "2      49.51\n",
       "3      40.56\n",
       "4      40.21\n",
       "       ...  \n",
       "167    48.95\n",
       "168    49.37\n",
       "169    36.96\n",
       "170    41.11\n",
       "171    58.38\n",
       "Name: revenues, Length: 172, dtype: float64"
      ]
     },
     "execution_count": 44,
     "metadata": {},
     "output_type": "execute_result"
    }
   ],
   "source": [
    "# 데이터 확인\n",
    "y"
   ]
  },
  {
   "cell_type": "code",
   "execution_count": 45,
   "metadata": {},
   "outputs": [],
   "source": [
    "# AIC가 가장 작은값을 가지는 모델을 선택\n",
    "# 함수 정의 - 회귀 모델과, 모델의 AIC 값 추출\n",
    "def processSubset(x, y, feature_set):\n",
    "    model = OLS(y, x[feature_set])\n",
    "    regression = model.fit()\n",
    "    AIC = regression.aic    \n",
    "    return {'model' : regression, \"AIC\" : AIC}\n",
    "\n",
    "def getBest(x,y,k):\n",
    "    tic = time.time()\n",
    "    results = list()\n",
    "    for combo in itertools.combinations(x.columns.difference(['const']), k):\n",
    "        combo = list(combo) + ['const']\n",
    "        results.append(processSubset(x,y,feature_set = combo))\n",
    "    models = pd.DataFrame(results)\n",
    "    bestModel = models.loc[models['AIC'].argmin()]\n",
    "    toc = time.time()\n",
    "    print('Processed', models.shape[0], 'models on', k, 'predictors in', (toc-tic), 'seconds')\n",
    "    return models, bestModel\n",
    "\n",
    "# 전진 선택법\n",
    "def forward(x,y,predictors):\n",
    "    remainingPredictors = [p for p in X_train.columns.difference(['const']) if p not in predictors]\n",
    "    tic = time.time()\n",
    "    results = list()\n",
    "    for p in remainingPredictors:\n",
    "        results.append(processSubset(X_train, y_train, feature_set=predictors + [p] + ['const']))\n",
    "        models = pd.DataFrame(results)\n",
    "        bestModel = models.loc[models['AIC'].argmin(), :]\n",
    "        toc = time.time()\n",
    "        print('Processed', models.shape[0], 'models on', len(predictors) + 1, 'predictors in', (toc-tic))\n",
    "        print('Selected predictors:', bestModel['model'].model.exog_names, 'AIC:' , bestModel['AIC'])\n",
    "        return bestModel\n",
    "\n",
    "# 전진 선택법 모델\n",
    "def forward_model(x,y):\n",
    "    fModels = pd.DataFrame(columns = ['AIC', 'model'])\n",
    "    tic = time.time()\n",
    "    predictors = list()\n",
    "    for i in range(1, len(x.columns.difference(['const']))+1):\n",
    "        forwardResult = forward(x,y,predictors)\n",
    "        if i > 1:\n",
    "            if forwardResult['AIC'] > fmodelBefore:\n",
    "                break\n",
    "        fModels.loc[i] = forwardResult\n",
    "        predictors = fModels.loc[i]['model'].model.exog_names\n",
    "        fmodelBefore = fModels.loc[i]['AIC']\n",
    "        predictors = [k for k in predictors if k != 'const']\n",
    "    toc = time.time()\n",
    "    print(\"Total elapesed time : \", (toc - tic), \"seconds.\")\n",
    "    return (fModels['model'][len(fModels['model'])])"
   ]
  },
  {
   "cell_type": "code",
   "execution_count": 46,
   "metadata": {},
   "outputs": [
    {
     "name": "stdout",
     "output_type": "stream",
     "text": [
      "Processed 1 models on 1 predictors in 0.008960723876953125\n",
      "Selected predictors: ['employees', 'const'] AIC: 946.1149216366764\n",
      "Processed 1 models on 2 predictors in 0.005982637405395508\n",
      "Selected predictors: ['employees', 'facebook', 'const'] AIC: 909.2735722999604\n",
      "Processed 1 models on 3 predictors in 0.006979703903198242\n",
      "Selected predictors: ['employees', 'facebook', 'google_adwords', 'const'] AIC: 750.8753609482542\n",
      "Processed 1 models on 4 predictors in 0.0059833526611328125\n",
      "Selected predictors: ['employees', 'facebook', 'google_adwords', 'marketing_total', 'const'] AIC: 752.8255686835203\n",
      "Total elapesed time :  0.05784440040588379 seconds.\n"
     ]
    },
    {
     "data": {
      "text/html": [
       "<table class=\"simpletable\">\n",
       "<caption>OLS Regression Results</caption>\n",
       "<tr>\n",
       "  <th>Dep. Variable:</th>        <td>revenues</td>     <th>  R-squared:         </th> <td>   0.870</td>\n",
       "</tr>\n",
       "<tr>\n",
       "  <th>Model:</th>                   <td>OLS</td>       <th>  Adj. R-squared:    </th> <td>   0.868</td>\n",
       "</tr>\n",
       "<tr>\n",
       "  <th>Method:</th>             <td>Least Squares</td>  <th>  F-statistic:       </th> <td>   375.1</td>\n",
       "</tr>\n",
       "<tr>\n",
       "  <th>Date:</th>             <td>Mon, 02 Nov 2020</td> <th>  Prob (F-statistic):</th> <td>3.41e-74</td>\n",
       "</tr>\n",
       "<tr>\n",
       "  <th>Time:</th>                 <td>22:35:48</td>     <th>  Log-Likelihood:    </th> <td> -371.44</td>\n",
       "</tr>\n",
       "<tr>\n",
       "  <th>No. Observations:</th>      <td>   172</td>      <th>  AIC:               </th> <td>   750.9</td>\n",
       "</tr>\n",
       "<tr>\n",
       "  <th>Df Residuals:</th>          <td>   168</td>      <th>  BIC:               </th> <td>   763.5</td>\n",
       "</tr>\n",
       "<tr>\n",
       "  <th>Df Model:</th>              <td>     3</td>      <th>                     </th>     <td> </td>   \n",
       "</tr>\n",
       "<tr>\n",
       "  <th>Covariance Type:</th>      <td>nonrobust</td>    <th>                     </th>     <td> </td>   \n",
       "</tr>\n",
       "</table>\n",
       "<table class=\"simpletable\">\n",
       "<tr>\n",
       "         <td></td>           <th>coef</th>     <th>std err</th>      <th>t</th>      <th>P>|t|</th>  <th>[0.025</th>    <th>0.975]</th>  \n",
       "</tr>\n",
       "<tr>\n",
       "  <th>employees</th>      <td>    0.4066</td> <td>    0.104</td> <td>    3.898</td> <td> 0.000</td> <td>    0.201</td> <td>    0.612</td>\n",
       "</tr>\n",
       "<tr>\n",
       "  <th>facebook</th>       <td>    0.1768</td> <td>    0.012</td> <td>   14.548</td> <td> 0.000</td> <td>    0.153</td> <td>    0.201</td>\n",
       "</tr>\n",
       "<tr>\n",
       "  <th>google_adwords</th> <td>    0.0415</td> <td>    0.003</td> <td>   16.090</td> <td> 0.000</td> <td>    0.036</td> <td>    0.047</td>\n",
       "</tr>\n",
       "<tr>\n",
       "  <th>const</th>          <td>   28.3751</td> <td>    0.584</td> <td>   48.601</td> <td> 0.000</td> <td>   27.222</td> <td>   29.528</td>\n",
       "</tr>\n",
       "</table>\n",
       "<table class=\"simpletable\">\n",
       "<tr>\n",
       "  <th>Omnibus:</th>       <td> 3.324</td> <th>  Durbin-Watson:     </th> <td>   2.101</td>\n",
       "</tr>\n",
       "<tr>\n",
       "  <th>Prob(Omnibus):</th> <td> 0.190</td> <th>  Jarque-Bera (JB):  </th> <td>   3.340</td>\n",
       "</tr>\n",
       "<tr>\n",
       "  <th>Skew:</th>          <td>-0.306</td> <th>  Prob(JB):          </th> <td>   0.188</td>\n",
       "</tr>\n",
       "<tr>\n",
       "  <th>Kurtosis:</th>      <td> 2.696</td> <th>  Cond. No.          </th> <td>    702.</td>\n",
       "</tr>\n",
       "</table><br/><br/>Warnings:<br/>[1] Standard Errors assume that the covariance matrix of the errors is correctly specified."
      ],
      "text/plain": [
       "<class 'statsmodels.iolib.summary.Summary'>\n",
       "\"\"\"\n",
       "                            OLS Regression Results                            \n",
       "==============================================================================\n",
       "Dep. Variable:               revenues   R-squared:                       0.870\n",
       "Model:                            OLS   Adj. R-squared:                  0.868\n",
       "Method:                 Least Squares   F-statistic:                     375.1\n",
       "Date:                Mon, 02 Nov 2020   Prob (F-statistic):           3.41e-74\n",
       "Time:                        22:35:48   Log-Likelihood:                -371.44\n",
       "No. Observations:                 172   AIC:                             750.9\n",
       "Df Residuals:                     168   BIC:                             763.5\n",
       "Df Model:                           3                                         \n",
       "Covariance Type:            nonrobust                                         \n",
       "==================================================================================\n",
       "                     coef    std err          t      P>|t|      [0.025      0.975]\n",
       "----------------------------------------------------------------------------------\n",
       "employees          0.4066      0.104      3.898      0.000       0.201       0.612\n",
       "facebook           0.1768      0.012     14.548      0.000       0.153       0.201\n",
       "google_adwords     0.0415      0.003     16.090      0.000       0.036       0.047\n",
       "const             28.3751      0.584     48.601      0.000      27.222      29.528\n",
       "==============================================================================\n",
       "Omnibus:                        3.324   Durbin-Watson:                   2.101\n",
       "Prob(Omnibus):                  0.190   Jarque-Bera (JB):                3.340\n",
       "Skew:                          -0.306   Prob(JB):                        0.188\n",
       "Kurtosis:                       2.696   Cond. No.                         702.\n",
       "==============================================================================\n",
       "\n",
       "Warnings:\n",
       "[1] Standard Errors assume that the covariance matrix of the errors is correctly specified.\n",
       "\"\"\""
      ]
     },
     "execution_count": 46,
     "metadata": {},
     "output_type": "execute_result"
    }
   ],
   "source": [
    "# 변수 사전 정의\n",
    "X_train = X\n",
    "y_train = y\n",
    "X_test = X\n",
    "y_test = y\n",
    "predictors = X_train.columns\n",
    "forward_model(X,y).summary()"
   ]
  },
  {
   "cell_type": "code",
   "execution_count": null,
   "metadata": {},
   "outputs": [],
   "source": []
  }
 ],
 "metadata": {
  "kernelspec": {
   "display_name": "Python 3",
   "language": "python",
   "name": "python3"
  },
  "language_info": {
   "codemirror_mode": {
    "name": "ipython",
    "version": 3
   },
   "file_extension": ".py",
   "mimetype": "text/x-python",
   "name": "python",
   "nbconvert_exporter": "python",
   "pygments_lexer": "ipython3",
   "version": "3.8.3"
  }
 },
 "nbformat": 4,
 "nbformat_minor": 4
}

{
 "cells": [
  {
   "cell_type": "markdown",
   "metadata": {},
   "source": [
    "## 배깅 분류기\n",
    "- 배깅 : bootstrap을 aggregation한다는 의미를 가진 합성어\n",
    "- 모델의 분산을 줄이는 기법\n",
    "<br>\n",
    "<br>\n",
    "\n",
    "각 의사결정 트리 분류기의 예측 : <h3>$  \\hat{f_{1}}(x), \\hat{f_{2}}(x), \\hat{f_{3}}(x), ... , \\hat{f_{B}}(x) $</h3>\n",
    "<h3>$  \\hat{f_{avg}}(x) =  \\frac{1}{B}\\sum_{b=1}^{B}\\hat{f_{b}}(x) $</h3>\n",
    "\n",
    "- 배깅은 열은 모두 선택, 행은 표본을 추출\n",
    "- 때문에, 대다수의 트리가 비슷해질 수 있다.\n",
    "\n",
    "\n",
    "||||||||||\n",
    "|--|--|--|--|--|--|--|--|--|\n",
    "|O|O|O|O|O|O|O|O|O|\n",
    "|O|O|O|O|O|O|O|O|O|\n",
    "|X|X|X|X|X|X|X|X|X|\n",
    "|X|X|X|X|X|X|X|X|X|\n",
    "|O|O|O|O|O|O|O|O|O|\n",
    "|X|X|X|X|X|X|X|X|X|\n",
    "|O|O|O|O|O|O|O|O|O|"
   ]
  },
  {
   "cell_type": "code",
   "execution_count": 1,
   "metadata": {},
   "outputs": [
    {
     "name": "stderr",
     "output_type": "stream",
     "text": [
      "<frozen importlib._bootstrap>:219: RuntimeWarning: numpy.ufunc size changed, may indicate binary incompatibility. Expected 192 from C header, got 216 from PyObject\n"
     ]
    }
   ],
   "source": [
    "# 모듈 가져오기\n",
    "import pandas as pd\n",
    "from sklearn.model_selection import train_test_split"
   ]
  },
  {
   "cell_type": "code",
   "execution_count": 2,
   "metadata": {},
   "outputs": [],
   "source": [
    "# 데이터 가져오기\n",
    "hrattr = pd.read_csv('./Data/HR_Employee_Attrition.csv')"
   ]
  },
  {
   "cell_type": "code",
   "execution_count": 4,
   "metadata": {},
   "outputs": [
    {
     "data": {
      "text/html": [
       "<div>\n",
       "<style scoped>\n",
       "    .dataframe tbody tr th:only-of-type {\n",
       "        vertical-align: middle;\n",
       "    }\n",
       "\n",
       "    .dataframe tbody tr th {\n",
       "        vertical-align: top;\n",
       "    }\n",
       "\n",
       "    .dataframe thead th {\n",
       "        text-align: right;\n",
       "    }\n",
       "</style>\n",
       "<table border=\"1\" class=\"dataframe\">\n",
       "  <thead>\n",
       "    <tr style=\"text-align: right;\">\n",
       "      <th></th>\n",
       "      <th>Age</th>\n",
       "      <th>Attrition</th>\n",
       "      <th>BusinessTravel</th>\n",
       "      <th>DailyRate</th>\n",
       "      <th>Department</th>\n",
       "      <th>DistanceFromHome</th>\n",
       "      <th>Education</th>\n",
       "      <th>EducationField</th>\n",
       "      <th>EmployeeCount</th>\n",
       "      <th>EmployeeNumber</th>\n",
       "      <th>...</th>\n",
       "      <th>RelationshipSatisfaction</th>\n",
       "      <th>StandardHours</th>\n",
       "      <th>StockOptionLevel</th>\n",
       "      <th>TotalWorkingYears</th>\n",
       "      <th>TrainingTimesLastYear</th>\n",
       "      <th>WorkLifeBalance</th>\n",
       "      <th>YearsAtCompany</th>\n",
       "      <th>YearsInCurrentRole</th>\n",
       "      <th>YearsSinceLastPromotion</th>\n",
       "      <th>YearsWithCurrManager</th>\n",
       "    </tr>\n",
       "  </thead>\n",
       "  <tbody>\n",
       "    <tr>\n",
       "      <th>0</th>\n",
       "      <td>41</td>\n",
       "      <td>Yes</td>\n",
       "      <td>Travel_Rarely</td>\n",
       "      <td>1102</td>\n",
       "      <td>Sales</td>\n",
       "      <td>1</td>\n",
       "      <td>2</td>\n",
       "      <td>Life Sciences</td>\n",
       "      <td>1</td>\n",
       "      <td>1</td>\n",
       "      <td>...</td>\n",
       "      <td>1</td>\n",
       "      <td>80</td>\n",
       "      <td>0</td>\n",
       "      <td>8</td>\n",
       "      <td>0</td>\n",
       "      <td>1</td>\n",
       "      <td>6</td>\n",
       "      <td>4</td>\n",
       "      <td>0</td>\n",
       "      <td>5</td>\n",
       "    </tr>\n",
       "    <tr>\n",
       "      <th>1</th>\n",
       "      <td>49</td>\n",
       "      <td>No</td>\n",
       "      <td>Travel_Frequently</td>\n",
       "      <td>279</td>\n",
       "      <td>Research &amp; Development</td>\n",
       "      <td>8</td>\n",
       "      <td>1</td>\n",
       "      <td>Life Sciences</td>\n",
       "      <td>1</td>\n",
       "      <td>2</td>\n",
       "      <td>...</td>\n",
       "      <td>4</td>\n",
       "      <td>80</td>\n",
       "      <td>1</td>\n",
       "      <td>10</td>\n",
       "      <td>3</td>\n",
       "      <td>3</td>\n",
       "      <td>10</td>\n",
       "      <td>7</td>\n",
       "      <td>1</td>\n",
       "      <td>7</td>\n",
       "    </tr>\n",
       "    <tr>\n",
       "      <th>2</th>\n",
       "      <td>37</td>\n",
       "      <td>Yes</td>\n",
       "      <td>Travel_Rarely</td>\n",
       "      <td>1373</td>\n",
       "      <td>Research &amp; Development</td>\n",
       "      <td>2</td>\n",
       "      <td>2</td>\n",
       "      <td>Other</td>\n",
       "      <td>1</td>\n",
       "      <td>4</td>\n",
       "      <td>...</td>\n",
       "      <td>2</td>\n",
       "      <td>80</td>\n",
       "      <td>0</td>\n",
       "      <td>7</td>\n",
       "      <td>3</td>\n",
       "      <td>3</td>\n",
       "      <td>0</td>\n",
       "      <td>0</td>\n",
       "      <td>0</td>\n",
       "      <td>0</td>\n",
       "    </tr>\n",
       "    <tr>\n",
       "      <th>3</th>\n",
       "      <td>33</td>\n",
       "      <td>No</td>\n",
       "      <td>Travel_Frequently</td>\n",
       "      <td>1392</td>\n",
       "      <td>Research &amp; Development</td>\n",
       "      <td>3</td>\n",
       "      <td>4</td>\n",
       "      <td>Life Sciences</td>\n",
       "      <td>1</td>\n",
       "      <td>5</td>\n",
       "      <td>...</td>\n",
       "      <td>3</td>\n",
       "      <td>80</td>\n",
       "      <td>0</td>\n",
       "      <td>8</td>\n",
       "      <td>3</td>\n",
       "      <td>3</td>\n",
       "      <td>8</td>\n",
       "      <td>7</td>\n",
       "      <td>3</td>\n",
       "      <td>0</td>\n",
       "    </tr>\n",
       "    <tr>\n",
       "      <th>4</th>\n",
       "      <td>27</td>\n",
       "      <td>No</td>\n",
       "      <td>Travel_Rarely</td>\n",
       "      <td>591</td>\n",
       "      <td>Research &amp; Development</td>\n",
       "      <td>2</td>\n",
       "      <td>1</td>\n",
       "      <td>Medical</td>\n",
       "      <td>1</td>\n",
       "      <td>7</td>\n",
       "      <td>...</td>\n",
       "      <td>4</td>\n",
       "      <td>80</td>\n",
       "      <td>1</td>\n",
       "      <td>6</td>\n",
       "      <td>3</td>\n",
       "      <td>3</td>\n",
       "      <td>2</td>\n",
       "      <td>2</td>\n",
       "      <td>2</td>\n",
       "      <td>2</td>\n",
       "    </tr>\n",
       "  </tbody>\n",
       "</table>\n",
       "<p>5 rows × 35 columns</p>\n",
       "</div>"
      ],
      "text/plain": [
       "   Age Attrition     BusinessTravel  DailyRate              Department  \\\n",
       "0   41       Yes      Travel_Rarely       1102                   Sales   \n",
       "1   49        No  Travel_Frequently        279  Research & Development   \n",
       "2   37       Yes      Travel_Rarely       1373  Research & Development   \n",
       "3   33        No  Travel_Frequently       1392  Research & Development   \n",
       "4   27        No      Travel_Rarely        591  Research & Development   \n",
       "\n",
       "   DistanceFromHome  Education EducationField  EmployeeCount  EmployeeNumber  \\\n",
       "0                 1          2  Life Sciences              1               1   \n",
       "1                 8          1  Life Sciences              1               2   \n",
       "2                 2          2          Other              1               4   \n",
       "3                 3          4  Life Sciences              1               5   \n",
       "4                 2          1        Medical              1               7   \n",
       "\n",
       "   ...  RelationshipSatisfaction StandardHours  StockOptionLevel  \\\n",
       "0  ...                         1            80                 0   \n",
       "1  ...                         4            80                 1   \n",
       "2  ...                         2            80                 0   \n",
       "3  ...                         3            80                 0   \n",
       "4  ...                         4            80                 1   \n",
       "\n",
       "   TotalWorkingYears  TrainingTimesLastYear WorkLifeBalance  YearsAtCompany  \\\n",
       "0                  8                      0               1               6   \n",
       "1                 10                      3               3              10   \n",
       "2                  7                      3               3               0   \n",
       "3                  8                      3               3               8   \n",
       "4                  6                      3               3               2   \n",
       "\n",
       "  YearsInCurrentRole  YearsSinceLastPromotion  YearsWithCurrManager  \n",
       "0                  4                        0                     5  \n",
       "1                  7                        1                     7  \n",
       "2                  0                        0                     0  \n",
       "3                  7                        3                     0  \n",
       "4                  2                        2                     2  \n",
       "\n",
       "[5 rows x 35 columns]"
      ]
     },
     "execution_count": 4,
     "metadata": {},
     "output_type": "execute_result"
    }
   ],
   "source": [
    "# 데이터 확인\n",
    "hrattr.head()"
   ]
  },
  {
   "cell_type": "code",
   "execution_count": 6,
   "metadata": {},
   "outputs": [
    {
     "name": "stdout",
     "output_type": "stream",
     "text": [
      "<class 'pandas.core.frame.DataFrame'>\n",
      "RangeIndex: 1470 entries, 0 to 1469\n",
      "Data columns (total 35 columns):\n",
      " #   Column                    Non-Null Count  Dtype \n",
      "---  ------                    --------------  ----- \n",
      " 0   Age                       1470 non-null   int64 \n",
      " 1   Attrition                 1470 non-null   object\n",
      " 2   BusinessTravel            1470 non-null   object\n",
      " 3   DailyRate                 1470 non-null   int64 \n",
      " 4   Department                1470 non-null   object\n",
      " 5   DistanceFromHome          1470 non-null   int64 \n",
      " 6   Education                 1470 non-null   int64 \n",
      " 7   EducationField            1470 non-null   object\n",
      " 8   EmployeeCount             1470 non-null   int64 \n",
      " 9   EmployeeNumber            1470 non-null   int64 \n",
      " 10  EnvironmentSatisfaction   1470 non-null   int64 \n",
      " 11  Gender                    1470 non-null   object\n",
      " 12  HourlyRate                1470 non-null   int64 \n",
      " 13  JobInvolvement            1470 non-null   int64 \n",
      " 14  JobLevel                  1470 non-null   int64 \n",
      " 15  JobRole                   1470 non-null   object\n",
      " 16  JobSatisfaction           1470 non-null   int64 \n",
      " 17  MaritalStatus             1470 non-null   object\n",
      " 18  MonthlyIncome             1470 non-null   int64 \n",
      " 19  MonthlyRate               1470 non-null   int64 \n",
      " 20  NumCompaniesWorked        1470 non-null   int64 \n",
      " 21  Over18                    1470 non-null   object\n",
      " 22  OverTime                  1470 non-null   object\n",
      " 23  PercentSalaryHike         1470 non-null   int64 \n",
      " 24  PerformanceRating         1470 non-null   int64 \n",
      " 25  RelationshipSatisfaction  1470 non-null   int64 \n",
      " 26  StandardHours             1470 non-null   int64 \n",
      " 27  StockOptionLevel          1470 non-null   int64 \n",
      " 28  TotalWorkingYears         1470 non-null   int64 \n",
      " 29  TrainingTimesLastYear     1470 non-null   int64 \n",
      " 30  WorkLifeBalance           1470 non-null   int64 \n",
      " 31  YearsAtCompany            1470 non-null   int64 \n",
      " 32  YearsInCurrentRole        1470 non-null   int64 \n",
      " 33  YearsSinceLastPromotion   1470 non-null   int64 \n",
      " 34  YearsWithCurrManager      1470 non-null   int64 \n",
      "dtypes: int64(26), object(9)\n",
      "memory usage: 402.1+ KB\n"
     ]
    }
   ],
   "source": [
    "# 데이터 컬럼 정보 및 데이터 타입 확인\n",
    "hrattr.info()"
   ]
  },
  {
   "cell_type": "code",
   "execution_count": 13,
   "metadata": {},
   "outputs": [],
   "source": [
    "# Attrition : 종속변수 => Yes, NO -> 1, 0으로 변환\n",
    "hrattr['Attrition_ind'] = 0\n",
    "hrattr.loc[hrattr['Attrition'] == 'Yes', 'Attrition_ind'] = 1"
   ]
  },
  {
   "cell_type": "code",
   "execution_count": 14,
   "metadata": {},
   "outputs": [
    {
     "name": "stdout",
     "output_type": "stream",
     "text": [
      "<class 'pandas.core.frame.DataFrame'>\n",
      "RangeIndex: 1470 entries, 0 to 1469\n",
      "Data columns (total 36 columns):\n",
      " #   Column                    Non-Null Count  Dtype \n",
      "---  ------                    --------------  ----- \n",
      " 0   Age                       1470 non-null   int64 \n",
      " 1   Attrition                 1470 non-null   object\n",
      " 2   BusinessTravel            1470 non-null   object\n",
      " 3   DailyRate                 1470 non-null   int64 \n",
      " 4   Department                1470 non-null   object\n",
      " 5   DistanceFromHome          1470 non-null   int64 \n",
      " 6   Education                 1470 non-null   int64 \n",
      " 7   EducationField            1470 non-null   object\n",
      " 8   EmployeeCount             1470 non-null   int64 \n",
      " 9   EmployeeNumber            1470 non-null   int64 \n",
      " 10  EnvironmentSatisfaction   1470 non-null   int64 \n",
      " 11  Gender                    1470 non-null   object\n",
      " 12  HourlyRate                1470 non-null   int64 \n",
      " 13  JobInvolvement            1470 non-null   int64 \n",
      " 14  JobLevel                  1470 non-null   int64 \n",
      " 15  JobRole                   1470 non-null   object\n",
      " 16  JobSatisfaction           1470 non-null   int64 \n",
      " 17  MaritalStatus             1470 non-null   object\n",
      " 18  MonthlyIncome             1470 non-null   int64 \n",
      " 19  MonthlyRate               1470 non-null   int64 \n",
      " 20  NumCompaniesWorked        1470 non-null   int64 \n",
      " 21  Over18                    1470 non-null   object\n",
      " 22  OverTime                  1470 non-null   object\n",
      " 23  PercentSalaryHike         1470 non-null   int64 \n",
      " 24  PerformanceRating         1470 non-null   int64 \n",
      " 25  RelationshipSatisfaction  1470 non-null   int64 \n",
      " 26  StandardHours             1470 non-null   int64 \n",
      " 27  StockOptionLevel          1470 non-null   int64 \n",
      " 28  TotalWorkingYears         1470 non-null   int64 \n",
      " 29  TrainingTimesLastYear     1470 non-null   int64 \n",
      " 30  WorkLifeBalance           1470 non-null   int64 \n",
      " 31  YearsAtCompany            1470 non-null   int64 \n",
      " 32  YearsInCurrentRole        1470 non-null   int64 \n",
      " 33  YearsSinceLastPromotion   1470 non-null   int64 \n",
      " 34  YearsWithCurrManager      1470 non-null   int64 \n",
      " 35  Attrition_ind             1470 non-null   int64 \n",
      "dtypes: int64(27), object(9)\n",
      "memory usage: 413.6+ KB\n"
     ]
    }
   ],
   "source": [
    "# 데이터 프레임 재확인\n",
    "hrattr.info()"
   ]
  },
  {
   "cell_type": "code",
   "execution_count": 15,
   "metadata": {},
   "outputs": [],
   "source": [
    "# object, int 데이터 구분해서 컬럼 정의하기\n",
    "discrete_columns = list()\n",
    "continuous_columns = list()\n",
    "dtypes = list(hrattr.dtypes)\n",
    "for dtype in enumerate(dtypes):\n",
    "    if dtype[1] == 'object':\n",
    "        discrete_columns.append(hrattr.columns[dtype[0]])    \n",
    "    elif dtype[1] == 'int64':\n",
    "        continuous_columns.append(hrattr.columns[dtype[0]])    "
   ]
  },
  {
   "cell_type": "code",
   "execution_count": 17,
   "metadata": {},
   "outputs": [],
   "source": [
    "# 알파벳 순으로 정렬\n",
    "discrete_columns = sorted(discrete_columns)\n",
    "continuous_columns = sorted(continuous_columns)"
   ]
  },
  {
   "cell_type": "code",
   "execution_count": 18,
   "metadata": {},
   "outputs": [
    {
     "name": "stdout",
     "output_type": "stream",
     "text": [
      "['Attrition', 'BusinessTravel', 'Department', 'EducationField', 'Gender', 'JobRole', 'MaritalStatus', 'Over18', 'OverTime']\n",
      "['Age', 'Attrition_ind', 'DailyRate', 'DistanceFromHome', 'Education', 'EmployeeCount', 'EmployeeNumber', 'EnvironmentSatisfaction', 'HourlyRate', 'JobInvolvement', 'JobLevel', 'JobSatisfaction', 'MonthlyIncome', 'MonthlyRate', 'NumCompaniesWorked', 'PercentSalaryHike', 'PerformanceRating', 'RelationshipSatisfaction', 'StandardHours', 'StockOptionLevel', 'TotalWorkingYears', 'TrainingTimesLastYear', 'WorkLifeBalance', 'YearsAtCompany', 'YearsInCurrentRole', 'YearsSinceLastPromotion', 'YearsWithCurrManager']\n"
     ]
    }
   ],
   "source": [
    "# 데이터 확인\n",
    "print(discrete_columns)\n",
    "print(continuous_columns)"
   ]
  },
  {
   "cell_type": "code",
   "execution_count": 21,
   "metadata": {},
   "outputs": [],
   "source": [
    "# object 변수 더미 변수화 시키기\n",
    "# 이 때, Attrition은 연속변수로 변환 했기 때문에 제거한다.\n",
    "# discrete_df 만들기\n",
    "dummies_df = list()\n",
    "for col in discrete_columns[1:]:\n",
    "    dummies_df.append(pd.get_dummies(hrattr[col], prefix = col))\n",
    "discrete_df = pd.concat(dummies_df, axis = 1)"
   ]
  },
  {
   "cell_type": "code",
   "execution_count": 22,
   "metadata": {},
   "outputs": [],
   "source": [
    "# int 변수 데이터 프레임 만들기\n",
    "continuous_df = hrattr[continuous_columns]"
   ]
  },
  {
   "cell_type": "code",
   "execution_count": 23,
   "metadata": {},
   "outputs": [],
   "source": [
    "# 통합 데이터 프레임 만들기\n",
    "hrattr_new = pd.concat([discrete_df, continuous_df], axis = 1)"
   ]
  },
  {
   "cell_type": "code",
   "execution_count": 24,
   "metadata": {},
   "outputs": [
    {
     "name": "stdout",
     "output_type": "stream",
     "text": [
      "<class 'pandas.core.frame.DataFrame'>\n",
      "RangeIndex: 1470 entries, 0 to 1469\n",
      "Data columns (total 56 columns):\n",
      " #   Column                             Non-Null Count  Dtype\n",
      "---  ------                             --------------  -----\n",
      " 0   BusinessTravel_Non-Travel          1470 non-null   uint8\n",
      " 1   BusinessTravel_Travel_Frequently   1470 non-null   uint8\n",
      " 2   BusinessTravel_Travel_Rarely       1470 non-null   uint8\n",
      " 3   Department_Human Resources         1470 non-null   uint8\n",
      " 4   Department_Research & Development  1470 non-null   uint8\n",
      " 5   Department_Sales                   1470 non-null   uint8\n",
      " 6   EducationField_Human Resources     1470 non-null   uint8\n",
      " 7   EducationField_Life Sciences       1470 non-null   uint8\n",
      " 8   EducationField_Marketing           1470 non-null   uint8\n",
      " 9   EducationField_Medical             1470 non-null   uint8\n",
      " 10  EducationField_Other               1470 non-null   uint8\n",
      " 11  EducationField_Technical Degree    1470 non-null   uint8\n",
      " 12  Gender_Female                      1470 non-null   uint8\n",
      " 13  Gender_Male                        1470 non-null   uint8\n",
      " 14  JobRole_Healthcare Representative  1470 non-null   uint8\n",
      " 15  JobRole_Human Resources            1470 non-null   uint8\n",
      " 16  JobRole_Laboratory Technician      1470 non-null   uint8\n",
      " 17  JobRole_Manager                    1470 non-null   uint8\n",
      " 18  JobRole_Manufacturing Director     1470 non-null   uint8\n",
      " 19  JobRole_Research Director          1470 non-null   uint8\n",
      " 20  JobRole_Research Scientist         1470 non-null   uint8\n",
      " 21  JobRole_Sales Executive            1470 non-null   uint8\n",
      " 22  JobRole_Sales Representative       1470 non-null   uint8\n",
      " 23  MaritalStatus_Divorced             1470 non-null   uint8\n",
      " 24  MaritalStatus_Married              1470 non-null   uint8\n",
      " 25  MaritalStatus_Single               1470 non-null   uint8\n",
      " 26  Over18_Y                           1470 non-null   uint8\n",
      " 27  OverTime_No                        1470 non-null   uint8\n",
      " 28  OverTime_Yes                       1470 non-null   uint8\n",
      " 29  Age                                1470 non-null   int64\n",
      " 30  Attrition_ind                      1470 non-null   int64\n",
      " 31  DailyRate                          1470 non-null   int64\n",
      " 32  DistanceFromHome                   1470 non-null   int64\n",
      " 33  Education                          1470 non-null   int64\n",
      " 34  EmployeeCount                      1470 non-null   int64\n",
      " 35  EmployeeNumber                     1470 non-null   int64\n",
      " 36  EnvironmentSatisfaction            1470 non-null   int64\n",
      " 37  HourlyRate                         1470 non-null   int64\n",
      " 38  JobInvolvement                     1470 non-null   int64\n",
      " 39  JobLevel                           1470 non-null   int64\n",
      " 40  JobSatisfaction                    1470 non-null   int64\n",
      " 41  MonthlyIncome                      1470 non-null   int64\n",
      " 42  MonthlyRate                        1470 non-null   int64\n",
      " 43  NumCompaniesWorked                 1470 non-null   int64\n",
      " 44  PercentSalaryHike                  1470 non-null   int64\n",
      " 45  PerformanceRating                  1470 non-null   int64\n",
      " 46  RelationshipSatisfaction           1470 non-null   int64\n",
      " 47  StandardHours                      1470 non-null   int64\n",
      " 48  StockOptionLevel                   1470 non-null   int64\n",
      " 49  TotalWorkingYears                  1470 non-null   int64\n",
      " 50  TrainingTimesLastYear              1470 non-null   int64\n",
      " 51  WorkLifeBalance                    1470 non-null   int64\n",
      " 52  YearsAtCompany                     1470 non-null   int64\n",
      " 53  YearsInCurrentRole                 1470 non-null   int64\n",
      " 54  YearsSinceLastPromotion            1470 non-null   int64\n",
      " 55  YearsWithCurrManager               1470 non-null   int64\n",
      "dtypes: int64(27), uint8(29)\n",
      "memory usage: 351.8 KB\n"
     ]
    }
   ],
   "source": [
    "# 통합 데이터 프레임 확인하기\n",
    "hrattr_new.info()"
   ]
  },
  {
   "cell_type": "code",
   "execution_count": 25,
   "metadata": {},
   "outputs": [],
   "source": [
    "# 필요없는 컬럼 제거하기\n",
    "remove_cols = ['EmployeeCount', 'EmployeeNumber', 'Over18_Y', 'StandardHours']\n",
    "hrattr_new.drop(remove_cols, axis = 1, inplace = True)"
   ]
  },
  {
   "cell_type": "code",
   "execution_count": 88,
   "metadata": {
    "scrolled": true
   },
   "outputs": [
    {
     "name": "stdout",
     "output_type": "stream",
     "text": [
      "<class 'pandas.core.frame.DataFrame'>\n",
      "RangeIndex: 1470 entries, 0 to 1469\n",
      "Data columns (total 52 columns):\n",
      " #   Column                             Non-Null Count  Dtype\n",
      "---  ------                             --------------  -----\n",
      " 0   BusinessTravel_Non-Travel          1470 non-null   uint8\n",
      " 1   BusinessTravel_Travel_Frequently   1470 non-null   uint8\n",
      " 2   BusinessTravel_Travel_Rarely       1470 non-null   uint8\n",
      " 3   Department_Human Resources         1470 non-null   uint8\n",
      " 4   Department_Research & Development  1470 non-null   uint8\n",
      " 5   Department_Sales                   1470 non-null   uint8\n",
      " 6   EducationField_Human Resources     1470 non-null   uint8\n",
      " 7   EducationField_Life Sciences       1470 non-null   uint8\n",
      " 8   EducationField_Marketing           1470 non-null   uint8\n",
      " 9   EducationField_Medical             1470 non-null   uint8\n",
      " 10  EducationField_Other               1470 non-null   uint8\n",
      " 11  EducationField_Technical Degree    1470 non-null   uint8\n",
      " 12  Gender_Female                      1470 non-null   uint8\n",
      " 13  Gender_Male                        1470 non-null   uint8\n",
      " 14  JobRole_Healthcare Representative  1470 non-null   uint8\n",
      " 15  JobRole_Human Resources            1470 non-null   uint8\n",
      " 16  JobRole_Laboratory Technician      1470 non-null   uint8\n",
      " 17  JobRole_Manager                    1470 non-null   uint8\n",
      " 18  JobRole_Manufacturing Director     1470 non-null   uint8\n",
      " 19  JobRole_Research Director          1470 non-null   uint8\n",
      " 20  JobRole_Research Scientist         1470 non-null   uint8\n",
      " 21  JobRole_Sales Executive            1470 non-null   uint8\n",
      " 22  JobRole_Sales Representative       1470 non-null   uint8\n",
      " 23  MaritalStatus_Divorced             1470 non-null   uint8\n",
      " 24  MaritalStatus_Married              1470 non-null   uint8\n",
      " 25  MaritalStatus_Single               1470 non-null   uint8\n",
      " 26  OverTime_No                        1470 non-null   uint8\n",
      " 27  OverTime_Yes                       1470 non-null   uint8\n",
      " 28  Age                                1470 non-null   int64\n",
      " 29  Attrition_ind                      1470 non-null   int64\n",
      " 30  DailyRate                          1470 non-null   int64\n",
      " 31  DistanceFromHome                   1470 non-null   int64\n",
      " 32  Education                          1470 non-null   int64\n",
      " 33  EnvironmentSatisfaction            1470 non-null   int64\n",
      " 34  HourlyRate                         1470 non-null   int64\n",
      " 35  JobInvolvement                     1470 non-null   int64\n",
      " 36  JobLevel                           1470 non-null   int64\n",
      " 37  JobSatisfaction                    1470 non-null   int64\n",
      " 38  MonthlyIncome                      1470 non-null   int64\n",
      " 39  MonthlyRate                        1470 non-null   int64\n",
      " 40  NumCompaniesWorked                 1470 non-null   int64\n",
      " 41  PercentSalaryHike                  1470 non-null   int64\n",
      " 42  PerformanceRating                  1470 non-null   int64\n",
      " 43  RelationshipSatisfaction           1470 non-null   int64\n",
      " 44  StockOptionLevel                   1470 non-null   int64\n",
      " 45  TotalWorkingYears                  1470 non-null   int64\n",
      " 46  TrainingTimesLastYear              1470 non-null   int64\n",
      " 47  WorkLifeBalance                    1470 non-null   int64\n",
      " 48  YearsAtCompany                     1470 non-null   int64\n",
      " 49  YearsInCurrentRole                 1470 non-null   int64\n",
      " 50  YearsSinceLastPromotion            1470 non-null   int64\n",
      " 51  YearsWithCurrManager               1470 non-null   int64\n",
      "dtypes: int64(24), uint8(28)\n",
      "memory usage: 315.9 KB\n"
     ]
    }
   ],
   "source": [
    "# 데이트 프레임 재확인\n",
    "hrattr_new.info()"
   ]
  },
  {
   "cell_type": "code",
   "execution_count": 28,
   "metadata": {},
   "outputs": [],
   "source": [
    "# train, test 데이터 분할하기\n",
    "x_train, x_test, y_train, y_test = train_test_split(hrattr_new.drop('Attrition_ind', axis = 1), hrattr_new['Attrition_ind'], random_state = 42, train_size = 0.7)"
   ]
  },
  {
   "cell_type": "code",
   "execution_count": 29,
   "metadata": {},
   "outputs": [
    {
     "data": {
      "text/plain": [
       "((1029, 51), (441, 51), (1029,), (441,))"
      ]
     },
     "execution_count": 29,
     "metadata": {},
     "output_type": "execute_result"
    }
   ],
   "source": [
    "# 데이터 분할 상태 확인\n",
    "x_train.shape, x_test.shape, y_train.shape, y_test.shape"
   ]
  },
  {
   "cell_type": "code",
   "execution_count": 44,
   "metadata": {},
   "outputs": [],
   "source": [
    "# 모듈 가져오기\n",
    "from sklearn.tree import DecisionTreeClassifier\n",
    "from sklearn.ensemble import BaggingClassifier\n",
    "from sklearn.metrics import accuracy_score, classification_report"
   ]
  },
  {
   "cell_type": "code",
   "execution_count": 45,
   "metadata": {},
   "outputs": [],
   "source": [
    "# 모델 생성\n",
    "dt_fit = DecisionTreeClassifier(\n",
    "    criterion = 'gini',\n",
    "    max_depth = 5,\n",
    "    min_samples_split = 2,\n",
    "    min_samples_leaf = 1,\n",
    "    random_state = 42,\n",
    "    class_weight = {\n",
    "        0 : 0.3,\n",
    "        1 : 0.7\n",
    "    }\n",
    ")"
   ]
  },
  {
   "cell_type": "code",
   "execution_count": 46,
   "metadata": {},
   "outputs": [],
   "source": [
    "# 배깅 모델 가져오기\n",
    "# 배깅을 위한 매개변수 설정\n",
    "bag_fit = BaggingClassifier(\n",
    "    base_estimator = dt_fit,\n",
    "    n_estimators = 5000,\n",
    "    max_samples = 0.67, # 각 트리에서 관측값의 67%를 활용한다는 의미\n",
    "    max_features = 1.0, # 모든 컬럼을 사용한다는 의미\n",
    "    bootstrap = True,\n",
    "    bootstrap_features = False,\n",
    "    n_jobs = -1,\n",
    "    random_state = 42\n",
    ")\n"
   ]
  },
  {
   "cell_type": "code",
   "execution_count": 47,
   "metadata": {},
   "outputs": [
    {
     "data": {
      "text/plain": [
       "BaggingClassifier(base_estimator=DecisionTreeClassifier(class_weight={0: 0.3,\n",
       "                                                                      1: 0.7},\n",
       "                                                        max_depth=5,\n",
       "                                                        random_state=42),\n",
       "                  max_samples=0.67, n_estimators=5000, n_jobs=-1,\n",
       "                  random_state=42)"
      ]
     },
     "execution_count": 47,
     "metadata": {},
     "output_type": "execute_result"
    }
   ],
   "source": [
    "# 배깅을 이용한 모델 학습\n",
    "bag_fit.fit(x_train, y_train)"
   ]
  },
  {
   "cell_type": "code",
   "execution_count": 48,
   "metadata": {},
   "outputs": [
    {
     "data": {
      "text/html": [
       "<div>\n",
       "<style scoped>\n",
       "    .dataframe tbody tr th:only-of-type {\n",
       "        vertical-align: middle;\n",
       "    }\n",
       "\n",
       "    .dataframe tbody tr th {\n",
       "        vertical-align: top;\n",
       "    }\n",
       "\n",
       "    .dataframe thead th {\n",
       "        text-align: right;\n",
       "    }\n",
       "</style>\n",
       "<table border=\"1\" class=\"dataframe\">\n",
       "  <thead>\n",
       "    <tr style=\"text-align: right;\">\n",
       "      <th>Predicted</th>\n",
       "      <th>0</th>\n",
       "      <th>1</th>\n",
       "    </tr>\n",
       "    <tr>\n",
       "      <th>Actual</th>\n",
       "      <th></th>\n",
       "      <th></th>\n",
       "    </tr>\n",
       "  </thead>\n",
       "  <tbody>\n",
       "    <tr>\n",
       "      <th>0</th>\n",
       "      <td>846</td>\n",
       "      <td>7</td>\n",
       "    </tr>\n",
       "    <tr>\n",
       "      <th>1</th>\n",
       "      <td>66</td>\n",
       "      <td>110</td>\n",
       "    </tr>\n",
       "  </tbody>\n",
       "</table>\n",
       "</div>"
      ],
      "text/plain": [
       "Predicted    0    1\n",
       "Actual             \n",
       "0          846    7\n",
       "1           66  110"
      ]
     },
     "execution_count": 48,
     "metadata": {},
     "output_type": "execute_result"
    }
   ],
   "source": [
    "# confusion matrix - 학습\n",
    "pd.crosstab(y_train, bag_fit.predict(x_train), rownames = ['Actual'], colnames = ['Predicted'])"
   ]
  },
  {
   "cell_type": "code",
   "execution_count": 49,
   "metadata": {},
   "outputs": [
    {
     "data": {
      "text/plain": [
       "0.9290573372206026"
      ]
     },
     "execution_count": 49,
     "metadata": {},
     "output_type": "execute_result"
    }
   ],
   "source": [
    "# accuracy - 학습\n",
    "accuracy_score(y_train, bag_fit.predict(x_train))"
   ]
  },
  {
   "cell_type": "code",
   "execution_count": 52,
   "metadata": {},
   "outputs": [
    {
     "name": "stdout",
     "output_type": "stream",
     "text": [
      "              precision    recall  f1-score   support\n",
      "\n",
      "           0       0.93      0.99      0.96       853\n",
      "           1       0.94      0.62      0.75       176\n",
      "\n",
      "    accuracy                           0.93      1029\n",
      "   macro avg       0.93      0.81      0.85      1029\n",
      "weighted avg       0.93      0.93      0.92      1029\n",
      "\n"
     ]
    }
   ],
   "source": [
    "# classification_report - 학습\n",
    "print(classification_report(y_train, bag_fit.predict(x_train)))"
   ]
  },
  {
   "cell_type": "code",
   "execution_count": 53,
   "metadata": {},
   "outputs": [
    {
     "data": {
      "text/html": [
       "<div>\n",
       "<style scoped>\n",
       "    .dataframe tbody tr th:only-of-type {\n",
       "        vertical-align: middle;\n",
       "    }\n",
       "\n",
       "    .dataframe tbody tr th {\n",
       "        vertical-align: top;\n",
       "    }\n",
       "\n",
       "    .dataframe thead th {\n",
       "        text-align: right;\n",
       "    }\n",
       "</style>\n",
       "<table border=\"1\" class=\"dataframe\">\n",
       "  <thead>\n",
       "    <tr style=\"text-align: right;\">\n",
       "      <th>Predicted</th>\n",
       "      <th>0</th>\n",
       "      <th>1</th>\n",
       "    </tr>\n",
       "    <tr>\n",
       "      <th>Actual</th>\n",
       "      <th></th>\n",
       "      <th></th>\n",
       "    </tr>\n",
       "  </thead>\n",
       "  <tbody>\n",
       "    <tr>\n",
       "      <th>0</th>\n",
       "      <td>372</td>\n",
       "      <td>8</td>\n",
       "    </tr>\n",
       "    <tr>\n",
       "      <th>1</th>\n",
       "      <td>49</td>\n",
       "      <td>12</td>\n",
       "    </tr>\n",
       "  </tbody>\n",
       "</table>\n",
       "</div>"
      ],
      "text/plain": [
       "Predicted    0   1\n",
       "Actual            \n",
       "0          372   8\n",
       "1           49  12"
      ]
     },
     "execution_count": 53,
     "metadata": {},
     "output_type": "execute_result"
    }
   ],
   "source": [
    "# confusion matrix - 테스트\n",
    "pd.crosstab(y_test, bag_fit.predict(x_test), rownames = ['Actual'], colnames = ['Predicted'])"
   ]
  },
  {
   "cell_type": "code",
   "execution_count": 54,
   "metadata": {},
   "outputs": [
    {
     "data": {
      "text/plain": [
       "0.8707482993197279"
      ]
     },
     "execution_count": 54,
     "metadata": {},
     "output_type": "execute_result"
    }
   ],
   "source": [
    "# accuracy - 테스트\n",
    "accuracy_score(y_test, bag_fit.predict(x_test))"
   ]
  },
  {
   "cell_type": "code",
   "execution_count": 55,
   "metadata": {},
   "outputs": [
    {
     "name": "stdout",
     "output_type": "stream",
     "text": [
      "              precision    recall  f1-score   support\n",
      "\n",
      "           0       0.88      0.98      0.93       380\n",
      "           1       0.60      0.20      0.30        61\n",
      "\n",
      "    accuracy                           0.87       441\n",
      "   macro avg       0.74      0.59      0.61       441\n",
      "weighted avg       0.84      0.87      0.84       441\n",
      "\n"
     ]
    }
   ],
   "source": [
    "# classification_report - 학습\n",
    "print(classification_report(y_test, bag_fit.predict(x_test)))"
   ]
  },
  {
   "cell_type": "markdown",
   "metadata": {},
   "source": [
    "## 랜덤 포레스트 분류기\n",
    "\n",
    "- 전체 변수를 선택하지 않고 일부의 예측 변수만 선택한다\n",
    "- p개 변수 중 선택할 m의 값을 정하는 것 => m = p/3이 통상적 => 개별 트리 간의 상관관계 문제를 피할 수 있다.\n",
    "\n",
    "||||||||||\n",
    "|--|--|--|--|--|--|--|--|--|\n",
    "|X|X|X|X|X|X|X|X|X|\n",
    "|X|X|X|X|X|X|X|X|X|\n",
    "|O|X|O|O|X|X|O|X|O|\n",
    "|O|X|O|O|X|X|O|X|O|\n",
    "|X|X|X|X|X|X|X|X|X|\n",
    "|X|X|X|X|X|X|X|X|X|\n",
    "|X|O|O|O|O|X|X|O|X|\n",
    "|X|O|O|O|O|X|X|O|X|"
   ]
  },
  {
   "cell_type": "code",
   "execution_count": 56,
   "metadata": {},
   "outputs": [],
   "source": [
    "# 랜덤 포레스트 분류기\n",
    "from sklearn.ensemble import RandomForestClassifier"
   ]
  },
  {
   "cell_type": "code",
   "execution_count": 58,
   "metadata": {},
   "outputs": [],
   "source": [
    "# 모델 생성 및 매개변수 설정\n",
    "rf_fit = RandomForestClassifier(\n",
    "    n_estimators = 5000, criterion = 'gini',\n",
    "    max_depth = 5,\n",
    "    min_samples_split = 2,\n",
    "    min_samples_leaf = 1,\n",
    "    bootstrap = True,\n",
    "    max_features = 'auto',\n",
    "    random_state = 42,\n",
    "    class_weight = {\n",
    "        0 : 0.3,\n",
    "        1 : 0.7\n",
    "    }\n",
    ")"
   ]
  },
  {
   "cell_type": "code",
   "execution_count": 59,
   "metadata": {},
   "outputs": [
    {
     "data": {
      "text/plain": [
       "RandomForestClassifier(class_weight={0: 0.3, 1: 0.7}, max_depth=5,\n",
       "                       n_estimators=5000, random_state=42)"
      ]
     },
     "execution_count": 59,
     "metadata": {},
     "output_type": "execute_result"
    }
   ],
   "source": [
    "# 모델 학습\n",
    "rf_fit.fit(x_train, y_train)"
   ]
  },
  {
   "cell_type": "code",
   "execution_count": 60,
   "metadata": {},
   "outputs": [
    {
     "data": {
      "text/html": [
       "<div>\n",
       "<style scoped>\n",
       "    .dataframe tbody tr th:only-of-type {\n",
       "        vertical-align: middle;\n",
       "    }\n",
       "\n",
       "    .dataframe tbody tr th {\n",
       "        vertical-align: top;\n",
       "    }\n",
       "\n",
       "    .dataframe thead th {\n",
       "        text-align: right;\n",
       "    }\n",
       "</style>\n",
       "<table border=\"1\" class=\"dataframe\">\n",
       "  <thead>\n",
       "    <tr style=\"text-align: right;\">\n",
       "      <th>Predicted</th>\n",
       "      <th>0</th>\n",
       "      <th>1</th>\n",
       "    </tr>\n",
       "    <tr>\n",
       "      <th>Actual</th>\n",
       "      <th></th>\n",
       "      <th></th>\n",
       "    </tr>\n",
       "  </thead>\n",
       "  <tbody>\n",
       "    <tr>\n",
       "      <th>0</th>\n",
       "      <td>841</td>\n",
       "      <td>12</td>\n",
       "    </tr>\n",
       "    <tr>\n",
       "      <th>1</th>\n",
       "      <td>76</td>\n",
       "      <td>100</td>\n",
       "    </tr>\n",
       "  </tbody>\n",
       "</table>\n",
       "</div>"
      ],
      "text/plain": [
       "Predicted    0    1\n",
       "Actual             \n",
       "0          841   12\n",
       "1           76  100"
      ]
     },
     "execution_count": 60,
     "metadata": {},
     "output_type": "execute_result"
    }
   ],
   "source": [
    "# confusion matrix - 학습\n",
    "pd.crosstab(y_train, rf_fit.predict(x_train), rownames = ['Actual'], colnames = ['Predicted'])"
   ]
  },
  {
   "cell_type": "code",
   "execution_count": 62,
   "metadata": {},
   "outputs": [
    {
     "data": {
      "text/plain": [
       "0.9144800777453839"
      ]
     },
     "execution_count": 62,
     "metadata": {},
     "output_type": "execute_result"
    }
   ],
   "source": [
    "# accuracy - 학습\n",
    "accuracy_score(y_train, rf_fit.predict(x_train))"
   ]
  },
  {
   "cell_type": "code",
   "execution_count": 64,
   "metadata": {},
   "outputs": [
    {
     "name": "stdout",
     "output_type": "stream",
     "text": [
      "              precision    recall  f1-score   support\n",
      "\n",
      "           0       0.92      0.99      0.95       853\n",
      "           1       0.89      0.57      0.69       176\n",
      "\n",
      "    accuracy                           0.91      1029\n",
      "   macro avg       0.90      0.78      0.82      1029\n",
      "weighted avg       0.91      0.91      0.91      1029\n",
      "\n"
     ]
    }
   ],
   "source": [
    "# classfication_report - 학습\n",
    "print(classification_report(y_train, rf_fit.predict(x_train)))"
   ]
  },
  {
   "cell_type": "code",
   "execution_count": 65,
   "metadata": {},
   "outputs": [
    {
     "data": {
      "text/html": [
       "<div>\n",
       "<style scoped>\n",
       "    .dataframe tbody tr th:only-of-type {\n",
       "        vertical-align: middle;\n",
       "    }\n",
       "\n",
       "    .dataframe tbody tr th {\n",
       "        vertical-align: top;\n",
       "    }\n",
       "\n",
       "    .dataframe thead th {\n",
       "        text-align: right;\n",
       "    }\n",
       "</style>\n",
       "<table border=\"1\" class=\"dataframe\">\n",
       "  <thead>\n",
       "    <tr style=\"text-align: right;\">\n",
       "      <th>Predicted</th>\n",
       "      <th>0</th>\n",
       "      <th>1</th>\n",
       "    </tr>\n",
       "    <tr>\n",
       "      <th>Actual</th>\n",
       "      <th></th>\n",
       "      <th></th>\n",
       "    </tr>\n",
       "  </thead>\n",
       "  <tbody>\n",
       "    <tr>\n",
       "      <th>0</th>\n",
       "      <td>373</td>\n",
       "      <td>7</td>\n",
       "    </tr>\n",
       "    <tr>\n",
       "      <th>1</th>\n",
       "      <td>47</td>\n",
       "      <td>14</td>\n",
       "    </tr>\n",
       "  </tbody>\n",
       "</table>\n",
       "</div>"
      ],
      "text/plain": [
       "Predicted    0   1\n",
       "Actual            \n",
       "0          373   7\n",
       "1           47  14"
      ]
     },
     "execution_count": 65,
     "metadata": {},
     "output_type": "execute_result"
    }
   ],
   "source": [
    "# confusion matrix - 테스트\n",
    "pd.crosstab(y_test, rf_fit.predict(x_test), rownames = ['Actual'], colnames = ['Predicted'])"
   ]
  },
  {
   "cell_type": "code",
   "execution_count": 66,
   "metadata": {},
   "outputs": [
    {
     "data": {
      "text/plain": [
       "0.8775510204081632"
      ]
     },
     "execution_count": 66,
     "metadata": {},
     "output_type": "execute_result"
    }
   ],
   "source": [
    "# accuracy - 학습\n",
    "accuracy_score(y_test, rf_fit.predict(x_test))"
   ]
  },
  {
   "cell_type": "code",
   "execution_count": 67,
   "metadata": {},
   "outputs": [
    {
     "name": "stdout",
     "output_type": "stream",
     "text": [
      "              precision    recall  f1-score   support\n",
      "\n",
      "           0       0.89      0.98      0.93       380\n",
      "           1       0.67      0.23      0.34        61\n",
      "\n",
      "    accuracy                           0.88       441\n",
      "   macro avg       0.78      0.61      0.64       441\n",
      "weighted avg       0.86      0.88      0.85       441\n",
      "\n"
     ]
    }
   ],
   "source": [
    "# classfication_report - 학습\n",
    "print(classification_report(y_test, rf_fit.predict(x_test)))"
   ]
  },
  {
   "cell_type": "code",
   "execution_count": 102,
   "metadata": {},
   "outputs": [],
   "source": [
    "# 지니의 평균값 감소를 이용한 변수 중요도 그래프\n",
    "model_ranks = pd.Series(rf_fit.feature_importances_, index = x_train.columns, name = 'Importance').sort_values(ascending = False)"
   ]
  },
  {
   "cell_type": "code",
   "execution_count": 103,
   "metadata": {},
   "outputs": [
    {
     "data": {
      "text/plain": [
       "MonthlyIncome                        0.090260\n",
       "OverTime_No                          0.082638\n",
       "OverTime_Yes                         0.078611\n",
       "Age                                  0.065269\n",
       "TotalWorkingYears                    0.064851\n",
       "StockOptionLevel                     0.057331\n",
       "YearsAtCompany                       0.052970\n",
       "MaritalStatus_Single                 0.039766\n",
       "YearsInCurrentRole                   0.039658\n",
       "YearsWithCurrManager                 0.037313\n",
       "JobLevel                             0.036568\n",
       "NumCompaniesWorked                   0.027368\n",
       "DailyRate                            0.025666\n",
       "DistanceFromHome                     0.023903\n",
       "MonthlyRate                          0.023174\n",
       "HourlyRate                           0.022534\n",
       "JobSatisfaction                      0.016834\n",
       "EnvironmentSatisfaction              0.016574\n",
       "TrainingTimesLastYear                0.014077\n",
       "JobInvolvement                       0.013810\n",
       "PercentSalaryHike                    0.013713\n",
       "YearsSinceLastPromotion              0.013330\n",
       "JobRole_Sales Representative         0.011044\n",
       "RelationshipSatisfaction             0.010191\n",
       "MaritalStatus_Divorced               0.010182\n",
       "WorkLifeBalance                      0.009793\n",
       "Education                            0.008499\n",
       "Department_Sales                     0.008465\n",
       "Department_Research & Development    0.008334\n",
       "BusinessTravel_Travel_Frequently     0.008207\n",
       "EducationField_Technical Degree      0.007346\n",
       "MaritalStatus_Married                0.006319\n",
       "JobRole_Sales Executive              0.006272\n",
       "JobRole_Laboratory Technician        0.005478\n",
       "EducationField_Life Sciences         0.004127\n",
       "EducationField_Marketing             0.003716\n",
       "JobRole_Healthcare Representative    0.003449\n",
       "Gender_Male                          0.003397\n",
       "BusinessTravel_Non-Travel            0.003382\n",
       "Gender_Female                        0.003374\n",
       "JobRole_Research Scientist           0.003331\n",
       "EducationField_Medical               0.003069\n",
       "BusinessTravel_Travel_Rarely         0.002948\n",
       "JobRole_Manufacturing Director       0.002175\n",
       "JobRole_Human Resources              0.001900\n",
       "EducationField_Human Resources       0.001866\n",
       "PerformanceRating                    0.001833\n",
       "JobRole_Research Director            0.001704\n",
       "Department_Human Resources           0.001182\n",
       "JobRole_Manager                      0.001117\n",
       "EducationField_Other                 0.001085\n",
       "Name: Importance, dtype: float64"
      ]
     },
     "execution_count": 103,
     "metadata": {},
     "output_type": "execute_result"
    }
   ],
   "source": [
    "# 데이터 확인\n",
    "model_ranks"
   ]
  },
  {
   "cell_type": "code",
   "execution_count": 104,
   "metadata": {},
   "outputs": [],
   "source": [
    "# 인덱스명 지정\n",
    "model_ranks.index.name = 'Variables'"
   ]
  },
  {
   "cell_type": "code",
   "execution_count": 105,
   "metadata": {},
   "outputs": [],
   "source": [
    "# 상위 30개 변수 선정\n",
    "top_features = model_ranks.iloc[:31].sort_values(ascending = True)"
   ]
  },
  {
   "cell_type": "code",
   "execution_count": 106,
   "metadata": {},
   "outputs": [
    {
     "data": {
      "text/plain": [
       "Variables\n",
       "EducationField_Technical Degree      0.007346\n",
       "BusinessTravel_Travel_Frequently     0.008207\n",
       "Department_Research & Development    0.008334\n",
       "Department_Sales                     0.008465\n",
       "Education                            0.008499\n",
       "WorkLifeBalance                      0.009793\n",
       "MaritalStatus_Divorced               0.010182\n",
       "RelationshipSatisfaction             0.010191\n",
       "JobRole_Sales Representative         0.011044\n",
       "YearsSinceLastPromotion              0.013330\n",
       "PercentSalaryHike                    0.013713\n",
       "JobInvolvement                       0.013810\n",
       "TrainingTimesLastYear                0.014077\n",
       "EnvironmentSatisfaction              0.016574\n",
       "JobSatisfaction                      0.016834\n",
       "HourlyRate                           0.022534\n",
       "MonthlyRate                          0.023174\n",
       "DistanceFromHome                     0.023903\n",
       "DailyRate                            0.025666\n",
       "NumCompaniesWorked                   0.027368\n",
       "JobLevel                             0.036568\n",
       "YearsWithCurrManager                 0.037313\n",
       "YearsInCurrentRole                   0.039658\n",
       "MaritalStatus_Single                 0.039766\n",
       "YearsAtCompany                       0.052970\n",
       "StockOptionLevel                     0.057331\n",
       "TotalWorkingYears                    0.064851\n",
       "Age                                  0.065269\n",
       "OverTime_Yes                         0.078611\n",
       "OverTime_No                          0.082638\n",
       "MonthlyIncome                        0.090260\n",
       "Name: Importance, dtype: float64"
      ]
     },
     "execution_count": 106,
     "metadata": {},
     "output_type": "execute_result"
    }
   ],
   "source": [
    "# 데이터 확인\n",
    "top_features"
   ]
  },
  {
   "cell_type": "code",
   "execution_count": 107,
   "metadata": {},
   "outputs": [
    {
     "data": {
      "text/plain": [
       "[Text(0, 0, 'EducationField_Technical Degree'),\n",
       " Text(0, 0, 'BusinessTravel_Travel_Frequently'),\n",
       " Text(0, 0, 'Department_Research & Development'),\n",
       " Text(0, 0, 'Department_Sales'),\n",
       " Text(0, 0, 'Education'),\n",
       " Text(0, 0, 'WorkLifeBalance'),\n",
       " Text(0, 0, 'MaritalStatus_Divorced'),\n",
       " Text(0, 0, 'RelationshipSatisfaction'),\n",
       " Text(0, 0, 'JobRole_Sales Representative'),\n",
       " Text(0, 0, 'YearsSinceLastPromotion'),\n",
       " Text(0, 0, 'PercentSalaryHike'),\n",
       " Text(0, 0, 'JobInvolvement'),\n",
       " Text(0, 0, 'TrainingTimesLastYear'),\n",
       " Text(0, 0, 'EnvironmentSatisfaction'),\n",
       " Text(0, 0, 'JobSatisfaction'),\n",
       " Text(0, 0, 'HourlyRate'),\n",
       " Text(0, 0, 'MonthlyRate'),\n",
       " Text(0, 0, 'DistanceFromHome'),\n",
       " Text(0, 0, 'DailyRate'),\n",
       " Text(0, 0, 'NumCompaniesWorked'),\n",
       " Text(0, 0, 'JobLevel'),\n",
       " Text(0, 0, 'YearsWithCurrManager'),\n",
       " Text(0, 0, 'YearsInCurrentRole'),\n",
       " Text(0, 0, 'MaritalStatus_Single'),\n",
       " Text(0, 0, 'YearsAtCompany'),\n",
       " Text(0, 0, 'StockOptionLevel'),\n",
       " Text(0, 0, 'TotalWorkingYears'),\n",
       " Text(0, 0, 'Age'),\n",
       " Text(0, 0, 'OverTime_Yes'),\n",
       " Text(0, 0, 'OverTime_No'),\n",
       " Text(0, 0, 'MonthlyIncome')]"
      ]
     },
     "execution_count": 107,
     "metadata": {},
     "output_type": "execute_result"
    },
    {
     "data": {
      "image/png": "[encoded data removed]",
      "text/plain": [
       "<Figure size 1440x720 with 1 Axes>"
      ]
     },
     "metadata": {
      "needs_background": "light"
     },
     "output_type": "display_data"
    }
   ],
   "source": [
    "# 그래프 그리기\n",
    "import matplotlib.pyplot as plt\n",
    "plt.figure(figsize = (20,10))\n",
    "ax = top_features.plot(kind = 'barh')\n",
    "ax.set_title('\"Variable Importance Plot\"')\n",
    "ax.set_xlabel('Mean decrease in Variance')\n",
    "ax.set_yticklabels(top_features.index, fontsize = 13)"
   ]
  },
  {
   "cell_type": "code",
   "execution_count": null,
   "metadata": {},
   "outputs": [],
   "source": []
  },
  {
   "cell_type": "code",
   "execution_count": null,
   "metadata": {},
   "outputs": [],
   "source": []
  },
  {
   "cell_type": "code",
   "execution_count": null,
   "metadata": {},
   "outputs": [],
   "source": []
  },
  {
   "cell_type": "code",
   "execution_count": null,
   "metadata": {},
   "outputs": [],
   "source": []
  }
 ],
 "metadata": {
  "kernelspec": {
   "display_name": "Python 3",
   "language": "python",
   "name": "python3"
  },
  "language_info": {
   "codemirror_mode": {
    "name": "ipython",
    "version": 3
   },
   "file_extension": ".py",
   "mimetype": "text/x-python",
   "name": "python",
   "nbconvert_exporter": "python",
   "pygments_lexer": "ipython3",
   "version": "3.8.3"
  }
 },
 "nbformat": 4,
 "nbformat_minor": 4
}

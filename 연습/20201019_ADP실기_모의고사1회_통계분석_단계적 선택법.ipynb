{
 "cells": [
  {
   "cell_type": "markdown",
   "metadata": {},
   "source": [
    "### FIFA 데이터는 가상의 온라인 축구게임에 등장하는 축구 선수의 주요 특징과 신체 정보에 대한 데이터이며, 변수 설명은 아래와 같다.(책 참고)"
   ]
  },
  {
   "cell_type": "code",
   "execution_count": 1,
   "metadata": {},
   "outputs": [],
   "source": [
    "# 모듈 가져오기\n",
    "import pandas as pd"
   ]
  },
  {
   "cell_type": "code",
   "execution_count": 2,
   "metadata": {},
   "outputs": [],
   "source": [
    "# 데이터 가져오기\n",
    "FIFA = pd.read_csv('./Data/data_edu/모의고사 1회/FIFA.csv', encoding = 'cp949')"
   ]
  },
  {
   "cell_type": "code",
   "execution_count": 3,
   "metadata": {},
   "outputs": [
    {
     "data": {
      "text/html": [
       "<div>\n",
       "<style scoped>\n",
       "    .dataframe tbody tr th:only-of-type {\n",
       "        vertical-align: middle;\n",
       "    }\n",
       "\n",
       "    .dataframe tbody tr th {\n",
       "        vertical-align: top;\n",
       "    }\n",
       "\n",
       "    .dataframe thead th {\n",
       "        text-align: right;\n",
       "    }\n",
       "</style>\n",
       "<table border=\"1\" class=\"dataframe\">\n",
       "  <thead>\n",
       "    <tr style=\"text-align: right;\">\n",
       "      <th></th>\n",
       "      <th>ID</th>\n",
       "      <th>Name</th>\n",
       "      <th>Age</th>\n",
       "      <th>Nationality</th>\n",
       "      <th>Overall</th>\n",
       "      <th>Club</th>\n",
       "      <th>Preferred_Foot</th>\n",
       "      <th>Work_Rate</th>\n",
       "      <th>Position</th>\n",
       "      <th>Jersey_Number</th>\n",
       "      <th>Contract_Valid_Until</th>\n",
       "      <th>Height</th>\n",
       "      <th>Weight_lb</th>\n",
       "      <th>Release_Clause</th>\n",
       "      <th>Value</th>\n",
       "      <th>Wage</th>\n",
       "    </tr>\n",
       "  </thead>\n",
       "  <tbody>\n",
       "    <tr>\n",
       "      <th>0</th>\n",
       "      <td>158023</td>\n",
       "      <td>L. Messi</td>\n",
       "      <td>31</td>\n",
       "      <td>Argentina</td>\n",
       "      <td>94</td>\n",
       "      <td>FC Barcelona</td>\n",
       "      <td>Left</td>\n",
       "      <td>Medium/ Medium</td>\n",
       "      <td>RF</td>\n",
       "      <td>10</td>\n",
       "      <td>2021</td>\n",
       "      <td>5'7</td>\n",
       "      <td>159</td>\n",
       "      <td>226500</td>\n",
       "      <td>110500</td>\n",
       "      <td>565</td>\n",
       "    </tr>\n",
       "    <tr>\n",
       "      <th>1</th>\n",
       "      <td>20801</td>\n",
       "      <td>Cristiano Ronaldo</td>\n",
       "      <td>33</td>\n",
       "      <td>Portugal</td>\n",
       "      <td>94</td>\n",
       "      <td>Juventus</td>\n",
       "      <td>Right</td>\n",
       "      <td>High/ Low</td>\n",
       "      <td>ST</td>\n",
       "      <td>7</td>\n",
       "      <td>2022</td>\n",
       "      <td>6'2</td>\n",
       "      <td>183</td>\n",
       "      <td>127100</td>\n",
       "      <td>77000</td>\n",
       "      <td>405</td>\n",
       "    </tr>\n",
       "    <tr>\n",
       "      <th>2</th>\n",
       "      <td>190871</td>\n",
       "      <td>Neymar Jr</td>\n",
       "      <td>26</td>\n",
       "      <td>Brazil</td>\n",
       "      <td>92</td>\n",
       "      <td>Paris Saint-Germain</td>\n",
       "      <td>Right</td>\n",
       "      <td>High/ Medium</td>\n",
       "      <td>LW</td>\n",
       "      <td>10</td>\n",
       "      <td>2022</td>\n",
       "      <td>5'9</td>\n",
       "      <td>150</td>\n",
       "      <td>228100</td>\n",
       "      <td>118500</td>\n",
       "      <td>290</td>\n",
       "    </tr>\n",
       "    <tr>\n",
       "      <th>3</th>\n",
       "      <td>193080</td>\n",
       "      <td>De Gea</td>\n",
       "      <td>27</td>\n",
       "      <td>Spain</td>\n",
       "      <td>91</td>\n",
       "      <td>Manchester United</td>\n",
       "      <td>Right</td>\n",
       "      <td>Medium/ Medium</td>\n",
       "      <td>GK</td>\n",
       "      <td>1</td>\n",
       "      <td>2020</td>\n",
       "      <td>6'4</td>\n",
       "      <td>168</td>\n",
       "      <td>138600</td>\n",
       "      <td>72000</td>\n",
       "      <td>260</td>\n",
       "    </tr>\n",
       "    <tr>\n",
       "      <th>4</th>\n",
       "      <td>192985</td>\n",
       "      <td>K. De Bruyne</td>\n",
       "      <td>27</td>\n",
       "      <td>Belgium</td>\n",
       "      <td>91</td>\n",
       "      <td>Manchester City</td>\n",
       "      <td>Right</td>\n",
       "      <td>High/ High</td>\n",
       "      <td>RCM</td>\n",
       "      <td>7</td>\n",
       "      <td>2023</td>\n",
       "      <td>5'11</td>\n",
       "      <td>154</td>\n",
       "      <td>196400</td>\n",
       "      <td>102000</td>\n",
       "      <td>355</td>\n",
       "    </tr>\n",
       "  </tbody>\n",
       "</table>\n",
       "</div>"
      ],
      "text/plain": [
       "       ID               Name  Age Nationality  Overall                 Club  \\\n",
       "0  158023           L. Messi   31   Argentina       94         FC Barcelona   \n",
       "1   20801  Cristiano Ronaldo   33    Portugal       94             Juventus   \n",
       "2  190871          Neymar Jr   26      Brazil       92  Paris Saint-Germain   \n",
       "3  193080             De Gea   27       Spain       91    Manchester United   \n",
       "4  192985       K. De Bruyne   27     Belgium       91      Manchester City   \n",
       "\n",
       "  Preferred_Foot       Work_Rate Position  Jersey_Number  \\\n",
       "0           Left  Medium/ Medium       RF             10   \n",
       "1          Right       High/ Low       ST              7   \n",
       "2          Right    High/ Medium       LW             10   \n",
       "3          Right  Medium/ Medium       GK              1   \n",
       "4          Right      High/ High      RCM              7   \n",
       "\n",
       "   Contract_Valid_Until Height  Weight_lb  Release_Clause   Value  Wage  \n",
       "0                  2021    5'7        159          226500  110500   565  \n",
       "1                  2022    6'2        183          127100   77000   405  \n",
       "2                  2022    5'9        150          228100  118500   290  \n",
       "3                  2020    6'4        168          138600   72000   260  \n",
       "4                  2023   5'11        154          196400  102000   355  "
      ]
     },
     "execution_count": 3,
     "metadata": {},
     "output_type": "execute_result"
    }
   ],
   "source": [
    "# 데이터 확인 - head()\n",
    "FIFA.head()"
   ]
  },
  {
   "cell_type": "code",
   "execution_count": 4,
   "metadata": {},
   "outputs": [
    {
     "data": {
      "text/plain": [
       "(16642, 16)"
      ]
     },
     "execution_count": 4,
     "metadata": {},
     "output_type": "execute_result"
    }
   ],
   "source": [
    "# 데이터 shape 확인\n",
    "FIFA.shape"
   ]
  },
  {
   "cell_type": "code",
   "execution_count": 5,
   "metadata": {},
   "outputs": [
    {
     "name": "stdout",
     "output_type": "stream",
     "text": [
      "<class 'pandas.core.frame.DataFrame'>\n",
      "RangeIndex: 16642 entries, 0 to 16641\n",
      "Data columns (total 16 columns):\n",
      " #   Column                Non-Null Count  Dtype \n",
      "---  ------                --------------  ----- \n",
      " 0   ID                    16642 non-null  int64 \n",
      " 1   Name                  16642 non-null  object\n",
      " 2   Age                   16642 non-null  int64 \n",
      " 3   Nationality           16642 non-null  object\n",
      " 4   Overall               16642 non-null  int64 \n",
      " 5   Club                  16642 non-null  object\n",
      " 6   Preferred_Foot        16642 non-null  object\n",
      " 7   Work_Rate             16642 non-null  object\n",
      " 8   Position              16642 non-null  object\n",
      " 9   Jersey_Number         16642 non-null  int64 \n",
      " 10  Contract_Valid_Until  16642 non-null  int64 \n",
      " 11  Height                16642 non-null  object\n",
      " 12  Weight_lb             16642 non-null  int64 \n",
      " 13  Release_Clause        16642 non-null  int64 \n",
      " 14  Value                 16642 non-null  int64 \n",
      " 15  Wage                  16642 non-null  int64 \n",
      "dtypes: int64(9), object(7)\n",
      "memory usage: 2.0+ MB\n"
     ]
    }
   ],
   "source": [
    "# 데이터 타입 정보 확인\n",
    "FIFA.info()"
   ]
  },
  {
   "cell_type": "markdown",
   "metadata": {},
   "source": [
    "### 1) FIFA데이터에서 각 선수의 키는 Height변수에 피트와 인치로 입력되어 있습니다. 이를 cm로 변환하여 새로운 변수 Height_cm을 생성하시오."
   ]
  },
  {
   "cell_type": "code",
   "execution_count": 6,
   "metadata": {},
   "outputs": [
    {
     "data": {
      "text/plain": [
       "0         5'7\n",
       "1         6'2\n",
       "2         5'9\n",
       "3         6'4\n",
       "4        5'11\n",
       "         ... \n",
       "16637     5'9\n",
       "16638     6'3\n",
       "16639     5'8\n",
       "16640    5'10\n",
       "16641    5'10\n",
       "Name: Height, Length: 16642, dtype: object"
      ]
     },
     "execution_count": 6,
     "metadata": {},
     "output_type": "execute_result"
    }
   ],
   "source": [
    "# Height 데이터 확인\n",
    "FIFA['Height']"
   ]
  },
  {
   "cell_type": "markdown",
   "metadata": {},
   "source": [
    "- '앞은 피트 '뒤는 인치\n",
    "- 1피트 = 30cm, 1인치 = 2.5cm\n",
    "- 전처리 전략\n",
    "    - 1. '를 기준으로 데이터를 분할\n",
    "    - 2. 분할된 데이터의 앞쪽 x 30 + 분할된 데이터의 뒤쪽 x 2.5\n",
    "    - 3. 새로운 컬럼 정의   "
   ]
  },
  {
   "cell_type": "code",
   "execution_count": 7,
   "metadata": {},
   "outputs": [],
   "source": [
    "# 1-1. 데이터 분할하기\n",
    "feet = FIFA['Height'].str.split(\"'\").str.get(0)\n",
    "inch = FIFA['Height'].str.split(\"'\").str.get(1)"
   ]
  },
  {
   "cell_type": "code",
   "execution_count": 8,
   "metadata": {},
   "outputs": [
    {
     "data": {
      "text/plain": [
       "(0        5\n",
       " 1        6\n",
       " 2        5\n",
       " 3        6\n",
       " 4        5\n",
       "         ..\n",
       " 16637    5\n",
       " 16638    6\n",
       " 16639    5\n",
       " 16640    5\n",
       " 16641    5\n",
       " Name: Height, Length: 16642, dtype: object,\n",
       " 0         7\n",
       " 1         2\n",
       " 2         9\n",
       " 3         4\n",
       " 4        11\n",
       "          ..\n",
       " 16637     9\n",
       " 16638     3\n",
       " 16639     8\n",
       " 16640    10\n",
       " 16641    10\n",
       " Name: Height, Length: 16642, dtype: object)"
      ]
     },
     "execution_count": 8,
     "metadata": {},
     "output_type": "execute_result"
    }
   ],
   "source": [
    "# 1-2. 데이터 확인\n",
    "feet, inch"
   ]
  },
  {
   "cell_type": "markdown",
   "metadata": {},
   "source": [
    "- 데이터 확인결과 feet, inch 둘다 object 타입이다.\n",
    "- 따라서, 연산을 위해 float값으로 변환 한다."
   ]
  },
  {
   "cell_type": "code",
   "execution_count": 9,
   "metadata": {},
   "outputs": [],
   "source": [
    "# 1-3. 데이터 타입 변환\n",
    "feet = feet.astype('float')\n",
    "inch = inch.astype('float')"
   ]
  },
  {
   "cell_type": "code",
   "execution_count": 10,
   "metadata": {},
   "outputs": [],
   "source": [
    "# 2-1. 위의 식대로 계산한다 - 브로드캐스팅 이용\n",
    "Height_cm = feet * 30 + inch * 2.5"
   ]
  },
  {
   "cell_type": "code",
   "execution_count": 11,
   "metadata": {},
   "outputs": [],
   "source": [
    "# 3-1 새로운 컬럼 정의하기 - Height_cm\n",
    "FIFA['Height_cm'] = Height_cm"
   ]
  },
  {
   "cell_type": "code",
   "execution_count": 12,
   "metadata": {},
   "outputs": [
    {
     "data": {
      "text/plain": [
       "0        167.5\n",
       "1        185.0\n",
       "2        172.5\n",
       "3        190.0\n",
       "4        177.5\n",
       "         ...  \n",
       "16637    172.5\n",
       "16638    187.5\n",
       "16639    170.0\n",
       "16640    175.0\n",
       "16641    175.0\n",
       "Name: Height_cm, Length: 16642, dtype: float64"
      ]
     },
     "execution_count": 12,
     "metadata": {},
     "output_type": "execute_result"
    }
   ],
   "source": [
    "# 데이터 확인\n",
    "FIFA['Height_cm']"
   ]
  },
  {
   "cell_type": "markdown",
   "metadata": {},
   "source": [
    "### 2) 포지션을 의미하는 Position변수를 아래 표를 참고하여 \"Forward\", \"Midfielder\", \"Defender\", \"GoalKeeper\"로 재범주화하고, factor형으로 변환하여 Position_Class라는 변수를 생성하고 저장\n",
    "\n",
    "|구분|내용|\n",
    "|:--:|:--:|\n",
    "|Forward|LS, ST, RS, LW, LF, CF, RF, RW|\n",
    "|Midfielder|LAM, CAM, RAM, LM, LCM, CM, RCM, RM|\n",
    "|Defender|LWB, LDM, CDM, RDM, RWB, LB, LCB, CB, RCB, RB|\n",
    "|GoalKeeper|GK|"
   ]
  },
  {
   "cell_type": "markdown",
   "metadata": {},
   "source": [
    "- 전략\n",
    "    - 1. class_position 빈리스트 정의\n",
    "    - 2. if, elif, else를 이용하여 해당선수를 분류한다.\n",
    "    - 3. 분류된 선수들의 정보를 이용해 새로운 컬럼을 정의"
   ]
  },
  {
   "cell_type": "code",
   "execution_count": 13,
   "metadata": {},
   "outputs": [],
   "source": [
    "# 1-1. 리스트 정의\n",
    "Forward_contents = ['LS', 'ST', 'RS', 'LW', 'LF', 'CF', 'RF', 'RW']\n",
    "Midfielder_contents = ['LAM', 'CAM', 'RAM', 'LM', 'LCM', 'CM', 'RCM', 'RM']\n",
    "Defender_contents = ['LWB', 'LDM', 'CDM', 'RDM', 'RWB', 'LB', 'LCB', 'CB', 'RCB', 'RB']\n",
    "GoalKeeper = ['GK']"
   ]
  },
  {
   "cell_type": "code",
   "execution_count": 14,
   "metadata": {
    "scrolled": false
   },
   "outputs": [],
   "source": [
    "# 2-1. 조건문을 이용해 선수들의 포지션을 분류\n",
    "class_position = list()\n",
    "for pos in FIFA['Position']:\n",
    "    if pos in Forward_contents:\n",
    "        pos = 'Forward'\n",
    "        class_position.append(pos)\n",
    "    elif pos in Midfielder_contents:\n",
    "        pos = 'Midfielder'\n",
    "        class_position.append(pos)\n",
    "    elif pos in Defender_contents:\n",
    "        pos = 'Defender'\n",
    "        class_position.append(pos)\n",
    "    else:\n",
    "        pos = 'GoalKeeper'\n",
    "        class_position.append(pos)"
   ]
  },
  {
   "cell_type": "code",
   "execution_count": 15,
   "metadata": {},
   "outputs": [],
   "source": [
    "# 3-1. 새로운 컬럼 정의\n",
    "FIFA['Position_class'] = class_position"
   ]
  },
  {
   "cell_type": "code",
   "execution_count": 16,
   "metadata": {},
   "outputs": [
    {
     "data": {
      "text/html": [
       "<div>\n",
       "<style scoped>\n",
       "    .dataframe tbody tr th:only-of-type {\n",
       "        vertical-align: middle;\n",
       "    }\n",
       "\n",
       "    .dataframe tbody tr th {\n",
       "        vertical-align: top;\n",
       "    }\n",
       "\n",
       "    .dataframe thead th {\n",
       "        text-align: right;\n",
       "    }\n",
       "</style>\n",
       "<table border=\"1\" class=\"dataframe\">\n",
       "  <thead>\n",
       "    <tr style=\"text-align: right;\">\n",
       "      <th></th>\n",
       "      <th>Position</th>\n",
       "      <th>Position_class</th>\n",
       "    </tr>\n",
       "  </thead>\n",
       "  <tbody>\n",
       "    <tr>\n",
       "      <th>0</th>\n",
       "      <td>RF</td>\n",
       "      <td>Forward</td>\n",
       "    </tr>\n",
       "    <tr>\n",
       "      <th>1</th>\n",
       "      <td>ST</td>\n",
       "      <td>Forward</td>\n",
       "    </tr>\n",
       "    <tr>\n",
       "      <th>2</th>\n",
       "      <td>LW</td>\n",
       "      <td>Forward</td>\n",
       "    </tr>\n",
       "    <tr>\n",
       "      <th>3</th>\n",
       "      <td>GK</td>\n",
       "      <td>GoalKeeper</td>\n",
       "    </tr>\n",
       "    <tr>\n",
       "      <th>4</th>\n",
       "      <td>RCM</td>\n",
       "      <td>Midfielder</td>\n",
       "    </tr>\n",
       "    <tr>\n",
       "      <th>...</th>\n",
       "      <td>...</td>\n",
       "      <td>...</td>\n",
       "    </tr>\n",
       "    <tr>\n",
       "      <th>16637</th>\n",
       "      <td>CM</td>\n",
       "      <td>Midfielder</td>\n",
       "    </tr>\n",
       "    <tr>\n",
       "      <th>16638</th>\n",
       "      <td>ST</td>\n",
       "      <td>Forward</td>\n",
       "    </tr>\n",
       "    <tr>\n",
       "      <th>16639</th>\n",
       "      <td>ST</td>\n",
       "      <td>Forward</td>\n",
       "    </tr>\n",
       "    <tr>\n",
       "      <th>16640</th>\n",
       "      <td>RW</td>\n",
       "      <td>Forward</td>\n",
       "    </tr>\n",
       "    <tr>\n",
       "      <th>16641</th>\n",
       "      <td>CM</td>\n",
       "      <td>Midfielder</td>\n",
       "    </tr>\n",
       "  </tbody>\n",
       "</table>\n",
       "<p>16642 rows × 2 columns</p>\n",
       "</div>"
      ],
      "text/plain": [
       "      Position Position_class\n",
       "0           RF        Forward\n",
       "1           ST        Forward\n",
       "2           LW        Forward\n",
       "3           GK     GoalKeeper\n",
       "4          RCM     Midfielder\n",
       "...        ...            ...\n",
       "16637       CM     Midfielder\n",
       "16638       ST        Forward\n",
       "16639       ST        Forward\n",
       "16640       RW        Forward\n",
       "16641       CM     Midfielder\n",
       "\n",
       "[16642 rows x 2 columns]"
      ]
     },
     "execution_count": 16,
     "metadata": {},
     "output_type": "execute_result"
    }
   ],
   "source": [
    "# 3-2. 데이터 확인\n",
    "FIFA[['Position', 'Position_class']]"
   ]
  },
  {
   "cell_type": "markdown",
   "metadata": {},
   "source": [
    "### 3) 새로 생성한 Position_Class 변수의 각 범주에 따른 Value(선수의 시장가치)의 평균값의 차이를 비교하는 일원배치 분산분석을 수행하고 결과를 해석하시오. 그리고 평균값의 차이가 통계적으로 유의하다면 사후검정을 수행하고 설명하시오"
   ]
  },
  {
   "cell_type": "code",
   "execution_count": 17,
   "metadata": {},
   "outputs": [],
   "source": [
    "# 일원배치 분산분석을 위한 모듈 가져오기\n",
    "from statsmodels.stats.anova import anova_lm\n",
    "import numpy as np"
   ]
  },
  {
   "cell_type": "code",
   "execution_count": 18,
   "metadata": {},
   "outputs": [
    {
     "data": {
      "text/html": [
       "<div>\n",
       "<style scoped>\n",
       "    .dataframe tbody tr th:only-of-type {\n",
       "        vertical-align: middle;\n",
       "    }\n",
       "\n",
       "    .dataframe tbody tr th {\n",
       "        vertical-align: top;\n",
       "    }\n",
       "\n",
       "    .dataframe thead th {\n",
       "        text-align: right;\n",
       "    }\n",
       "</style>\n",
       "<table border=\"1\" class=\"dataframe\">\n",
       "  <thead>\n",
       "    <tr style=\"text-align: right;\">\n",
       "      <th></th>\n",
       "      <th>Position_class</th>\n",
       "      <th>Value</th>\n",
       "    </tr>\n",
       "  </thead>\n",
       "  <tbody>\n",
       "    <tr>\n",
       "      <th>0</th>\n",
       "      <td>Forward</td>\n",
       "      <td>110500</td>\n",
       "    </tr>\n",
       "    <tr>\n",
       "      <th>1</th>\n",
       "      <td>Forward</td>\n",
       "      <td>77000</td>\n",
       "    </tr>\n",
       "    <tr>\n",
       "      <th>2</th>\n",
       "      <td>Forward</td>\n",
       "      <td>118500</td>\n",
       "    </tr>\n",
       "    <tr>\n",
       "      <th>3</th>\n",
       "      <td>GoalKeeper</td>\n",
       "      <td>72000</td>\n",
       "    </tr>\n",
       "    <tr>\n",
       "      <th>4</th>\n",
       "      <td>Midfielder</td>\n",
       "      <td>102000</td>\n",
       "    </tr>\n",
       "    <tr>\n",
       "      <th>...</th>\n",
       "      <td>...</td>\n",
       "      <td>...</td>\n",
       "    </tr>\n",
       "    <tr>\n",
       "      <th>16637</th>\n",
       "      <td>Midfielder</td>\n",
       "      <td>60</td>\n",
       "    </tr>\n",
       "    <tr>\n",
       "      <th>16638</th>\n",
       "      <td>Forward</td>\n",
       "      <td>60</td>\n",
       "    </tr>\n",
       "    <tr>\n",
       "      <th>16639</th>\n",
       "      <td>Forward</td>\n",
       "      <td>60</td>\n",
       "    </tr>\n",
       "    <tr>\n",
       "      <th>16640</th>\n",
       "      <td>Forward</td>\n",
       "      <td>60</td>\n",
       "    </tr>\n",
       "    <tr>\n",
       "      <th>16641</th>\n",
       "      <td>Midfielder</td>\n",
       "      <td>60</td>\n",
       "    </tr>\n",
       "  </tbody>\n",
       "</table>\n",
       "<p>16642 rows × 2 columns</p>\n",
       "</div>"
      ],
      "text/plain": [
       "      Position_class   Value\n",
       "0            Forward  110500\n",
       "1            Forward   77000\n",
       "2            Forward  118500\n",
       "3         GoalKeeper   72000\n",
       "4         Midfielder  102000\n",
       "...              ...     ...\n",
       "16637     Midfielder      60\n",
       "16638        Forward      60\n",
       "16639        Forward      60\n",
       "16640        Forward      60\n",
       "16641     Midfielder      60\n",
       "\n",
       "[16642 rows x 2 columns]"
      ]
     },
     "execution_count": 18,
     "metadata": {},
     "output_type": "execute_result"
    }
   ],
   "source": [
    "# 데이터에서 필요한 부분만 추출해서 가져오기\n",
    "FIFA_part1 = FIFA[['Position_class', 'Value']]\n",
    "FIFA_part1"
   ]
  },
  {
   "cell_type": "markdown",
   "metadata": {},
   "source": [
    "- 전략\n",
    "    - 1. 분산분석을 위해 범주별로 데이터를 분할\n",
    "    - 2. boxplot으로 대략적인 데이터 확인\n",
    "    - 3. 일원분산 분석 실시\n",
    "    - 4. 해석\n",
    "    - 5. 사후검정"
   ]
  },
  {
   "cell_type": "code",
   "execution_count": 19,
   "metadata": {},
   "outputs": [],
   "source": [
    "# 1-1 범주에 따른 데이터 분할\n",
    "df_Forward = FIFA_part1[FIFA_part1['Position_class'] == 'Forward']\n",
    "df_Midfielder = FIFA_part1[FIFA_part1['Position_class'] == 'Midfielder']\n",
    "df_Defender = FIFA_part1[FIFA_part1['Position_class'] == 'Defender']\n",
    "df_GoalKeeper = FIFA_part1[FIFA_part1['Position_class'] == 'GoalKeeper']"
   ]
  },
  {
   "cell_type": "code",
   "execution_count": 20,
   "metadata": {},
   "outputs": [
    {
     "data": {
      "text/plain": [
       "{'whiskers': [<matplotlib.lines.Line2D at 0x2303629db50>,\n",
       "  <matplotlib.lines.Line2D at 0x2303629deb0>,\n",
       "  <matplotlib.lines.Line2D at 0x230362c43a0>,\n",
       "  <matplotlib.lines.Line2D at 0x230362c4700>,\n",
       "  <matplotlib.lines.Line2D at 0x230362cfb80>,\n",
       "  <matplotlib.lines.Line2D at 0x230362cfee0>,\n",
       "  <matplotlib.lines.Line2D at 0x230362e23a0>,\n",
       "  <matplotlib.lines.Line2D at 0x230362e2700>],\n",
       " 'caps': [<matplotlib.lines.Line2D at 0x230362b8250>,\n",
       "  <matplotlib.lines.Line2D at 0x230362b85b0>,\n",
       "  <matplotlib.lines.Line2D at 0x230362c4a60>,\n",
       "  <matplotlib.lines.Line2D at 0x230362c4dc0>,\n",
       "  <matplotlib.lines.Line2D at 0x230362d8280>,\n",
       "  <matplotlib.lines.Line2D at 0x230362d85e0>,\n",
       "  <matplotlib.lines.Line2D at 0x230362e2a60>,\n",
       "  <matplotlib.lines.Line2D at 0x230362e2dc0>],\n",
       " 'boxes': [<matplotlib.lines.Line2D at 0x2303629d7f0>,\n",
       "  <matplotlib.lines.Line2D at 0x230362c4040>,\n",
       "  <matplotlib.lines.Line2D at 0x230362cf820>,\n",
       "  <matplotlib.lines.Line2D at 0x230362e2040>],\n",
       " 'medians': [<matplotlib.lines.Line2D at 0x230362b8910>,\n",
       "  <matplotlib.lines.Line2D at 0x230362cf160>,\n",
       "  <matplotlib.lines.Line2D at 0x230362d8940>,\n",
       "  <matplotlib.lines.Line2D at 0x230362ee160>],\n",
       " 'fliers': [<matplotlib.lines.Line2D at 0x230362b8c10>,\n",
       "  <matplotlib.lines.Line2D at 0x230362cf460>,\n",
       "  <matplotlib.lines.Line2D at 0x230362d8c40>,\n",
       "  <matplotlib.lines.Line2D at 0x230362ee460>],\n",
       " 'means': []}"
      ]
     },
     "execution_count": 20,
     "metadata": {},
     "output_type": "execute_result"
    },
    {
     "data": {
      "image/png": "[encoded data removed]",
      "text/plain": [
       "<Figure size 720x432 with 1 Axes>"
      ]
     },
     "metadata": {
      "needs_background": "light"
     },
     "output_type": "display_data"
    }
   ],
   "source": [
    "# 2-1. boxplot 그려보기\n",
    "import matplotlib.pyplot as plt\n",
    "plt.figure(figsize = (10,6))\n",
    "plt.boxplot([df_Forward['Value'], df_Midfielder['Value'], df_Defender['Value'], df_GoalKeeper['Value']])"
   ]
  },
  {
   "cell_type": "code",
   "execution_count": 21,
   "metadata": {},
   "outputs": [],
   "source": [
    "# 3-1 일원분산분석 모델생성\n",
    "from statsmodels.formula.api import ols\n",
    "formula = 'Value ~ C(Position_class)'\n",
    "model = ols(formula, FIFA_part1).fit()"
   ]
  },
  {
   "cell_type": "code",
   "execution_count": 22,
   "metadata": {},
   "outputs": [
    {
     "data": {
      "text/html": [
       "<div>\n",
       "<style scoped>\n",
       "    .dataframe tbody tr th:only-of-type {\n",
       "        vertical-align: middle;\n",
       "    }\n",
       "\n",
       "    .dataframe tbody tr th {\n",
       "        vertical-align: top;\n",
       "    }\n",
       "\n",
       "    .dataframe thead th {\n",
       "        text-align: right;\n",
       "    }\n",
       "</style>\n",
       "<table border=\"1\" class=\"dataframe\">\n",
       "  <thead>\n",
       "    <tr style=\"text-align: right;\">\n",
       "      <th></th>\n",
       "      <th>df</th>\n",
       "      <th>sum_sq</th>\n",
       "      <th>mean_sq</th>\n",
       "      <th>F</th>\n",
       "      <th>PR(&gt;F)</th>\n",
       "    </tr>\n",
       "  </thead>\n",
       "  <tbody>\n",
       "    <tr>\n",
       "      <th>C(Position_class)</th>\n",
       "      <td>3.0</td>\n",
       "      <td>4.081181e+09</td>\n",
       "      <td>1.360394e+09</td>\n",
       "      <td>41.873906</td>\n",
       "      <td>5.988667e-27</td>\n",
       "    </tr>\n",
       "    <tr>\n",
       "      <th>Residual</th>\n",
       "      <td>16638.0</td>\n",
       "      <td>5.405330e+11</td>\n",
       "      <td>3.248786e+07</td>\n",
       "      <td>NaN</td>\n",
       "      <td>NaN</td>\n",
       "    </tr>\n",
       "  </tbody>\n",
       "</table>\n",
       "</div>"
      ],
      "text/plain": [
       "                        df        sum_sq       mean_sq          F  \\\n",
       "C(Position_class)      3.0  4.081181e+09  1.360394e+09  41.873906   \n",
       "Residual           16638.0  5.405330e+11  3.248786e+07        NaN   \n",
       "\n",
       "                         PR(>F)  \n",
       "C(Position_class)  5.988667e-27  \n",
       "Residual                    NaN  "
      ]
     },
     "execution_count": 22,
     "metadata": {},
     "output_type": "execute_result"
    }
   ],
   "source": [
    "# 3-2 일워분산분석 분석실시\n",
    "anova_lm(model)"
   ]
  },
  {
   "cell_type": "code",
   "execution_count": 23,
   "metadata": {},
   "outputs": [],
   "source": [
    "# 4-1 해석\n",
    "# 일원분산분석의 귀무가설과 대립가설을 살펴보자\n",
    "# 귀무가설 : 모든 범주의 평균값이 동일하다\n",
    "# 대립가설 : 적어도 하나의 범주의 평균값이 동일하지 않다\n",
    "# 현재, p-value가 0.05보다 매우 작으므로 귀무가설을 채택할 수 없다\n",
    "# 따라서, 모든 범주의 평균값이 동일한것은 아니다라고 결론지을 수 있다."
   ]
  },
  {
   "cell_type": "code",
   "execution_count": 24,
   "metadata": {},
   "outputs": [
    {
     "name": "stdout",
     "output_type": "stream",
     "text": [
      "        Multiple Comparison of Means - Tukey HSD, FWER=0.05         \n",
      "====================================================================\n",
      "  group1     group2    meandiff  p-adj    lower      upper    reject\n",
      "--------------------------------------------------------------------\n",
      "  Defender    Forward    930.373  0.001   610.7429  1250.0031   True\n",
      "  Defender GoalKeeper  -507.3848 0.0034  -887.6261  -127.1436   True\n",
      "  Defender Midfielder   760.8787  0.001   486.7123   1035.045   True\n",
      "   Forward GoalKeeper -1437.7579  0.001 -1865.9234 -1009.5923   True\n",
      "   Forward Midfielder  -169.4944 0.5609  -506.9991   168.0104  False\n",
      "GoalKeeper Midfielder  1268.2635  0.001   872.8782  1663.6488   True\n",
      "--------------------------------------------------------------------\n"
     ]
    }
   ],
   "source": [
    "# 5-1 사후검정 - 튜키의 HSD 방법을 이용\n",
    "from statsmodels.stats.multicomp import pairwise_tukeyhsd\n",
    "posthoc = pairwise_tukeyhsd(FIFA_part1['Value'], FIFA_part1['Position_class'])\n",
    "print(posthoc)"
   ]
  },
  {
   "cell_type": "code",
   "execution_count": 25,
   "metadata": {
    "scrolled": false
   },
   "outputs": [
    {
     "data": {
      "image/png": "[encoded data removed]",
      "text/plain": [
       "<Figure size 720x432 with 1 Axes>"
      ]
     },
     "metadata": {
      "needs_background": "light"
     },
     "output_type": "display_data"
    }
   ],
   "source": [
    "# 5-2 사후검정 - 시각화\n",
    "fig = posthoc.plot_simultaneous()"
   ]
  },
  {
   "cell_type": "code",
   "execution_count": 26,
   "metadata": {},
   "outputs": [],
   "source": [
    "# 5-3 사후검정 해석\n",
    "# 귀무가설 : 집단들 사이의 평균은 같다\n",
    "# 대립가설 : 적어도 하나의 집단의 평균은 다르다\n",
    "# Forward - Midfielder 그룹을 제외한 모든 그룹들간의 평균차이에 대한 p-ajd 값이 0.05보다 작다.\n",
    "# 따라서, 평균값이 동일하지 않다. 다만, Forward - Midfielder의 평균값은 같다고 말할 수 있다."
   ]
  },
  {
   "cell_type": "markdown",
   "metadata": {},
   "source": [
    "### 4)Preferred Foot과 Position_class변수에 따라 Value의 차이가 있는지를 알아보기 위해 이원배치분산분석을 수행하고 결과를 해석하시오."
   ]
  },
  {
   "cell_type": "code",
   "execution_count": 27,
   "metadata": {},
   "outputs": [],
   "source": [
    "# 필요한 부분만 데이터 추출하기\n",
    "FIFA_part2 = FIFA[['Preferred_Foot', 'Position_class', 'Value']]"
   ]
  },
  {
   "cell_type": "code",
   "execution_count": 28,
   "metadata": {},
   "outputs": [
    {
     "data": {
      "text/html": [
       "<div>\n",
       "<style scoped>\n",
       "    .dataframe tbody tr th:only-of-type {\n",
       "        vertical-align: middle;\n",
       "    }\n",
       "\n",
       "    .dataframe tbody tr th {\n",
       "        vertical-align: top;\n",
       "    }\n",
       "\n",
       "    .dataframe thead th {\n",
       "        text-align: right;\n",
       "    }\n",
       "</style>\n",
       "<table border=\"1\" class=\"dataframe\">\n",
       "  <thead>\n",
       "    <tr style=\"text-align: right;\">\n",
       "      <th></th>\n",
       "      <th>Preferred_Foot</th>\n",
       "      <th>Position_class</th>\n",
       "      <th>Value</th>\n",
       "    </tr>\n",
       "  </thead>\n",
       "  <tbody>\n",
       "    <tr>\n",
       "      <th>0</th>\n",
       "      <td>Left</td>\n",
       "      <td>Forward</td>\n",
       "      <td>110500</td>\n",
       "    </tr>\n",
       "    <tr>\n",
       "      <th>1</th>\n",
       "      <td>Right</td>\n",
       "      <td>Forward</td>\n",
       "      <td>77000</td>\n",
       "    </tr>\n",
       "    <tr>\n",
       "      <th>2</th>\n",
       "      <td>Right</td>\n",
       "      <td>Forward</td>\n",
       "      <td>118500</td>\n",
       "    </tr>\n",
       "    <tr>\n",
       "      <th>3</th>\n",
       "      <td>Right</td>\n",
       "      <td>GoalKeeper</td>\n",
       "      <td>72000</td>\n",
       "    </tr>\n",
       "    <tr>\n",
       "      <th>4</th>\n",
       "      <td>Right</td>\n",
       "      <td>Midfielder</td>\n",
       "      <td>102000</td>\n",
       "    </tr>\n",
       "    <tr>\n",
       "      <th>...</th>\n",
       "      <td>...</td>\n",
       "      <td>...</td>\n",
       "      <td>...</td>\n",
       "    </tr>\n",
       "    <tr>\n",
       "      <th>16637</th>\n",
       "      <td>Right</td>\n",
       "      <td>Midfielder</td>\n",
       "      <td>60</td>\n",
       "    </tr>\n",
       "    <tr>\n",
       "      <th>16638</th>\n",
       "      <td>Right</td>\n",
       "      <td>Forward</td>\n",
       "      <td>60</td>\n",
       "    </tr>\n",
       "    <tr>\n",
       "      <th>16639</th>\n",
       "      <td>Right</td>\n",
       "      <td>Forward</td>\n",
       "      <td>60</td>\n",
       "    </tr>\n",
       "    <tr>\n",
       "      <th>16640</th>\n",
       "      <td>Right</td>\n",
       "      <td>Forward</td>\n",
       "      <td>60</td>\n",
       "    </tr>\n",
       "    <tr>\n",
       "      <th>16641</th>\n",
       "      <td>Right</td>\n",
       "      <td>Midfielder</td>\n",
       "      <td>60</td>\n",
       "    </tr>\n",
       "  </tbody>\n",
       "</table>\n",
       "<p>16642 rows × 3 columns</p>\n",
       "</div>"
      ],
      "text/plain": [
       "      Preferred_Foot Position_class   Value\n",
       "0               Left        Forward  110500\n",
       "1              Right        Forward   77000\n",
       "2              Right        Forward  118500\n",
       "3              Right     GoalKeeper   72000\n",
       "4              Right     Midfielder  102000\n",
       "...              ...            ...     ...\n",
       "16637          Right     Midfielder      60\n",
       "16638          Right        Forward      60\n",
       "16639          Right        Forward      60\n",
       "16640          Right        Forward      60\n",
       "16641          Right     Midfielder      60\n",
       "\n",
       "[16642 rows x 3 columns]"
      ]
     },
     "execution_count": 28,
     "metadata": {},
     "output_type": "execute_result"
    }
   ],
   "source": [
    "# 데이터 확인하기\n",
    "FIFA_part2"
   ]
  },
  {
   "cell_type": "markdown",
   "metadata": {},
   "source": [
    "- 전략\n",
    "    - 1. 이원분산분석\n",
    "    - 2. 해석\n"
   ]
  },
  {
   "cell_type": "code",
   "execution_count": 29,
   "metadata": {},
   "outputs": [],
   "source": [
    "# 1-1. 이원분산분석 - 모델 생성\n",
    "formula = 'Value ~ C(Preferred_Foot)*C(Position_class)'\n",
    "model = ols(formula, FIFA_part2).fit()"
   ]
  },
  {
   "cell_type": "code",
   "execution_count": 30,
   "metadata": {},
   "outputs": [
    {
     "data": {
      "text/html": [
       "<div>\n",
       "<style scoped>\n",
       "    .dataframe tbody tr th:only-of-type {\n",
       "        vertical-align: middle;\n",
       "    }\n",
       "\n",
       "    .dataframe tbody tr th {\n",
       "        vertical-align: top;\n",
       "    }\n",
       "\n",
       "    .dataframe thead th {\n",
       "        text-align: right;\n",
       "    }\n",
       "</style>\n",
       "<table border=\"1\" class=\"dataframe\">\n",
       "  <thead>\n",
       "    <tr style=\"text-align: right;\">\n",
       "      <th></th>\n",
       "      <th>df</th>\n",
       "      <th>sum_sq</th>\n",
       "      <th>mean_sq</th>\n",
       "      <th>F</th>\n",
       "      <th>PR(&gt;F)</th>\n",
       "    </tr>\n",
       "  </thead>\n",
       "  <tbody>\n",
       "    <tr>\n",
       "      <th>C(Preferred_Foot)</th>\n",
       "      <td>1.0</td>\n",
       "      <td>1.460850e+08</td>\n",
       "      <td>1.460850e+08</td>\n",
       "      <td>4.500734</td>\n",
       "      <td>3.389505e-02</td>\n",
       "    </tr>\n",
       "    <tr>\n",
       "      <th>C(Position_class)</th>\n",
       "      <td>3.0</td>\n",
       "      <td>4.087367e+09</td>\n",
       "      <td>1.362456e+09</td>\n",
       "      <td>41.975902</td>\n",
       "      <td>5.151392e-27</td>\n",
       "    </tr>\n",
       "    <tr>\n",
       "      <th>C(Preferred_Foot):C(Position_class)</th>\n",
       "      <td>3.0</td>\n",
       "      <td>4.736156e+08</td>\n",
       "      <td>1.578719e+08</td>\n",
       "      <td>4.863874</td>\n",
       "      <td>2.207249e-03</td>\n",
       "    </tr>\n",
       "    <tr>\n",
       "      <th>Residual</th>\n",
       "      <td>16634.0</td>\n",
       "      <td>5.399071e+11</td>\n",
       "      <td>3.245805e+07</td>\n",
       "      <td>NaN</td>\n",
       "      <td>NaN</td>\n",
       "    </tr>\n",
       "  </tbody>\n",
       "</table>\n",
       "</div>"
      ],
      "text/plain": [
       "                                          df        sum_sq       mean_sq  \\\n",
       "C(Preferred_Foot)                        1.0  1.460850e+08  1.460850e+08   \n",
       "C(Position_class)                        3.0  4.087367e+09  1.362456e+09   \n",
       "C(Preferred_Foot):C(Position_class)      3.0  4.736156e+08  1.578719e+08   \n",
       "Residual                             16634.0  5.399071e+11  3.245805e+07   \n",
       "\n",
       "                                             F        PR(>F)  \n",
       "C(Preferred_Foot)                     4.500734  3.389505e-02  \n",
       "C(Position_class)                    41.975902  5.151392e-27  \n",
       "C(Preferred_Foot):C(Position_class)   4.863874  2.207249e-03  \n",
       "Residual                                   NaN           NaN  "
      ]
     },
     "execution_count": 30,
     "metadata": {},
     "output_type": "execute_result"
    }
   ],
   "source": [
    "# 1-1. 이원분산분석 - 데이터 분석\n",
    "anova_lm(model)"
   ]
  },
  {
   "cell_type": "code",
   "execution_count": 31,
   "metadata": {},
   "outputs": [],
   "source": [
    "# 2-2. 해석\n",
    "# 귀무가설\n",
    "# Preferred_Foot변수에 따른 Value의 값에는 차이가 없다.\n",
    "# Position_class변수에 따른 Value의 값에는 차이가 없다.\n",
    "# Preferred_Foot변수와 Position_class 상호작용의 효과가 없다.\n",
    "# 대립가설\n",
    "# Preferred_Foot변수에 따른 Value의 값에 차이가 있다.\n",
    "# Position_class변수에 따른 Value의 값에 차이가 있다.\n",
    "# Preferred_Foot변수와 Position_class 상호작용의 효과가 있다.\n",
    "# p-value의 값을 확인했을때, 3개의 변수에 작용에 대해서 모두 0.05보다 작은 값을 갖는다.\n",
    "# 따라서, 귀무가설을 채택할수 없고 대립가설을 채택한다.\n",
    "# 따라서, 변수에 따른 값의 변화가 있고, Preferred_Foot과 Position_class의 상호작용도 있다."
   ]
  },
  {
   "cell_type": "markdown",
   "metadata": {},
   "source": [
    "### 5) Age, Overall, Wage, Height_cm, Weight_lb가 Value에 영향을 미치는지 알아보는 회귀분석을 단계적 선택법을 사용하여 수행하고 결과를 해석"
   ]
  },
  {
   "cell_type": "code",
   "execution_count": 34,
   "metadata": {},
   "outputs": [],
   "source": [
    "# 필요한부분만 데이터 추출하기\n",
    "FIFA_part3 = FIFA[['Age', 'Overall', 'Wage', 'Height_cm', 'Weight_lb', 'Value']]"
   ]
  },
  {
   "cell_type": "code",
   "execution_count": 40,
   "metadata": {},
   "outputs": [
    {
     "data": {
      "text/html": [
       "<div>\n",
       "<style scoped>\n",
       "    .dataframe tbody tr th:only-of-type {\n",
       "        vertical-align: middle;\n",
       "    }\n",
       "\n",
       "    .dataframe tbody tr th {\n",
       "        vertical-align: top;\n",
       "    }\n",
       "\n",
       "    .dataframe thead th {\n",
       "        text-align: right;\n",
       "    }\n",
       "</style>\n",
       "<table border=\"1\" class=\"dataframe\">\n",
       "  <thead>\n",
       "    <tr style=\"text-align: right;\">\n",
       "      <th></th>\n",
       "      <th>Age</th>\n",
       "      <th>Overall</th>\n",
       "      <th>Wage</th>\n",
       "      <th>Height_cm</th>\n",
       "      <th>Weight_lb</th>\n",
       "      <th>Value</th>\n",
       "    </tr>\n",
       "  </thead>\n",
       "  <tbody>\n",
       "    <tr>\n",
       "      <th>0</th>\n",
       "      <td>31</td>\n",
       "      <td>94</td>\n",
       "      <td>565</td>\n",
       "      <td>167.5</td>\n",
       "      <td>159</td>\n",
       "      <td>110500</td>\n",
       "    </tr>\n",
       "    <tr>\n",
       "      <th>1</th>\n",
       "      <td>33</td>\n",
       "      <td>94</td>\n",
       "      <td>405</td>\n",
       "      <td>185.0</td>\n",
       "      <td>183</td>\n",
       "      <td>77000</td>\n",
       "    </tr>\n",
       "    <tr>\n",
       "      <th>2</th>\n",
       "      <td>26</td>\n",
       "      <td>92</td>\n",
       "      <td>290</td>\n",
       "      <td>172.5</td>\n",
       "      <td>150</td>\n",
       "      <td>118500</td>\n",
       "    </tr>\n",
       "    <tr>\n",
       "      <th>3</th>\n",
       "      <td>27</td>\n",
       "      <td>91</td>\n",
       "      <td>260</td>\n",
       "      <td>190.0</td>\n",
       "      <td>168</td>\n",
       "      <td>72000</td>\n",
       "    </tr>\n",
       "    <tr>\n",
       "      <th>4</th>\n",
       "      <td>27</td>\n",
       "      <td>91</td>\n",
       "      <td>355</td>\n",
       "      <td>177.5</td>\n",
       "      <td>154</td>\n",
       "      <td>102000</td>\n",
       "    </tr>\n",
       "    <tr>\n",
       "      <th>...</th>\n",
       "      <td>...</td>\n",
       "      <td>...</td>\n",
       "      <td>...</td>\n",
       "      <td>...</td>\n",
       "      <td>...</td>\n",
       "      <td>...</td>\n",
       "    </tr>\n",
       "    <tr>\n",
       "      <th>16637</th>\n",
       "      <td>19</td>\n",
       "      <td>47</td>\n",
       "      <td>1</td>\n",
       "      <td>172.5</td>\n",
       "      <td>134</td>\n",
       "      <td>60</td>\n",
       "    </tr>\n",
       "    <tr>\n",
       "      <th>16638</th>\n",
       "      <td>19</td>\n",
       "      <td>47</td>\n",
       "      <td>1</td>\n",
       "      <td>187.5</td>\n",
       "      <td>170</td>\n",
       "      <td>60</td>\n",
       "    </tr>\n",
       "    <tr>\n",
       "      <th>16639</th>\n",
       "      <td>16</td>\n",
       "      <td>47</td>\n",
       "      <td>1</td>\n",
       "      <td>170.0</td>\n",
       "      <td>148</td>\n",
       "      <td>60</td>\n",
       "    </tr>\n",
       "    <tr>\n",
       "      <th>16640</th>\n",
       "      <td>17</td>\n",
       "      <td>47</td>\n",
       "      <td>1</td>\n",
       "      <td>175.0</td>\n",
       "      <td>154</td>\n",
       "      <td>60</td>\n",
       "    </tr>\n",
       "    <tr>\n",
       "      <th>16641</th>\n",
       "      <td>16</td>\n",
       "      <td>46</td>\n",
       "      <td>1</td>\n",
       "      <td>175.0</td>\n",
       "      <td>176</td>\n",
       "      <td>60</td>\n",
       "    </tr>\n",
       "  </tbody>\n",
       "</table>\n",
       "<p>16642 rows × 6 columns</p>\n",
       "</div>"
      ],
      "text/plain": [
       "       Age  Overall  Wage  Height_cm  Weight_lb   Value\n",
       "0       31       94   565      167.5        159  110500\n",
       "1       33       94   405      185.0        183   77000\n",
       "2       26       92   290      172.5        150  118500\n",
       "3       27       91   260      190.0        168   72000\n",
       "4       27       91   355      177.5        154  102000\n",
       "...    ...      ...   ...        ...        ...     ...\n",
       "16637   19       47     1      172.5        134      60\n",
       "16638   19       47     1      187.5        170      60\n",
       "16639   16       47     1      170.0        148      60\n",
       "16640   17       47     1      175.0        154      60\n",
       "16641   16       46     1      175.0        176      60\n",
       "\n",
       "[16642 rows x 6 columns]"
      ]
     },
     "execution_count": 40,
     "metadata": {},
     "output_type": "execute_result"
    }
   ],
   "source": [
    "# 데이터 확인\n",
    "FIFA_part3"
   ]
  },
  {
   "cell_type": "code",
   "execution_count": 41,
   "metadata": {},
   "outputs": [],
   "source": [
    "# 데이터 분할\n",
    "X = FIFA_part3.drop('Value', axis = 1)\n",
    "y = FIFA_part3['Value']"
   ]
  },
  {
   "cell_type": "code",
   "execution_count": 47,
   "metadata": {},
   "outputs": [],
   "source": [
    "# 상수 더해주기 add_constant\n",
    "from statsmodels.api import add_constant\n",
    "X_new = add_constant(X)"
   ]
  },
  {
   "cell_type": "code",
   "execution_count": 49,
   "metadata": {},
   "outputs": [],
   "source": [
    "# 모델 생성 및 학습\n",
    "from statsmodels.api import OLS\n",
    "model = OLS(y, X_new)\n",
    "regression = model.fit()"
   ]
  },
  {
   "cell_type": "code",
   "execution_count": 50,
   "metadata": {},
   "outputs": [],
   "source": [
    "# 모델의 AIC\n",
    "AIC = regression.aic"
   ]
  },
  {
   "cell_type": "code",
   "execution_count": 52,
   "metadata": {},
   "outputs": [],
   "source": [
    "# 회귀모델과, AIC를 추출하는 함수\n",
    "def processSubset(X,y, feature_set):\n",
    "    model = OLS(y, X[feature_set])\n",
    "    regression = model.fit()\n",
    "    AIC = regression.aic\n",
    "    return {'model' : regression, 'AIC' : AIC}"
   ]
  },
  {
   "cell_type": "code",
   "execution_count": 53,
   "metadata": {},
   "outputs": [
    {
     "data": {
      "text/plain": [
       "{'model': <statsmodels.regression.linear_model.RegressionResultsWrapper at 0x2303ce21e50>,\n",
       " 'AIC': 309168.75716840284}"
      ]
     },
     "execution_count": 53,
     "metadata": {},
     "output_type": "execute_result"
    }
   ],
   "source": [
    "processSubset(X_new,y, X_new.columns)"
   ]
  },
  {
   "cell_type": "code",
   "execution_count": 77,
   "metadata": {},
   "outputs": [],
   "source": [
    "# 가장 낮은 AIC를 가지는 모델 선택 및 저장 - getBest\n",
    "import time\n",
    "import itertools\n",
    "def getBest(X,y,k):\n",
    "    tic = time.time() # 시작시간\n",
    "    results = list() # 결과 저장 변수\n",
    "    for combo in itertools.combinations(X_new.columns.difference(['const']),k-1 ):\n",
    "        combo = list(combo) + ['const']\n",
    "        results.append(processSubset(X_new, y, feature_set = combo))\n",
    "    models = pd.DataFrame(results)\n",
    "    best_model = models.loc[models['AIC'].argmin(),:]\n",
    "    toc = time.time() # 종료시간\n",
    "    print('processed', models.shape[0], 'models on', k, 'predictors in', (toc-tic), 'seconds')\n",
    "    return models, best_model"
   ]
  },
  {
   "cell_type": "code",
   "execution_count": 81,
   "metadata": {},
   "outputs": [
    {
     "name": "stdout",
     "output_type": "stream",
     "text": [
      "processed 5 models on 5 predictors in 0.04388308525085449 seconds\n"
     ]
    },
    {
     "data": {
      "text/html": [
       "<div>\n",
       "<style scoped>\n",
       "    .dataframe tbody tr th:only-of-type {\n",
       "        vertical-align: middle;\n",
       "    }\n",
       "\n",
       "    .dataframe tbody tr th {\n",
       "        vertical-align: top;\n",
       "    }\n",
       "\n",
       "    .dataframe thead th {\n",
       "        text-align: right;\n",
       "    }\n",
       "</style>\n",
       "<table border=\"1\" class=\"dataframe\">\n",
       "  <thead>\n",
       "    <tr style=\"text-align: right;\">\n",
       "      <th></th>\n",
       "      <th>model</th>\n",
       "      <th>AIC</th>\n",
       "    </tr>\n",
       "  </thead>\n",
       "  <tbody>\n",
       "    <tr>\n",
       "      <th>0</th>\n",
       "      <td>&lt;statsmodels.regression.linear_model.Regressio...</td>\n",
       "      <td>309167.661528</td>\n",
       "    </tr>\n",
       "    <tr>\n",
       "      <th>1</th>\n",
       "      <td>&lt;statsmodels.regression.linear_model.Regressio...</td>\n",
       "      <td>325087.104177</td>\n",
       "    </tr>\n",
       "    <tr>\n",
       "      <th>2</th>\n",
       "      <td>&lt;statsmodels.regression.linear_model.Regressio...</td>\n",
       "      <td>312447.893664</td>\n",
       "    </tr>\n",
       "    <tr>\n",
       "      <th>3</th>\n",
       "      <td>&lt;statsmodels.regression.linear_model.Regressio...</td>\n",
       "      <td>309167.876219</td>\n",
       "    </tr>\n",
       "    <tr>\n",
       "      <th>4</th>\n",
       "      <td>&lt;statsmodels.regression.linear_model.Regressio...</td>\n",
       "      <td>310695.685312</td>\n",
       "    </tr>\n",
       "  </tbody>\n",
       "</table>\n",
       "</div>"
      ],
      "text/plain": [
       "                                               model            AIC\n",
       "0  <statsmodels.regression.linear_model.Regressio...  309167.661528\n",
       "1  <statsmodels.regression.linear_model.Regressio...  325087.104177\n",
       "2  <statsmodels.regression.linear_model.Regressio...  312447.893664\n",
       "3  <statsmodels.regression.linear_model.Regressio...  309167.876219\n",
       "4  <statsmodels.regression.linear_model.Regressio...  310695.685312"
      ]
     },
     "execution_count": 81,
     "metadata": {},
     "output_type": "execute_result"
    }
   ],
   "source": [
    "# 모델 확인\n",
    "models = getBest(X_new, y , k = len(X_new.columns.difference(['const'])) )[0]\n",
    "models"
   ]
  },
  {
   "cell_type": "code",
   "execution_count": 82,
   "metadata": {},
   "outputs": [
    {
     "name": "stdout",
     "output_type": "stream",
     "text": [
      "processed 5 models on 5 predictors in 0.03690075874328613 seconds\n"
     ]
    },
    {
     "data": {
      "text/plain": [
       "model    <statsmodels.regression.linear_model.Regressio...\n",
       "AIC                                                 309168\n",
       "Name: 0, dtype: object"
      ]
     },
     "execution_count": 82,
     "metadata": {},
     "output_type": "execute_result"
    }
   ],
   "source": [
    "# 최적 모델\n",
    "best_model = getBest(X_new, y , k = len(X_new.columns.difference(['const'])) )[1]\n",
    "best_model"
   ]
  },
  {
   "cell_type": "code",
   "execution_count": 85,
   "metadata": {},
   "outputs": [
    {
     "data": {
      "text/html": [
       "<table class=\"simpletable\">\n",
       "<caption>OLS Regression Results</caption>\n",
       "<tr>\n",
       "  <th>Dep. Variable:</th>          <td>Value</td>      <th>  R-squared:         </th>  <td>   0.791</td>  \n",
       "</tr>\n",
       "<tr>\n",
       "  <th>Model:</th>                   <td>OLS</td>       <th>  Adj. R-squared:    </th>  <td>   0.791</td>  \n",
       "</tr>\n",
       "<tr>\n",
       "  <th>Method:</th>             <td>Least Squares</td>  <th>  F-statistic:       </th>  <td>1.572e+04</td> \n",
       "</tr>\n",
       "<tr>\n",
       "  <th>Date:</th>             <td>Mon, 19 Oct 2020</td> <th>  Prob (F-statistic):</th>   <td>  0.00</td>   \n",
       "</tr>\n",
       "<tr>\n",
       "  <th>Time:</th>                 <td>21:59:43</td>     <th>  Log-Likelihood:    </th> <td>-1.5458e+05</td>\n",
       "</tr>\n",
       "<tr>\n",
       "  <th>No. Observations:</th>      <td> 16642</td>      <th>  AIC:               </th>  <td>3.092e+05</td> \n",
       "</tr>\n",
       "<tr>\n",
       "  <th>Df Residuals:</th>          <td> 16637</td>      <th>  BIC:               </th>  <td>3.092e+05</td> \n",
       "</tr>\n",
       "<tr>\n",
       "  <th>Df Model:</th>              <td>     4</td>      <th>                     </th>      <td> </td>     \n",
       "</tr>\n",
       "<tr>\n",
       "  <th>Covariance Type:</th>      <td>nonrobust</td>    <th>                     </th>      <td> </td>     \n",
       "</tr>\n",
       "</table>\n",
       "<table class=\"simpletable\">\n",
       "<tr>\n",
       "      <td></td>         <th>coef</th>     <th>std err</th>      <th>t</th>      <th>P>|t|</th>  <th>[0.025</th>    <th>0.975]</th>  \n",
       "</tr>\n",
       "<tr>\n",
       "  <th>Age</th>       <td> -202.1603</td> <td>    4.938</td> <td>  -40.936</td> <td> 0.000</td> <td> -211.840</td> <td> -192.480</td>\n",
       "</tr>\n",
       "<tr>\n",
       "  <th>Height_cm</th> <td>   -8.4446</td> <td>    3.082</td> <td>   -2.740</td> <td> 0.006</td> <td>  -14.486</td> <td>   -2.403</td>\n",
       "</tr>\n",
       "<tr>\n",
       "  <th>Overall</th>   <td>  241.3450</td> <td>    4.002</td> <td>   60.310</td> <td> 0.000</td> <td>  233.501</td> <td>  249.189</td>\n",
       "</tr>\n",
       "<tr>\n",
       "  <th>Wage</th>      <td>  184.1837</td> <td>    1.128</td> <td>  163.317</td> <td> 0.000</td> <td>  181.973</td> <td>  186.394</td>\n",
       "</tr>\n",
       "<tr>\n",
       "  <th>const</th>     <td>-8690.8178</td> <td>  588.280</td> <td>  -14.773</td> <td> 0.000</td> <td>-9843.908</td> <td>-7537.727</td>\n",
       "</tr>\n",
       "</table>\n",
       "<table class=\"simpletable\">\n",
       "<tr>\n",
       "  <th>Omnibus:</th>       <td>17089.038</td> <th>  Durbin-Watson:     </th>  <td>   1.407</td>  \n",
       "</tr>\n",
       "<tr>\n",
       "  <th>Prob(Omnibus):</th>  <td> 0.000</td>   <th>  Jarque-Bera (JB):  </th> <td>3525378.426</td>\n",
       "</tr>\n",
       "<tr>\n",
       "  <th>Skew:</th>           <td> 4.665</td>   <th>  Prob(JB):          </th>  <td>    0.00</td>  \n",
       "</tr>\n",
       "<tr>\n",
       "  <th>Kurtosis:</th>       <td>73.690</td>   <th>  Cond. No.          </th>  <td>5.58e+03</td>  \n",
       "</tr>\n",
       "</table><br/><br/>Warnings:<br/>[1] Standard Errors assume that the covariance matrix of the errors is correctly specified.<br/>[2] The condition number is large, 5.58e+03. This might indicate that there are<br/>strong multicollinearity or other numerical problems."
      ],
      "text/plain": [
       "<class 'statsmodels.iolib.summary.Summary'>\n",
       "\"\"\"\n",
       "                            OLS Regression Results                            \n",
       "==============================================================================\n",
       "Dep. Variable:                  Value   R-squared:                       0.791\n",
       "Model:                            OLS   Adj. R-squared:                  0.791\n",
       "Method:                 Least Squares   F-statistic:                 1.572e+04\n",
       "Date:                Mon, 19 Oct 2020   Prob (F-statistic):               0.00\n",
       "Time:                        21:59:43   Log-Likelihood:            -1.5458e+05\n",
       "No. Observations:               16642   AIC:                         3.092e+05\n",
       "Df Residuals:                   16637   BIC:                         3.092e+05\n",
       "Df Model:                           4                                         \n",
       "Covariance Type:            nonrobust                                         \n",
       "==============================================================================\n",
       "                 coef    std err          t      P>|t|      [0.025      0.975]\n",
       "------------------------------------------------------------------------------\n",
       "Age         -202.1603      4.938    -40.936      0.000    -211.840    -192.480\n",
       "Height_cm     -8.4446      3.082     -2.740      0.006     -14.486      -2.403\n",
       "Overall      241.3450      4.002     60.310      0.000     233.501     249.189\n",
       "Wage         184.1837      1.128    163.317      0.000     181.973     186.394\n",
       "const      -8690.8178    588.280    -14.773      0.000   -9843.908   -7537.727\n",
       "==============================================================================\n",
       "Omnibus:                    17089.038   Durbin-Watson:                   1.407\n",
       "Prob(Omnibus):                  0.000   Jarque-Bera (JB):          3525378.426\n",
       "Skew:                           4.665   Prob(JB):                         0.00\n",
       "Kurtosis:                      73.690   Cond. No.                     5.58e+03\n",
       "==============================================================================\n",
       "\n",
       "Warnings:\n",
       "[1] Standard Errors assume that the covariance matrix of the errors is correctly specified.\n",
       "[2] The condition number is large, 5.58e+03. This might indicate that there are\n",
       "strong multicollinearity or other numerical problems.\n",
       "\"\"\""
      ]
     },
     "execution_count": 85,
     "metadata": {},
     "output_type": "execute_result"
    }
   ],
   "source": [
    "# 베스트 모델 정보\n",
    "best_model['model']"
   ]
  },
  {
   "cell_type": "code",
   "execution_count": null,
   "metadata": {},
   "outputs": [],
   "source": []
  }
 ],
 "metadata": {
  "kernelspec": {
   "display_name": "Python 3",
   "language": "python",
   "name": "python3"
  },
  "language_info": {
   "codemirror_mode": {
    "name": "ipython",
    "version": 3
   },
   "file_extension": ".py",
   "mimetype": "text/x-python",
   "name": "python",
   "nbconvert_exporter": "python",
   "pygments_lexer": "ipython3",
   "version": "3.8.3"
  }
 },
 "nbformat": 4,
 "nbformat_minor": 4
}

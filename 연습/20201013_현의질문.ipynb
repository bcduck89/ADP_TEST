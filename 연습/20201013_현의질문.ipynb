{
 "cells": [
  {
   "cell_type": "markdown",
   "metadata": {},
   "source": [
    "문제 : 216에 어떤 자연수를 곱하여 제곱수가 되도록 만들 때,\n",
    "\n",
    "$ 4 = 2 * 2 = 2^2 $\n",
    "<br>\n",
    "$ 16 = 4 ^2 =  4 x 4 = 2^2 x 2^2 = 2^4$\n",
    "<br>\n",
    "$ 256 = 16^2 = (4)^2x(4)^2 =(2^2)^2 x (2^2)^2 = 2^8 $\n",
    "\n",
    "$ 36 = 6^2 = (2x3)^2 = 2^2 x 3^2$"
   ]
  },
  {
   "cell_type": "markdown",
   "metadata": {},
   "source": [
    "$ 360 = 2^3 x 3^2 x 5 $ \n",
    "<br>\n",
    "  $ 360 / 2 / 5  = \\frac{360}{10}    = 2^2 x 3^2 $"
   ]
  },
  {
   "cell_type": "markdown",
   "metadata": {},
   "source": [
    "사실 : 216이라는 수\n",
    "조건 : 216보다 크고 216에 가장 가까운 제곱수\n",
    "구해야할것 : 어떤수를 곱해야하는지 ?\n",
    "전략 : 216을 소인수분해 한다 => 사업가의 역량\n",
    "이용한 성질 : 제곱수는 지수가 짝수다 => 사업가가 자기계발을 통해 계속 쌓아야하는부분"
   ]
  }
 ],
 "metadata": {
  "kernelspec": {
   "display_name": "Python 3",
   "language": "python",
   "name": "python3"
  },
  "language_info": {
   "codemirror_mode": {
    "name": "ipython",
    "version": 3
   },
   "file_extension": ".py",
   "mimetype": "text/x-python",
   "name": "python",
   "nbconvert_exporter": "python",
   "pygments_lexer": "ipython3",
   "version": "3.8.3"
  }
 },
 "nbformat": 4,
 "nbformat_minor": 4
}
